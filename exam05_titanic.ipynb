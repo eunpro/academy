{
  "nbformat": 4,
  "nbformat_minor": 0,
  "metadata": {
    "colab": {
      "name": "exam05_titanic.ipynb",
      "provenance": [],
      "collapsed_sections": [],
      "authorship_tag": "ABX9TyNtvytuiDNmWNfIRn1u4LnW",
      "include_colab_link": true
    },
    "kernelspec": {
      "name": "python3",
      "display_name": "Python 3"
    },
    "language_info": {
      "name": "python"
    }
  },
  "cells": [
    {
      "cell_type": "markdown",
      "metadata": {
        "id": "view-in-github",
        "colab_type": "text"
      },
      "source": [
        "<a href=\"https://colab.research.google.com/github/eunpro/academy/blob/main/exam05_titanic.ipynb\" target=\"_parent\"><img src=\"https://colab.research.google.com/assets/colab-badge.svg\" alt=\"Open In Colab\"/></a>"
      ]
    },
    {
      "cell_type": "code",
      "metadata": {
        "id": "H36m9pYvW3ke"
      },
      "source": [
        "import seaborn as sns\n",
        "import pandas as pd\n",
        "import numpy as np\n",
        "import matplotlib.pyplot as plt"
      ],
      "execution_count": null,
      "outputs": []
    },
    {
      "cell_type": "code",
      "metadata": {
        "id": "Ekw5k0zSYM1I"
      },
      "source": [
        "pd.set_option('display.max_columns',15)\n",
        "pd.set_option('display.max_row',500)"
      ],
      "execution_count": null,
      "outputs": []
    },
    {
      "cell_type": "code",
      "metadata": {
        "colab": {
          "base_uri": "https://localhost:8080/",
          "height": 1000
        },
        "id": "qUEvEFKoXLDK",
        "outputId": "645d5d5d-aa8b-4659-fd78-90b83c5b5084"
      },
      "source": [
        "raw_data = sns.load_dataset('titanic')\n",
        "raw_data.head(50)#head()는 기본 5개까지만 보여줌"
      ],
      "execution_count": null,
      "outputs": [
        {
          "output_type": "execute_result",
          "data": {
            "text/html": [
              "<div>\n",
              "<style scoped>\n",
              "    .dataframe tbody tr th:only-of-type {\n",
              "        vertical-align: middle;\n",
              "    }\n",
              "\n",
              "    .dataframe tbody tr th {\n",
              "        vertical-align: top;\n",
              "    }\n",
              "\n",
              "    .dataframe thead th {\n",
              "        text-align: right;\n",
              "    }\n",
              "</style>\n",
              "<table border=\"1\" class=\"dataframe\">\n",
              "  <thead>\n",
              "    <tr style=\"text-align: right;\">\n",
              "      <th></th>\n",
              "      <th>survived</th>\n",
              "      <th>pclass</th>\n",
              "      <th>sex</th>\n",
              "      <th>age</th>\n",
              "      <th>sibsp</th>\n",
              "      <th>parch</th>\n",
              "      <th>fare</th>\n",
              "      <th>embarked</th>\n",
              "      <th>class</th>\n",
              "      <th>who</th>\n",
              "      <th>adult_male</th>\n",
              "      <th>deck</th>\n",
              "      <th>embark_town</th>\n",
              "      <th>alive</th>\n",
              "      <th>alone</th>\n",
              "    </tr>\n",
              "  </thead>\n",
              "  <tbody>\n",
              "    <tr>\n",
              "      <th>0</th>\n",
              "      <td>0</td>\n",
              "      <td>3</td>\n",
              "      <td>male</td>\n",
              "      <td>22.0</td>\n",
              "      <td>1</td>\n",
              "      <td>0</td>\n",
              "      <td>7.2500</td>\n",
              "      <td>S</td>\n",
              "      <td>Third</td>\n",
              "      <td>man</td>\n",
              "      <td>True</td>\n",
              "      <td>NaN</td>\n",
              "      <td>Southampton</td>\n",
              "      <td>no</td>\n",
              "      <td>False</td>\n",
              "    </tr>\n",
              "    <tr>\n",
              "      <th>1</th>\n",
              "      <td>1</td>\n",
              "      <td>1</td>\n",
              "      <td>female</td>\n",
              "      <td>38.0</td>\n",
              "      <td>1</td>\n",
              "      <td>0</td>\n",
              "      <td>71.2833</td>\n",
              "      <td>C</td>\n",
              "      <td>First</td>\n",
              "      <td>woman</td>\n",
              "      <td>False</td>\n",
              "      <td>C</td>\n",
              "      <td>Cherbourg</td>\n",
              "      <td>yes</td>\n",
              "      <td>False</td>\n",
              "    </tr>\n",
              "    <tr>\n",
              "      <th>2</th>\n",
              "      <td>1</td>\n",
              "      <td>3</td>\n",
              "      <td>female</td>\n",
              "      <td>26.0</td>\n",
              "      <td>0</td>\n",
              "      <td>0</td>\n",
              "      <td>7.9250</td>\n",
              "      <td>S</td>\n",
              "      <td>Third</td>\n",
              "      <td>woman</td>\n",
              "      <td>False</td>\n",
              "      <td>NaN</td>\n",
              "      <td>Southampton</td>\n",
              "      <td>yes</td>\n",
              "      <td>True</td>\n",
              "    </tr>\n",
              "    <tr>\n",
              "      <th>3</th>\n",
              "      <td>1</td>\n",
              "      <td>1</td>\n",
              "      <td>female</td>\n",
              "      <td>35.0</td>\n",
              "      <td>1</td>\n",
              "      <td>0</td>\n",
              "      <td>53.1000</td>\n",
              "      <td>S</td>\n",
              "      <td>First</td>\n",
              "      <td>woman</td>\n",
              "      <td>False</td>\n",
              "      <td>C</td>\n",
              "      <td>Southampton</td>\n",
              "      <td>yes</td>\n",
              "      <td>False</td>\n",
              "    </tr>\n",
              "    <tr>\n",
              "      <th>4</th>\n",
              "      <td>0</td>\n",
              "      <td>3</td>\n",
              "      <td>male</td>\n",
              "      <td>35.0</td>\n",
              "      <td>0</td>\n",
              "      <td>0</td>\n",
              "      <td>8.0500</td>\n",
              "      <td>S</td>\n",
              "      <td>Third</td>\n",
              "      <td>man</td>\n",
              "      <td>True</td>\n",
              "      <td>NaN</td>\n",
              "      <td>Southampton</td>\n",
              "      <td>no</td>\n",
              "      <td>True</td>\n",
              "    </tr>\n",
              "    <tr>\n",
              "      <th>5</th>\n",
              "      <td>0</td>\n",
              "      <td>3</td>\n",
              "      <td>male</td>\n",
              "      <td>NaN</td>\n",
              "      <td>0</td>\n",
              "      <td>0</td>\n",
              "      <td>8.4583</td>\n",
              "      <td>Q</td>\n",
              "      <td>Third</td>\n",
              "      <td>man</td>\n",
              "      <td>True</td>\n",
              "      <td>NaN</td>\n",
              "      <td>Queenstown</td>\n",
              "      <td>no</td>\n",
              "      <td>True</td>\n",
              "    </tr>\n",
              "    <tr>\n",
              "      <th>6</th>\n",
              "      <td>0</td>\n",
              "      <td>1</td>\n",
              "      <td>male</td>\n",
              "      <td>54.0</td>\n",
              "      <td>0</td>\n",
              "      <td>0</td>\n",
              "      <td>51.8625</td>\n",
              "      <td>S</td>\n",
              "      <td>First</td>\n",
              "      <td>man</td>\n",
              "      <td>True</td>\n",
              "      <td>E</td>\n",
              "      <td>Southampton</td>\n",
              "      <td>no</td>\n",
              "      <td>True</td>\n",
              "    </tr>\n",
              "    <tr>\n",
              "      <th>7</th>\n",
              "      <td>0</td>\n",
              "      <td>3</td>\n",
              "      <td>male</td>\n",
              "      <td>2.0</td>\n",
              "      <td>3</td>\n",
              "      <td>1</td>\n",
              "      <td>21.0750</td>\n",
              "      <td>S</td>\n",
              "      <td>Third</td>\n",
              "      <td>child</td>\n",
              "      <td>False</td>\n",
              "      <td>NaN</td>\n",
              "      <td>Southampton</td>\n",
              "      <td>no</td>\n",
              "      <td>False</td>\n",
              "    </tr>\n",
              "    <tr>\n",
              "      <th>8</th>\n",
              "      <td>1</td>\n",
              "      <td>3</td>\n",
              "      <td>female</td>\n",
              "      <td>27.0</td>\n",
              "      <td>0</td>\n",
              "      <td>2</td>\n",
              "      <td>11.1333</td>\n",
              "      <td>S</td>\n",
              "      <td>Third</td>\n",
              "      <td>woman</td>\n",
              "      <td>False</td>\n",
              "      <td>NaN</td>\n",
              "      <td>Southampton</td>\n",
              "      <td>yes</td>\n",
              "      <td>False</td>\n",
              "    </tr>\n",
              "    <tr>\n",
              "      <th>9</th>\n",
              "      <td>1</td>\n",
              "      <td>2</td>\n",
              "      <td>female</td>\n",
              "      <td>14.0</td>\n",
              "      <td>1</td>\n",
              "      <td>0</td>\n",
              "      <td>30.0708</td>\n",
              "      <td>C</td>\n",
              "      <td>Second</td>\n",
              "      <td>child</td>\n",
              "      <td>False</td>\n",
              "      <td>NaN</td>\n",
              "      <td>Cherbourg</td>\n",
              "      <td>yes</td>\n",
              "      <td>False</td>\n",
              "    </tr>\n",
              "    <tr>\n",
              "      <th>10</th>\n",
              "      <td>1</td>\n",
              "      <td>3</td>\n",
              "      <td>female</td>\n",
              "      <td>4.0</td>\n",
              "      <td>1</td>\n",
              "      <td>1</td>\n",
              "      <td>16.7000</td>\n",
              "      <td>S</td>\n",
              "      <td>Third</td>\n",
              "      <td>child</td>\n",
              "      <td>False</td>\n",
              "      <td>G</td>\n",
              "      <td>Southampton</td>\n",
              "      <td>yes</td>\n",
              "      <td>False</td>\n",
              "    </tr>\n",
              "    <tr>\n",
              "      <th>11</th>\n",
              "      <td>1</td>\n",
              "      <td>1</td>\n",
              "      <td>female</td>\n",
              "      <td>58.0</td>\n",
              "      <td>0</td>\n",
              "      <td>0</td>\n",
              "      <td>26.5500</td>\n",
              "      <td>S</td>\n",
              "      <td>First</td>\n",
              "      <td>woman</td>\n",
              "      <td>False</td>\n",
              "      <td>C</td>\n",
              "      <td>Southampton</td>\n",
              "      <td>yes</td>\n",
              "      <td>True</td>\n",
              "    </tr>\n",
              "    <tr>\n",
              "      <th>12</th>\n",
              "      <td>0</td>\n",
              "      <td>3</td>\n",
              "      <td>male</td>\n",
              "      <td>20.0</td>\n",
              "      <td>0</td>\n",
              "      <td>0</td>\n",
              "      <td>8.0500</td>\n",
              "      <td>S</td>\n",
              "      <td>Third</td>\n",
              "      <td>man</td>\n",
              "      <td>True</td>\n",
              "      <td>NaN</td>\n",
              "      <td>Southampton</td>\n",
              "      <td>no</td>\n",
              "      <td>True</td>\n",
              "    </tr>\n",
              "    <tr>\n",
              "      <th>13</th>\n",
              "      <td>0</td>\n",
              "      <td>3</td>\n",
              "      <td>male</td>\n",
              "      <td>39.0</td>\n",
              "      <td>1</td>\n",
              "      <td>5</td>\n",
              "      <td>31.2750</td>\n",
              "      <td>S</td>\n",
              "      <td>Third</td>\n",
              "      <td>man</td>\n",
              "      <td>True</td>\n",
              "      <td>NaN</td>\n",
              "      <td>Southampton</td>\n",
              "      <td>no</td>\n",
              "      <td>False</td>\n",
              "    </tr>\n",
              "    <tr>\n",
              "      <th>14</th>\n",
              "      <td>0</td>\n",
              "      <td>3</td>\n",
              "      <td>female</td>\n",
              "      <td>14.0</td>\n",
              "      <td>0</td>\n",
              "      <td>0</td>\n",
              "      <td>7.8542</td>\n",
              "      <td>S</td>\n",
              "      <td>Third</td>\n",
              "      <td>child</td>\n",
              "      <td>False</td>\n",
              "      <td>NaN</td>\n",
              "      <td>Southampton</td>\n",
              "      <td>no</td>\n",
              "      <td>True</td>\n",
              "    </tr>\n",
              "    <tr>\n",
              "      <th>15</th>\n",
              "      <td>1</td>\n",
              "      <td>2</td>\n",
              "      <td>female</td>\n",
              "      <td>55.0</td>\n",
              "      <td>0</td>\n",
              "      <td>0</td>\n",
              "      <td>16.0000</td>\n",
              "      <td>S</td>\n",
              "      <td>Second</td>\n",
              "      <td>woman</td>\n",
              "      <td>False</td>\n",
              "      <td>NaN</td>\n",
              "      <td>Southampton</td>\n",
              "      <td>yes</td>\n",
              "      <td>True</td>\n",
              "    </tr>\n",
              "    <tr>\n",
              "      <th>16</th>\n",
              "      <td>0</td>\n",
              "      <td>3</td>\n",
              "      <td>male</td>\n",
              "      <td>2.0</td>\n",
              "      <td>4</td>\n",
              "      <td>1</td>\n",
              "      <td>29.1250</td>\n",
              "      <td>Q</td>\n",
              "      <td>Third</td>\n",
              "      <td>child</td>\n",
              "      <td>False</td>\n",
              "      <td>NaN</td>\n",
              "      <td>Queenstown</td>\n",
              "      <td>no</td>\n",
              "      <td>False</td>\n",
              "    </tr>\n",
              "    <tr>\n",
              "      <th>17</th>\n",
              "      <td>1</td>\n",
              "      <td>2</td>\n",
              "      <td>male</td>\n",
              "      <td>NaN</td>\n",
              "      <td>0</td>\n",
              "      <td>0</td>\n",
              "      <td>13.0000</td>\n",
              "      <td>S</td>\n",
              "      <td>Second</td>\n",
              "      <td>man</td>\n",
              "      <td>True</td>\n",
              "      <td>NaN</td>\n",
              "      <td>Southampton</td>\n",
              "      <td>yes</td>\n",
              "      <td>True</td>\n",
              "    </tr>\n",
              "    <tr>\n",
              "      <th>18</th>\n",
              "      <td>0</td>\n",
              "      <td>3</td>\n",
              "      <td>female</td>\n",
              "      <td>31.0</td>\n",
              "      <td>1</td>\n",
              "      <td>0</td>\n",
              "      <td>18.0000</td>\n",
              "      <td>S</td>\n",
              "      <td>Third</td>\n",
              "      <td>woman</td>\n",
              "      <td>False</td>\n",
              "      <td>NaN</td>\n",
              "      <td>Southampton</td>\n",
              "      <td>no</td>\n",
              "      <td>False</td>\n",
              "    </tr>\n",
              "    <tr>\n",
              "      <th>19</th>\n",
              "      <td>1</td>\n",
              "      <td>3</td>\n",
              "      <td>female</td>\n",
              "      <td>NaN</td>\n",
              "      <td>0</td>\n",
              "      <td>0</td>\n",
              "      <td>7.2250</td>\n",
              "      <td>C</td>\n",
              "      <td>Third</td>\n",
              "      <td>woman</td>\n",
              "      <td>False</td>\n",
              "      <td>NaN</td>\n",
              "      <td>Cherbourg</td>\n",
              "      <td>yes</td>\n",
              "      <td>True</td>\n",
              "    </tr>\n",
              "    <tr>\n",
              "      <th>20</th>\n",
              "      <td>0</td>\n",
              "      <td>2</td>\n",
              "      <td>male</td>\n",
              "      <td>35.0</td>\n",
              "      <td>0</td>\n",
              "      <td>0</td>\n",
              "      <td>26.0000</td>\n",
              "      <td>S</td>\n",
              "      <td>Second</td>\n",
              "      <td>man</td>\n",
              "      <td>True</td>\n",
              "      <td>NaN</td>\n",
              "      <td>Southampton</td>\n",
              "      <td>no</td>\n",
              "      <td>True</td>\n",
              "    </tr>\n",
              "    <tr>\n",
              "      <th>21</th>\n",
              "      <td>1</td>\n",
              "      <td>2</td>\n",
              "      <td>male</td>\n",
              "      <td>34.0</td>\n",
              "      <td>0</td>\n",
              "      <td>0</td>\n",
              "      <td>13.0000</td>\n",
              "      <td>S</td>\n",
              "      <td>Second</td>\n",
              "      <td>man</td>\n",
              "      <td>True</td>\n",
              "      <td>D</td>\n",
              "      <td>Southampton</td>\n",
              "      <td>yes</td>\n",
              "      <td>True</td>\n",
              "    </tr>\n",
              "    <tr>\n",
              "      <th>22</th>\n",
              "      <td>1</td>\n",
              "      <td>3</td>\n",
              "      <td>female</td>\n",
              "      <td>15.0</td>\n",
              "      <td>0</td>\n",
              "      <td>0</td>\n",
              "      <td>8.0292</td>\n",
              "      <td>Q</td>\n",
              "      <td>Third</td>\n",
              "      <td>child</td>\n",
              "      <td>False</td>\n",
              "      <td>NaN</td>\n",
              "      <td>Queenstown</td>\n",
              "      <td>yes</td>\n",
              "      <td>True</td>\n",
              "    </tr>\n",
              "    <tr>\n",
              "      <th>23</th>\n",
              "      <td>1</td>\n",
              "      <td>1</td>\n",
              "      <td>male</td>\n",
              "      <td>28.0</td>\n",
              "      <td>0</td>\n",
              "      <td>0</td>\n",
              "      <td>35.5000</td>\n",
              "      <td>S</td>\n",
              "      <td>First</td>\n",
              "      <td>man</td>\n",
              "      <td>True</td>\n",
              "      <td>A</td>\n",
              "      <td>Southampton</td>\n",
              "      <td>yes</td>\n",
              "      <td>True</td>\n",
              "    </tr>\n",
              "    <tr>\n",
              "      <th>24</th>\n",
              "      <td>0</td>\n",
              "      <td>3</td>\n",
              "      <td>female</td>\n",
              "      <td>8.0</td>\n",
              "      <td>3</td>\n",
              "      <td>1</td>\n",
              "      <td>21.0750</td>\n",
              "      <td>S</td>\n",
              "      <td>Third</td>\n",
              "      <td>child</td>\n",
              "      <td>False</td>\n",
              "      <td>NaN</td>\n",
              "      <td>Southampton</td>\n",
              "      <td>no</td>\n",
              "      <td>False</td>\n",
              "    </tr>\n",
              "    <tr>\n",
              "      <th>25</th>\n",
              "      <td>1</td>\n",
              "      <td>3</td>\n",
              "      <td>female</td>\n",
              "      <td>38.0</td>\n",
              "      <td>1</td>\n",
              "      <td>5</td>\n",
              "      <td>31.3875</td>\n",
              "      <td>S</td>\n",
              "      <td>Third</td>\n",
              "      <td>woman</td>\n",
              "      <td>False</td>\n",
              "      <td>NaN</td>\n",
              "      <td>Southampton</td>\n",
              "      <td>yes</td>\n",
              "      <td>False</td>\n",
              "    </tr>\n",
              "    <tr>\n",
              "      <th>26</th>\n",
              "      <td>0</td>\n",
              "      <td>3</td>\n",
              "      <td>male</td>\n",
              "      <td>NaN</td>\n",
              "      <td>0</td>\n",
              "      <td>0</td>\n",
              "      <td>7.2250</td>\n",
              "      <td>C</td>\n",
              "      <td>Third</td>\n",
              "      <td>man</td>\n",
              "      <td>True</td>\n",
              "      <td>NaN</td>\n",
              "      <td>Cherbourg</td>\n",
              "      <td>no</td>\n",
              "      <td>True</td>\n",
              "    </tr>\n",
              "    <tr>\n",
              "      <th>27</th>\n",
              "      <td>0</td>\n",
              "      <td>1</td>\n",
              "      <td>male</td>\n",
              "      <td>19.0</td>\n",
              "      <td>3</td>\n",
              "      <td>2</td>\n",
              "      <td>263.0000</td>\n",
              "      <td>S</td>\n",
              "      <td>First</td>\n",
              "      <td>man</td>\n",
              "      <td>True</td>\n",
              "      <td>C</td>\n",
              "      <td>Southampton</td>\n",
              "      <td>no</td>\n",
              "      <td>False</td>\n",
              "    </tr>\n",
              "    <tr>\n",
              "      <th>28</th>\n",
              "      <td>1</td>\n",
              "      <td>3</td>\n",
              "      <td>female</td>\n",
              "      <td>NaN</td>\n",
              "      <td>0</td>\n",
              "      <td>0</td>\n",
              "      <td>7.8792</td>\n",
              "      <td>Q</td>\n",
              "      <td>Third</td>\n",
              "      <td>woman</td>\n",
              "      <td>False</td>\n",
              "      <td>NaN</td>\n",
              "      <td>Queenstown</td>\n",
              "      <td>yes</td>\n",
              "      <td>True</td>\n",
              "    </tr>\n",
              "    <tr>\n",
              "      <th>29</th>\n",
              "      <td>0</td>\n",
              "      <td>3</td>\n",
              "      <td>male</td>\n",
              "      <td>NaN</td>\n",
              "      <td>0</td>\n",
              "      <td>0</td>\n",
              "      <td>7.8958</td>\n",
              "      <td>S</td>\n",
              "      <td>Third</td>\n",
              "      <td>man</td>\n",
              "      <td>True</td>\n",
              "      <td>NaN</td>\n",
              "      <td>Southampton</td>\n",
              "      <td>no</td>\n",
              "      <td>True</td>\n",
              "    </tr>\n",
              "    <tr>\n",
              "      <th>30</th>\n",
              "      <td>0</td>\n",
              "      <td>1</td>\n",
              "      <td>male</td>\n",
              "      <td>40.0</td>\n",
              "      <td>0</td>\n",
              "      <td>0</td>\n",
              "      <td>27.7208</td>\n",
              "      <td>C</td>\n",
              "      <td>First</td>\n",
              "      <td>man</td>\n",
              "      <td>True</td>\n",
              "      <td>NaN</td>\n",
              "      <td>Cherbourg</td>\n",
              "      <td>no</td>\n",
              "      <td>True</td>\n",
              "    </tr>\n",
              "    <tr>\n",
              "      <th>31</th>\n",
              "      <td>1</td>\n",
              "      <td>1</td>\n",
              "      <td>female</td>\n",
              "      <td>NaN</td>\n",
              "      <td>1</td>\n",
              "      <td>0</td>\n",
              "      <td>146.5208</td>\n",
              "      <td>C</td>\n",
              "      <td>First</td>\n",
              "      <td>woman</td>\n",
              "      <td>False</td>\n",
              "      <td>B</td>\n",
              "      <td>Cherbourg</td>\n",
              "      <td>yes</td>\n",
              "      <td>False</td>\n",
              "    </tr>\n",
              "    <tr>\n",
              "      <th>32</th>\n",
              "      <td>1</td>\n",
              "      <td>3</td>\n",
              "      <td>female</td>\n",
              "      <td>NaN</td>\n",
              "      <td>0</td>\n",
              "      <td>0</td>\n",
              "      <td>7.7500</td>\n",
              "      <td>Q</td>\n",
              "      <td>Third</td>\n",
              "      <td>woman</td>\n",
              "      <td>False</td>\n",
              "      <td>NaN</td>\n",
              "      <td>Queenstown</td>\n",
              "      <td>yes</td>\n",
              "      <td>True</td>\n",
              "    </tr>\n",
              "    <tr>\n",
              "      <th>33</th>\n",
              "      <td>0</td>\n",
              "      <td>2</td>\n",
              "      <td>male</td>\n",
              "      <td>66.0</td>\n",
              "      <td>0</td>\n",
              "      <td>0</td>\n",
              "      <td>10.5000</td>\n",
              "      <td>S</td>\n",
              "      <td>Second</td>\n",
              "      <td>man</td>\n",
              "      <td>True</td>\n",
              "      <td>NaN</td>\n",
              "      <td>Southampton</td>\n",
              "      <td>no</td>\n",
              "      <td>True</td>\n",
              "    </tr>\n",
              "    <tr>\n",
              "      <th>34</th>\n",
              "      <td>0</td>\n",
              "      <td>1</td>\n",
              "      <td>male</td>\n",
              "      <td>28.0</td>\n",
              "      <td>1</td>\n",
              "      <td>0</td>\n",
              "      <td>82.1708</td>\n",
              "      <td>C</td>\n",
              "      <td>First</td>\n",
              "      <td>man</td>\n",
              "      <td>True</td>\n",
              "      <td>NaN</td>\n",
              "      <td>Cherbourg</td>\n",
              "      <td>no</td>\n",
              "      <td>False</td>\n",
              "    </tr>\n",
              "    <tr>\n",
              "      <th>35</th>\n",
              "      <td>0</td>\n",
              "      <td>1</td>\n",
              "      <td>male</td>\n",
              "      <td>42.0</td>\n",
              "      <td>1</td>\n",
              "      <td>0</td>\n",
              "      <td>52.0000</td>\n",
              "      <td>S</td>\n",
              "      <td>First</td>\n",
              "      <td>man</td>\n",
              "      <td>True</td>\n",
              "      <td>NaN</td>\n",
              "      <td>Southampton</td>\n",
              "      <td>no</td>\n",
              "      <td>False</td>\n",
              "    </tr>\n",
              "    <tr>\n",
              "      <th>36</th>\n",
              "      <td>1</td>\n",
              "      <td>3</td>\n",
              "      <td>male</td>\n",
              "      <td>NaN</td>\n",
              "      <td>0</td>\n",
              "      <td>0</td>\n",
              "      <td>7.2292</td>\n",
              "      <td>C</td>\n",
              "      <td>Third</td>\n",
              "      <td>man</td>\n",
              "      <td>True</td>\n",
              "      <td>NaN</td>\n",
              "      <td>Cherbourg</td>\n",
              "      <td>yes</td>\n",
              "      <td>True</td>\n",
              "    </tr>\n",
              "    <tr>\n",
              "      <th>37</th>\n",
              "      <td>0</td>\n",
              "      <td>3</td>\n",
              "      <td>male</td>\n",
              "      <td>21.0</td>\n",
              "      <td>0</td>\n",
              "      <td>0</td>\n",
              "      <td>8.0500</td>\n",
              "      <td>S</td>\n",
              "      <td>Third</td>\n",
              "      <td>man</td>\n",
              "      <td>True</td>\n",
              "      <td>NaN</td>\n",
              "      <td>Southampton</td>\n",
              "      <td>no</td>\n",
              "      <td>True</td>\n",
              "    </tr>\n",
              "    <tr>\n",
              "      <th>38</th>\n",
              "      <td>0</td>\n",
              "      <td>3</td>\n",
              "      <td>female</td>\n",
              "      <td>18.0</td>\n",
              "      <td>2</td>\n",
              "      <td>0</td>\n",
              "      <td>18.0000</td>\n",
              "      <td>S</td>\n",
              "      <td>Third</td>\n",
              "      <td>woman</td>\n",
              "      <td>False</td>\n",
              "      <td>NaN</td>\n",
              "      <td>Southampton</td>\n",
              "      <td>no</td>\n",
              "      <td>False</td>\n",
              "    </tr>\n",
              "    <tr>\n",
              "      <th>39</th>\n",
              "      <td>1</td>\n",
              "      <td>3</td>\n",
              "      <td>female</td>\n",
              "      <td>14.0</td>\n",
              "      <td>1</td>\n",
              "      <td>0</td>\n",
              "      <td>11.2417</td>\n",
              "      <td>C</td>\n",
              "      <td>Third</td>\n",
              "      <td>child</td>\n",
              "      <td>False</td>\n",
              "      <td>NaN</td>\n",
              "      <td>Cherbourg</td>\n",
              "      <td>yes</td>\n",
              "      <td>False</td>\n",
              "    </tr>\n",
              "    <tr>\n",
              "      <th>40</th>\n",
              "      <td>0</td>\n",
              "      <td>3</td>\n",
              "      <td>female</td>\n",
              "      <td>40.0</td>\n",
              "      <td>1</td>\n",
              "      <td>0</td>\n",
              "      <td>9.4750</td>\n",
              "      <td>S</td>\n",
              "      <td>Third</td>\n",
              "      <td>woman</td>\n",
              "      <td>False</td>\n",
              "      <td>NaN</td>\n",
              "      <td>Southampton</td>\n",
              "      <td>no</td>\n",
              "      <td>False</td>\n",
              "    </tr>\n",
              "    <tr>\n",
              "      <th>41</th>\n",
              "      <td>0</td>\n",
              "      <td>2</td>\n",
              "      <td>female</td>\n",
              "      <td>27.0</td>\n",
              "      <td>1</td>\n",
              "      <td>0</td>\n",
              "      <td>21.0000</td>\n",
              "      <td>S</td>\n",
              "      <td>Second</td>\n",
              "      <td>woman</td>\n",
              "      <td>False</td>\n",
              "      <td>NaN</td>\n",
              "      <td>Southampton</td>\n",
              "      <td>no</td>\n",
              "      <td>False</td>\n",
              "    </tr>\n",
              "    <tr>\n",
              "      <th>42</th>\n",
              "      <td>0</td>\n",
              "      <td>3</td>\n",
              "      <td>male</td>\n",
              "      <td>NaN</td>\n",
              "      <td>0</td>\n",
              "      <td>0</td>\n",
              "      <td>7.8958</td>\n",
              "      <td>C</td>\n",
              "      <td>Third</td>\n",
              "      <td>man</td>\n",
              "      <td>True</td>\n",
              "      <td>NaN</td>\n",
              "      <td>Cherbourg</td>\n",
              "      <td>no</td>\n",
              "      <td>True</td>\n",
              "    </tr>\n",
              "    <tr>\n",
              "      <th>43</th>\n",
              "      <td>1</td>\n",
              "      <td>2</td>\n",
              "      <td>female</td>\n",
              "      <td>3.0</td>\n",
              "      <td>1</td>\n",
              "      <td>2</td>\n",
              "      <td>41.5792</td>\n",
              "      <td>C</td>\n",
              "      <td>Second</td>\n",
              "      <td>child</td>\n",
              "      <td>False</td>\n",
              "      <td>NaN</td>\n",
              "      <td>Cherbourg</td>\n",
              "      <td>yes</td>\n",
              "      <td>False</td>\n",
              "    </tr>\n",
              "    <tr>\n",
              "      <th>44</th>\n",
              "      <td>1</td>\n",
              "      <td>3</td>\n",
              "      <td>female</td>\n",
              "      <td>19.0</td>\n",
              "      <td>0</td>\n",
              "      <td>0</td>\n",
              "      <td>7.8792</td>\n",
              "      <td>Q</td>\n",
              "      <td>Third</td>\n",
              "      <td>woman</td>\n",
              "      <td>False</td>\n",
              "      <td>NaN</td>\n",
              "      <td>Queenstown</td>\n",
              "      <td>yes</td>\n",
              "      <td>True</td>\n",
              "    </tr>\n",
              "    <tr>\n",
              "      <th>45</th>\n",
              "      <td>0</td>\n",
              "      <td>3</td>\n",
              "      <td>male</td>\n",
              "      <td>NaN</td>\n",
              "      <td>0</td>\n",
              "      <td>0</td>\n",
              "      <td>8.0500</td>\n",
              "      <td>S</td>\n",
              "      <td>Third</td>\n",
              "      <td>man</td>\n",
              "      <td>True</td>\n",
              "      <td>NaN</td>\n",
              "      <td>Southampton</td>\n",
              "      <td>no</td>\n",
              "      <td>True</td>\n",
              "    </tr>\n",
              "    <tr>\n",
              "      <th>46</th>\n",
              "      <td>0</td>\n",
              "      <td>3</td>\n",
              "      <td>male</td>\n",
              "      <td>NaN</td>\n",
              "      <td>1</td>\n",
              "      <td>0</td>\n",
              "      <td>15.5000</td>\n",
              "      <td>Q</td>\n",
              "      <td>Third</td>\n",
              "      <td>man</td>\n",
              "      <td>True</td>\n",
              "      <td>NaN</td>\n",
              "      <td>Queenstown</td>\n",
              "      <td>no</td>\n",
              "      <td>False</td>\n",
              "    </tr>\n",
              "    <tr>\n",
              "      <th>47</th>\n",
              "      <td>1</td>\n",
              "      <td>3</td>\n",
              "      <td>female</td>\n",
              "      <td>NaN</td>\n",
              "      <td>0</td>\n",
              "      <td>0</td>\n",
              "      <td>7.7500</td>\n",
              "      <td>Q</td>\n",
              "      <td>Third</td>\n",
              "      <td>woman</td>\n",
              "      <td>False</td>\n",
              "      <td>NaN</td>\n",
              "      <td>Queenstown</td>\n",
              "      <td>yes</td>\n",
              "      <td>True</td>\n",
              "    </tr>\n",
              "    <tr>\n",
              "      <th>48</th>\n",
              "      <td>0</td>\n",
              "      <td>3</td>\n",
              "      <td>male</td>\n",
              "      <td>NaN</td>\n",
              "      <td>2</td>\n",
              "      <td>0</td>\n",
              "      <td>21.6792</td>\n",
              "      <td>C</td>\n",
              "      <td>Third</td>\n",
              "      <td>man</td>\n",
              "      <td>True</td>\n",
              "      <td>NaN</td>\n",
              "      <td>Cherbourg</td>\n",
              "      <td>no</td>\n",
              "      <td>False</td>\n",
              "    </tr>\n",
              "    <tr>\n",
              "      <th>49</th>\n",
              "      <td>0</td>\n",
              "      <td>3</td>\n",
              "      <td>female</td>\n",
              "      <td>18.0</td>\n",
              "      <td>1</td>\n",
              "      <td>0</td>\n",
              "      <td>17.8000</td>\n",
              "      <td>S</td>\n",
              "      <td>Third</td>\n",
              "      <td>woman</td>\n",
              "      <td>False</td>\n",
              "      <td>NaN</td>\n",
              "      <td>Southampton</td>\n",
              "      <td>no</td>\n",
              "      <td>False</td>\n",
              "    </tr>\n",
              "  </tbody>\n",
              "</table>\n",
              "</div>"
            ],
            "text/plain": [
              "    survived  pclass     sex   age  sibsp  parch      fare embarked   class  \\\n",
              "0          0       3    male  22.0      1      0    7.2500        S   Third   \n",
              "1          1       1  female  38.0      1      0   71.2833        C   First   \n",
              "2          1       3  female  26.0      0      0    7.9250        S   Third   \n",
              "3          1       1  female  35.0      1      0   53.1000        S   First   \n",
              "4          0       3    male  35.0      0      0    8.0500        S   Third   \n",
              "5          0       3    male   NaN      0      0    8.4583        Q   Third   \n",
              "6          0       1    male  54.0      0      0   51.8625        S   First   \n",
              "7          0       3    male   2.0      3      1   21.0750        S   Third   \n",
              "8          1       3  female  27.0      0      2   11.1333        S   Third   \n",
              "9          1       2  female  14.0      1      0   30.0708        C  Second   \n",
              "10         1       3  female   4.0      1      1   16.7000        S   Third   \n",
              "11         1       1  female  58.0      0      0   26.5500        S   First   \n",
              "12         0       3    male  20.0      0      0    8.0500        S   Third   \n",
              "13         0       3    male  39.0      1      5   31.2750        S   Third   \n",
              "14         0       3  female  14.0      0      0    7.8542        S   Third   \n",
              "15         1       2  female  55.0      0      0   16.0000        S  Second   \n",
              "16         0       3    male   2.0      4      1   29.1250        Q   Third   \n",
              "17         1       2    male   NaN      0      0   13.0000        S  Second   \n",
              "18         0       3  female  31.0      1      0   18.0000        S   Third   \n",
              "19         1       3  female   NaN      0      0    7.2250        C   Third   \n",
              "20         0       2    male  35.0      0      0   26.0000        S  Second   \n",
              "21         1       2    male  34.0      0      0   13.0000        S  Second   \n",
              "22         1       3  female  15.0      0      0    8.0292        Q   Third   \n",
              "23         1       1    male  28.0      0      0   35.5000        S   First   \n",
              "24         0       3  female   8.0      3      1   21.0750        S   Third   \n",
              "25         1       3  female  38.0      1      5   31.3875        S   Third   \n",
              "26         0       3    male   NaN      0      0    7.2250        C   Third   \n",
              "27         0       1    male  19.0      3      2  263.0000        S   First   \n",
              "28         1       3  female   NaN      0      0    7.8792        Q   Third   \n",
              "29         0       3    male   NaN      0      0    7.8958        S   Third   \n",
              "30         0       1    male  40.0      0      0   27.7208        C   First   \n",
              "31         1       1  female   NaN      1      0  146.5208        C   First   \n",
              "32         1       3  female   NaN      0      0    7.7500        Q   Third   \n",
              "33         0       2    male  66.0      0      0   10.5000        S  Second   \n",
              "34         0       1    male  28.0      1      0   82.1708        C   First   \n",
              "35         0       1    male  42.0      1      0   52.0000        S   First   \n",
              "36         1       3    male   NaN      0      0    7.2292        C   Third   \n",
              "37         0       3    male  21.0      0      0    8.0500        S   Third   \n",
              "38         0       3  female  18.0      2      0   18.0000        S   Third   \n",
              "39         1       3  female  14.0      1      0   11.2417        C   Third   \n",
              "40         0       3  female  40.0      1      0    9.4750        S   Third   \n",
              "41         0       2  female  27.0      1      0   21.0000        S  Second   \n",
              "42         0       3    male   NaN      0      0    7.8958        C   Third   \n",
              "43         1       2  female   3.0      1      2   41.5792        C  Second   \n",
              "44         1       3  female  19.0      0      0    7.8792        Q   Third   \n",
              "45         0       3    male   NaN      0      0    8.0500        S   Third   \n",
              "46         0       3    male   NaN      1      0   15.5000        Q   Third   \n",
              "47         1       3  female   NaN      0      0    7.7500        Q   Third   \n",
              "48         0       3    male   NaN      2      0   21.6792        C   Third   \n",
              "49         0       3  female  18.0      1      0   17.8000        S   Third   \n",
              "\n",
              "      who  adult_male deck  embark_town alive  alone  \n",
              "0     man        True  NaN  Southampton    no  False  \n",
              "1   woman       False    C    Cherbourg   yes  False  \n",
              "2   woman       False  NaN  Southampton   yes   True  \n",
              "3   woman       False    C  Southampton   yes  False  \n",
              "4     man        True  NaN  Southampton    no   True  \n",
              "5     man        True  NaN   Queenstown    no   True  \n",
              "6     man        True    E  Southampton    no   True  \n",
              "7   child       False  NaN  Southampton    no  False  \n",
              "8   woman       False  NaN  Southampton   yes  False  \n",
              "9   child       False  NaN    Cherbourg   yes  False  \n",
              "10  child       False    G  Southampton   yes  False  \n",
              "11  woman       False    C  Southampton   yes   True  \n",
              "12    man        True  NaN  Southampton    no   True  \n",
              "13    man        True  NaN  Southampton    no  False  \n",
              "14  child       False  NaN  Southampton    no   True  \n",
              "15  woman       False  NaN  Southampton   yes   True  \n",
              "16  child       False  NaN   Queenstown    no  False  \n",
              "17    man        True  NaN  Southampton   yes   True  \n",
              "18  woman       False  NaN  Southampton    no  False  \n",
              "19  woman       False  NaN    Cherbourg   yes   True  \n",
              "20    man        True  NaN  Southampton    no   True  \n",
              "21    man        True    D  Southampton   yes   True  \n",
              "22  child       False  NaN   Queenstown   yes   True  \n",
              "23    man        True    A  Southampton   yes   True  \n",
              "24  child       False  NaN  Southampton    no  False  \n",
              "25  woman       False  NaN  Southampton   yes  False  \n",
              "26    man        True  NaN    Cherbourg    no   True  \n",
              "27    man        True    C  Southampton    no  False  \n",
              "28  woman       False  NaN   Queenstown   yes   True  \n",
              "29    man        True  NaN  Southampton    no   True  \n",
              "30    man        True  NaN    Cherbourg    no   True  \n",
              "31  woman       False    B    Cherbourg   yes  False  \n",
              "32  woman       False  NaN   Queenstown   yes   True  \n",
              "33    man        True  NaN  Southampton    no   True  \n",
              "34    man        True  NaN    Cherbourg    no  False  \n",
              "35    man        True  NaN  Southampton    no  False  \n",
              "36    man        True  NaN    Cherbourg   yes   True  \n",
              "37    man        True  NaN  Southampton    no   True  \n",
              "38  woman       False  NaN  Southampton    no  False  \n",
              "39  child       False  NaN    Cherbourg   yes  False  \n",
              "40  woman       False  NaN  Southampton    no  False  \n",
              "41  woman       False  NaN  Southampton    no  False  \n",
              "42    man        True  NaN    Cherbourg    no   True  \n",
              "43  child       False  NaN    Cherbourg   yes  False  \n",
              "44  woman       False  NaN   Queenstown   yes   True  \n",
              "45    man        True  NaN  Southampton    no   True  \n",
              "46    man        True  NaN   Queenstown    no  False  \n",
              "47  woman       False  NaN   Queenstown   yes   True  \n",
              "48    man        True  NaN    Cherbourg    no  False  \n",
              "49  woman       False  NaN  Southampton    no  False  "
            ]
          },
          "metadata": {
            "tags": []
          },
          "execution_count": 27
        }
      ]
    },
    {
      "cell_type": "code",
      "metadata": {
        "colab": {
          "base_uri": "https://localhost:8080/"
        },
        "id": "R2g1eI5BXm4b",
        "outputId": "8cdcf985-8d72-4b00-ce91-36189086b76e"
      },
      "source": [
        "print(raw_data.info()) #함수를 이용하여 데이터 df의 정보를 출력"
      ],
      "execution_count": null,
      "outputs": [
        {
          "output_type": "stream",
          "text": [
            "<class 'pandas.core.frame.DataFrame'>\n",
            "RangeIndex: 891 entries, 0 to 890\n",
            "Data columns (total 15 columns):\n",
            " #   Column       Non-Null Count  Dtype   \n",
            "---  ------       --------------  -----   \n",
            " 0   survived     891 non-null    int64   \n",
            " 1   pclass       891 non-null    int64   \n",
            " 2   sex          891 non-null    object  \n",
            " 3   age          714 non-null    float64 \n",
            " 4   sibsp        891 non-null    int64   \n",
            " 5   parch        891 non-null    int64   \n",
            " 6   fare         891 non-null    float64 \n",
            " 7   embarked     889 non-null    object  \n",
            " 8   class        891 non-null    category\n",
            " 9   who          891 non-null    object  \n",
            " 10  adult_male   891 non-null    bool    \n",
            " 11  deck         203 non-null    category\n",
            " 12  embark_town  889 non-null    object  \n",
            " 13  alive        891 non-null    object  \n",
            " 14  alone        891 non-null    bool    \n",
            "dtypes: bool(2), category(2), float64(2), int64(4), object(5)\n",
            "memory usage: 80.6+ KB\n",
            "None\n"
          ],
          "name": "stdout"
        }
      ]
    },
    {
      "cell_type": "markdown",
      "metadata": {
        "id": "5QHEWicoo-W-"
      },
      "source": [
        "deck은 지우고\n",
        "\n",
        "age는 나머지 결측치 채움"
      ]
    },
    {
      "cell_type": "code",
      "metadata": {
        "colab": {
          "base_uri": "https://localhost:8080/"
        },
        "id": "RaYnS0Pvo8lZ",
        "outputId": "6b200f8b-1b89-457a-c432-55c9cbde62ea"
      },
      "source": [
        "#총 null값 개수\n",
        "raw_data.isnull().sum()"
      ],
      "execution_count": null,
      "outputs": [
        {
          "output_type": "execute_result",
          "data": {
            "text/plain": [
              "survived         0\n",
              "pclass           0\n",
              "sex              0\n",
              "age            177\n",
              "sibsp            0\n",
              "parch            0\n",
              "fare             0\n",
              "embarked         2\n",
              "class            0\n",
              "who              0\n",
              "adult_male       0\n",
              "deck           688\n",
              "embark_town      2\n",
              "alive            0\n",
              "alone            0\n",
              "dtype: int64"
            ]
          },
          "metadata": {
            "tags": []
          },
          "execution_count": 29
        }
      ]
    },
    {
      "cell_type": "code",
      "metadata": {
        "colab": {
          "base_uri": "https://localhost:8080/"
        },
        "id": "JrhOGMbApjTK",
        "outputId": "5062d1a9-1768-41c3-d8da-cab80148c23a"
      },
      "source": [
        "#정제한 데이터 clean_data 지정\n",
        "clean_data = raw_data.dropna(axis=1, thresh=500) #nan값이 500보다 크면 drop\n",
        "#dropna: nan값이 존재하는 열을 버림\n",
        "print(clean_data.columns)"
      ],
      "execution_count": null,
      "outputs": [
        {
          "output_type": "stream",
          "text": [
            "Index(['survived', 'pclass', 'sex', 'age', 'sibsp', 'parch', 'fare',\n",
            "       'embarked', 'class', 'who', 'adult_male', 'embark_town', 'alive',\n",
            "       'alone'],\n",
            "      dtype='object')\n"
          ],
          "name": "stdout"
        }
      ]
    },
    {
      "cell_type": "code",
      "metadata": {
        "colab": {
          "base_uri": "https://localhost:8080/"
        },
        "id": "8OEOCdQ6p-g-",
        "outputId": "1987bed9-17d9-49e1-bc08-7b09ebe7613a"
      },
      "source": [
        "#클래스별 개수\n",
        "#열 값에 따른 개수 세기\n",
        "clean_data['pclass'].value_counts()"
      ],
      "execution_count": null,
      "outputs": [
        {
          "output_type": "execute_result",
          "data": {
            "text/plain": [
              "3    491\n",
              "1    216\n",
              "2    184\n",
              "Name: pclass, dtype: int64"
            ]
          },
          "metadata": {
            "tags": []
          },
          "execution_count": 31
        }
      ]
    },
    {
      "cell_type": "code",
      "metadata": {
        "colab": {
          "base_uri": "https://localhost:8080/"
        },
        "id": "eq38-EwYqnxo",
        "outputId": "ed34aca6-ada3-4763-a352-ed17d6bf4290"
      },
      "source": [
        "print(clean_data.head(10))"
      ],
      "execution_count": null,
      "outputs": [
        {
          "output_type": "stream",
          "text": [
            "   survived  pclass     sex   age  sibsp  parch     fare embarked   class  \\\n",
            "0         0       3    male  22.0      1      0   7.2500        S   Third   \n",
            "1         1       1  female  38.0      1      0  71.2833        C   First   \n",
            "2         1       3  female  26.0      0      0   7.9250        S   Third   \n",
            "3         1       1  female  35.0      1      0  53.1000        S   First   \n",
            "4         0       3    male  35.0      0      0   8.0500        S   Third   \n",
            "5         0       3    male   NaN      0      0   8.4583        Q   Third   \n",
            "6         0       1    male  54.0      0      0  51.8625        S   First   \n",
            "7         0       3    male   2.0      3      1  21.0750        S   Third   \n",
            "8         1       3  female  27.0      0      2  11.1333        S   Third   \n",
            "9         1       2  female  14.0      1      0  30.0708        C  Second   \n",
            "\n",
            "     who  adult_male  embark_town alive  alone  \n",
            "0    man        True  Southampton    no  False  \n",
            "1  woman       False    Cherbourg   yes  False  \n",
            "2  woman       False  Southampton   yes   True  \n",
            "3  woman       False  Southampton   yes  False  \n",
            "4    man        True  Southampton    no   True  \n",
            "5    man        True   Queenstown    no   True  \n",
            "6    man        True  Southampton    no   True  \n",
            "7  child       False  Southampton    no  False  \n",
            "8  woman       False  Southampton   yes  False  \n",
            "9  child       False    Cherbourg   yes  False  \n"
          ],
          "name": "stdout"
        }
      ]
    },
    {
      "cell_type": "code",
      "metadata": {
        "colab": {
          "base_uri": "https://localhost:8080/"
        },
        "id": "vL-63BqqqOxX",
        "outputId": "95a7193f-6fff-47cd-ffec-1cfcb82baf66"
      },
      "source": [
        "#나이는 평균으로 채우기\n",
        "mean_age = clean_data['age'].mean()\n",
        "mean_age"
      ],
      "execution_count": null,
      "outputs": [
        {
          "output_type": "execute_result",
          "data": {
            "text/plain": [
              "29.69911764705882"
            ]
          },
          "metadata": {
            "tags": []
          },
          "execution_count": 32
        }
      ]
    },
    {
      "cell_type": "code",
      "metadata": {
        "colab": {
          "base_uri": "https://localhost:8080/"
        },
        "id": "Q1XsMjLSq6Fw",
        "outputId": "190c4f21-8ad4-44db-a2d2-9e5935748e38"
      },
      "source": [
        "#fillna: age컬럼의 nan값을 mean_age로 채움\n",
        "#dropna: nan값을 지움\n",
        "clean_data['age'].fillna(mean_age, inplace=True) \n",
        "#inplace=True clean_data원본 수정, False일 경우 새로운 데이터프레임 생성(원본수정 안됨)                                  "
      ],
      "execution_count": null,
      "outputs": [
        {
          "output_type": "stream",
          "text": [
            "/usr/local/lib/python3.7/dist-packages/pandas/core/series.py:4536: SettingWithCopyWarning: \n",
            "A value is trying to be set on a copy of a slice from a DataFrame\n",
            "\n",
            "See the caveats in the documentation: https://pandas.pydata.org/pandas-docs/stable/user_guide/indexing.html#returning-a-view-versus-a-copy\n",
            "  downcast=downcast,\n"
          ],
          "name": "stderr"
        }
      ]
    },
    {
      "cell_type": "code",
      "metadata": {
        "colab": {
          "base_uri": "https://localhost:8080/"
        },
        "id": "fdv93hk9rvjj",
        "outputId": "692f2369-af4c-46b7-9911-8b531205cbb2"
      },
      "source": [
        "print(clean_data.head(10))"
      ],
      "execution_count": null,
      "outputs": [
        {
          "output_type": "stream",
          "text": [
            "   survived  pclass     sex        age  sibsp  parch     fare embarked  \\\n",
            "0         0       3    male  22.000000      1      0   7.2500        S   \n",
            "1         1       1  female  38.000000      1      0  71.2833        C   \n",
            "2         1       3  female  26.000000      0      0   7.9250        S   \n",
            "3         1       1  female  35.000000      1      0  53.1000        S   \n",
            "4         0       3    male  35.000000      0      0   8.0500        S   \n",
            "5         0       3    male  29.699118      0      0   8.4583        Q   \n",
            "6         0       1    male  54.000000      0      0  51.8625        S   \n",
            "7         0       3    male   2.000000      3      1  21.0750        S   \n",
            "8         1       3  female  27.000000      0      2  11.1333        S   \n",
            "9         1       2  female  14.000000      1      0  30.0708        C   \n",
            "\n",
            "    class    who  adult_male  embark_town alive  alone  \n",
            "0   Third    man        True  Southampton    no  False  \n",
            "1   First  woman       False    Cherbourg   yes  False  \n",
            "2   Third  woman       False  Southampton   yes   True  \n",
            "3   First  woman       False  Southampton   yes  False  \n",
            "4   Third    man        True  Southampton    no   True  \n",
            "5   Third    man        True   Queenstown    no   True  \n",
            "6   First    man        True  Southampton    no   True  \n",
            "7   Third  child       False  Southampton    no  False  \n",
            "8   Third  woman       False  Southampton   yes  False  \n",
            "9  Second  child       False    Cherbourg   yes  False  \n"
          ],
          "name": "stdout"
        }
      ]
    },
    {
      "cell_type": "code",
      "metadata": {
        "colab": {
          "base_uri": "https://localhost:8080/"
        },
        "id": "UTCtO8alsAf0",
        "outputId": "6810ed7f-8961-4443-9fd2-8bb2c610f6d6"
      },
      "source": [
        "#'embark_town','alive' 컬럼 삭제\n",
        "clean_data.drop(['embark_town','alive'],axis=1,inplace=True) #열column:1, 행row:0\n"
      ],
      "execution_count": null,
      "outputs": [
        {
          "output_type": "stream",
          "text": [
            "/usr/local/lib/python3.7/dist-packages/pandas/core/frame.py:4174: SettingWithCopyWarning: \n",
            "A value is trying to be set on a copy of a slice from a DataFrame\n",
            "\n",
            "See the caveats in the documentation: https://pandas.pydata.org/pandas-docs/stable/user_guide/indexing.html#returning-a-view-versus-a-copy\n",
            "  errors=errors,\n"
          ],
          "name": "stderr"
        }
      ]
    },
    {
      "cell_type": "code",
      "metadata": {
        "colab": {
          "base_uri": "https://localhost:8080/"
        },
        "id": "Xn9QW-cQsoum",
        "outputId": "5ed1cda9-4568-4aad-c7b0-bf5778578935"
      },
      "source": [
        "clean_data.info()"
      ],
      "execution_count": null,
      "outputs": [
        {
          "output_type": "stream",
          "text": [
            "<class 'pandas.core.frame.DataFrame'>\n",
            "RangeIndex: 891 entries, 0 to 890\n",
            "Data columns (total 12 columns):\n",
            " #   Column      Non-Null Count  Dtype   \n",
            "---  ------      --------------  -----   \n",
            " 0   survived    891 non-null    int64   \n",
            " 1   pclass      891 non-null    int64   \n",
            " 2   sex         891 non-null    object  \n",
            " 3   age         891 non-null    float64 \n",
            " 4   sibsp       891 non-null    int64   \n",
            " 5   parch       891 non-null    int64   \n",
            " 6   fare        891 non-null    float64 \n",
            " 7   embarked    889 non-null    object  \n",
            " 8   class       891 non-null    category\n",
            " 9   who         891 non-null    object  \n",
            " 10  adult_male  891 non-null    bool    \n",
            " 11  alone       891 non-null    bool    \n",
            "dtypes: bool(2), category(1), float64(2), int64(4), object(3)\n",
            "memory usage: 65.5+ KB\n"
          ],
          "name": "stdout"
        }
      ]
    },
    {
      "cell_type": "code",
      "metadata": {
        "colab": {
          "base_uri": "https://localhost:8080/"
        },
        "id": "vCdGPK0FssEw",
        "outputId": "c7357fc5-8f17-4110-e98d-f67f8448234a"
      },
      "source": [
        "#'embarked' 825부터 829까지 행 보기\n",
        "print(clean_data['embarked'][825:830])"
      ],
      "execution_count": null,
      "outputs": [
        {
          "output_type": "stream",
          "text": [
            "825      Q\n",
            "826      S\n",
            "827      C\n",
            "828      Q\n",
            "829    NaN\n",
            "Name: embarked, dtype: object\n"
          ],
          "name": "stdout"
        }
      ]
    },
    {
      "cell_type": "code",
      "metadata": {
        "colab": {
          "base_uri": "https://localhost:8080/"
        },
        "id": "pc9kZUX6tOX8",
        "outputId": "4c61dfe4-fab3-4d41-83aa-267da7a7ca0d"
      },
      "source": [
        "clean_data['embarked'].fillna(\n",
        "    method='ffill',inplace=True) #Nan값이었던 829번이 ffill을 통해 이전 값으로 채워짐"
      ],
      "execution_count": null,
      "outputs": [
        {
          "output_type": "stream",
          "text": [
            "/usr/local/lib/python3.7/dist-packages/pandas/core/series.py:4536: SettingWithCopyWarning: \n",
            "A value is trying to be set on a copy of a slice from a DataFrame\n",
            "\n",
            "See the caveats in the documentation: https://pandas.pydata.org/pandas-docs/stable/user_guide/indexing.html#returning-a-view-versus-a-copy\n",
            "  downcast=downcast,\n"
          ],
          "name": "stderr"
        }
      ]
    },
    {
      "cell_type": "code",
      "metadata": {
        "colab": {
          "base_uri": "https://localhost:8080/"
        },
        "id": "jr9PU3JmtjTV",
        "outputId": "655047ca-1b2d-4d0d-d5f3-953fd934d3b3"
      },
      "source": [
        "print(clean_data['embarked'][825:830])"
      ],
      "execution_count": null,
      "outputs": [
        {
          "output_type": "stream",
          "text": [
            "825    Q\n",
            "826    S\n",
            "827    C\n",
            "828    Q\n",
            "829    Q\n",
            "Name: embarked, dtype: object\n"
          ],
          "name": "stdout"
        }
      ]
    },
    {
      "cell_type": "code",
      "metadata": {
        "colab": {
          "base_uri": "https://localhost:8080/"
        },
        "id": "41zxvs7mtmy5",
        "outputId": "576cba06-f505-45a7-b7e2-28b7430b696f"
      },
      "source": [
        "print(clean_data.isnull().sum())"
      ],
      "execution_count": null,
      "outputs": [
        {
          "output_type": "stream",
          "text": [
            "survived      0\n",
            "pclass        0\n",
            "sex           0\n",
            "age           0\n",
            "sibsp         0\n",
            "parch         0\n",
            "fare          0\n",
            "embarked      0\n",
            "class         0\n",
            "who           0\n",
            "adult_male    0\n",
            "alone         0\n",
            "dtype: int64\n"
          ],
          "name": "stdout"
        }
      ]
    },
    {
      "cell_type": "code",
      "metadata": {
        "colab": {
          "base_uri": "https://localhost:8080/"
        },
        "id": "vjNi6DBHtz7Y",
        "outputId": "2597fdd1-503b-4013-8298-4ac3f1b8ec45"
      },
      "source": [
        "print(clean_data.info())"
      ],
      "execution_count": null,
      "outputs": [
        {
          "output_type": "stream",
          "text": [
            "<class 'pandas.core.frame.DataFrame'>\n",
            "RangeIndex: 891 entries, 0 to 890\n",
            "Data columns (total 12 columns):\n",
            " #   Column      Non-Null Count  Dtype   \n",
            "---  ------      --------------  -----   \n",
            " 0   survived    891 non-null    int64   \n",
            " 1   pclass      891 non-null    int64   \n",
            " 2   sex         891 non-null    object  \n",
            " 3   age         891 non-null    float64 \n",
            " 4   sibsp       891 non-null    int64   \n",
            " 5   parch       891 non-null    int64   \n",
            " 6   fare        891 non-null    float64 \n",
            " 7   embarked    891 non-null    object  \n",
            " 8   class       891 non-null    category\n",
            " 9   who         891 non-null    object  \n",
            " 10  adult_male  891 non-null    bool    \n",
            " 11  alone       891 non-null    bool    \n",
            "dtypes: bool(2), category(1), float64(2), int64(4), object(3)\n",
            "memory usage: 65.5+ KB\n",
            "None\n"
          ],
          "name": "stdout"
        }
      ]
    },
    {
      "cell_type": "code",
      "metadata": {
        "colab": {
          "base_uri": "https://localhost:8080/"
        },
        "id": "QSuvZyAxt9kC",
        "outputId": "a61d3337-5dbc-4e16-b46f-6d6e66764d53"
      },
      "source": [
        "#'sex' 값 변환\n",
        "clean_data['sex'].replace({'male':0,'female':1},inplace=True)"
      ],
      "execution_count": null,
      "outputs": [
        {
          "output_type": "stream",
          "text": [
            "/usr/local/lib/python3.7/dist-packages/pandas/core/series.py:4582: SettingWithCopyWarning: \n",
            "A value is trying to be set on a copy of a slice from a DataFrame\n",
            "\n",
            "See the caveats in the documentation: https://pandas.pydata.org/pandas-docs/stable/user_guide/indexing.html#returning-a-view-versus-a-copy\n",
            "  method=method,\n"
          ],
          "name": "stderr"
        }
      ]
    },
    {
      "cell_type": "code",
      "metadata": {
        "colab": {
          "base_uri": "https://localhost:8080/"
        },
        "id": "jsoDOcyGuSWS",
        "outputId": "5bc4c9d9-5fac-4468-8e6f-200da212fe16"
      },
      "source": [
        "print(clean_data.info())"
      ],
      "execution_count": null,
      "outputs": [
        {
          "output_type": "stream",
          "text": [
            "<class 'pandas.core.frame.DataFrame'>\n",
            "RangeIndex: 891 entries, 0 to 890\n",
            "Data columns (total 12 columns):\n",
            " #   Column      Non-Null Count  Dtype   \n",
            "---  ------      --------------  -----   \n",
            " 0   survived    891 non-null    int64   \n",
            " 1   pclass      891 non-null    int64   \n",
            " 2   sex         891 non-null    int64   \n",
            " 3   age         891 non-null    float64 \n",
            " 4   sibsp       891 non-null    int64   \n",
            " 5   parch       891 non-null    int64   \n",
            " 6   fare        891 non-null    float64 \n",
            " 7   embarked    891 non-null    object  \n",
            " 8   class       891 non-null    category\n",
            " 9   who         891 non-null    object  \n",
            " 10  adult_male  891 non-null    bool    \n",
            " 11  alone       891 non-null    bool    \n",
            "dtypes: bool(2), category(1), float64(2), int64(5), object(2)\n",
            "memory usage: 65.5+ KB\n",
            "None\n"
          ],
          "name": "stdout"
        }
      ]
    },
    {
      "cell_type": "code",
      "metadata": {
        "colab": {
          "base_uri": "https://localhost:8080/"
        },
        "id": "UOtIGBeDuXSq",
        "outputId": "6635971f-58fd-4186-8356-a5ca8302d754"
      },
      "source": [
        "#'sex' 값 목록\n",
        "print(clean_data['sex'].unique())"
      ],
      "execution_count": null,
      "outputs": [
        {
          "output_type": "stream",
          "text": [
            "[0 1]\n"
          ],
          "name": "stdout"
        }
      ]
    },
    {
      "cell_type": "code",
      "metadata": {
        "colab": {
          "base_uri": "https://localhost:8080/"
        },
        "id": "J-X9SS7Kup_C",
        "outputId": "1cb46e74-95b1-4899-dfce-f1f86b91ea68"
      },
      "source": [
        "#'embarked' 값 변환\n",
        "print(clean_data['embarked'].unique())"
      ],
      "execution_count": null,
      "outputs": [
        {
          "output_type": "stream",
          "text": [
            "['S' 'C' 'Q']\n"
          ],
          "name": "stdout"
        }
      ]
    },
    {
      "cell_type": "markdown",
      "metadata": {
        "id": "JY9OvfscWHyy"
      },
      "source": [
        "분류(Classification) 문제에서,  \n",
        "\n",
        "기계에게 학습 시킬 Label 값이 숫자  이외로 되어 있을 경우,\n",
        "\n",
        "숫자로 먼저 만들어 주는 것이 위에서 한 Label Encoding 이고, \n",
        " \n",
        "위처럼 한 후에, Loss를 계산하기 쉽게 만들어 주기 위해 \n",
        "\n",
        "자동으로 unique한 값을 찾아서 라벨을 부여해 줌\n",
        "\n",
        "벡터의 딱 한개의 요소만 1 이고, 나머지 요소는 모두 0 인 벡터로 만들어 주는 것 OneHotEncoding \n",
        "\n",
        "[ Label Encoding ] \n",
        "\n",
        "KR => 0, US => 1, UK => 2, CN => 3\n",
        "\n",
        "[ OneHotEncoding ]\n",
        "\n",
        "KR  => ( 1 , 0, 0, 0 )\n",
        "\n",
        "US  => ( 0, 1, 0, 0 )\n",
        "\n",
        "UK  => ( 0, 0, 1, 0 )\n",
        "\n",
        "CN  => ( 0 , 0, 0, 1 )\n",
        "\n"
      ]
    },
    {
      "cell_type": "markdown",
      "metadata": {
        "id": "uB6WmrnVMVoB"
      },
      "source": [
        "스케일링: 어떤 값을 적절한 크기로 변환시켜 주는 것 \n",
        "\n",
        "=> 보통 0~1 사이의 값으로 변환하여 곱해도 발산하지 않게 해줌\n",
        "\n",
        "minmax(최소 0 최대 1 비례적 변환)\n",
        "\n",
        "standandardization(표준정규분포 따르는 값으로 변경)\n",
        "\n",
        "표준정규분포: 평균이 0 표준편차가 1인 분포\n",
        "\n",
        "normalization(정규분포를 따르는 값으로 변경)\n",
        "\n",
        "정규분포: 평균, 표준편차 다양함"
      ]
    },
    {
      "cell_type": "code",
      "metadata": {
        "id": "IkR35REDuvRN"
      },
      "source": [
        "from sklearn import preprocessing"
      ],
      "execution_count": null,
      "outputs": []
    },
    {
      "cell_type": "code",
      "metadata": {
        "id": "ufXgRjFNwRJ9"
      },
      "source": [
        "#label_encoder\n",
        "#문자를 0부터 시작하는 정수형 숫자로 바꿔주는 기능, 데이터를 label로 변환해줌\n",
        "#제일 많은 것 0, 그다음 1, 맨 마지막 2\n",
        "label_encoder = preprocessing.LabelEncoder() \n",
        "onehot_encoder = preprocessing.OneHotEncoder()"
      ],
      "execution_count": null,
      "outputs": []
    },
    {
      "cell_type": "code",
      "metadata": {
        "colab": {
          "base_uri": "https://localhost:8080/"
        },
        "id": "WiX7CvSGwhcS",
        "outputId": "1a7fc6bb-5967-46f9-896c-b22bf0d9b0b4"
      },
      "source": [
        "print(clean_data['embarked'].value_counts())"
      ],
      "execution_count": null,
      "outputs": [
        {
          "output_type": "stream",
          "text": [
            "S    644\n",
            "C    169\n",
            "Q     78\n",
            "Name: embarked, dtype: int64\n"
          ],
          "name": "stdout"
        }
      ]
    },
    {
      "cell_type": "code",
      "metadata": {
        "colab": {
          "base_uri": "https://localhost:8080/"
        },
        "id": "VKNp8GcfxPab",
        "outputId": "90ad664b-fb5c-4aac-dad0-7a5a0c48576e"
      },
      "source": [
        "print(clean_data.info())"
      ],
      "execution_count": null,
      "outputs": [
        {
          "output_type": "stream",
          "text": [
            "<class 'pandas.core.frame.DataFrame'>\n",
            "RangeIndex: 891 entries, 0 to 890\n",
            "Data columns (total 12 columns):\n",
            " #   Column      Non-Null Count  Dtype   \n",
            "---  ------      --------------  -----   \n",
            " 0   survived    891 non-null    int64   \n",
            " 1   pclass      891 non-null    int64   \n",
            " 2   sex         891 non-null    int64   \n",
            " 3   age         891 non-null    float64 \n",
            " 4   sibsp       891 non-null    int64   \n",
            " 5   parch       891 non-null    int64   \n",
            " 6   fare        891 non-null    float64 \n",
            " 7   embarked    891 non-null    int64   \n",
            " 8   class       891 non-null    category\n",
            " 9   who         891 non-null    object  \n",
            " 10  adult_male  891 non-null    bool    \n",
            " 11  alone       891 non-null    bool    \n",
            "dtypes: bool(2), category(1), float64(2), int64(6), object(1)\n",
            "memory usage: 65.5+ KB\n",
            "None\n"
          ],
          "name": "stdout"
        }
      ]
    },
    {
      "cell_type": "code",
      "metadata": {
        "colab": {
          "base_uri": "https://localhost:8080/"
        },
        "id": "-SKcVnwUwsLx",
        "outputId": "768ad9bc-318a-4b41-f2e0-dd5883594204"
      },
      "source": [
        "clean_data['embarked']=label_encoder.fit_transform(clean_data['embarked'])"
      ],
      "execution_count": null,
      "outputs": [
        {
          "output_type": "stream",
          "text": [
            "/usr/local/lib/python3.7/dist-packages/ipykernel_launcher.py:1: SettingWithCopyWarning: \n",
            "A value is trying to be set on a copy of a slice from a DataFrame.\n",
            "Try using .loc[row_indexer,col_indexer] = value instead\n",
            "\n",
            "See the caveats in the documentation: https://pandas.pydata.org/pandas-docs/stable/user_guide/indexing.html#returning-a-view-versus-a-copy\n",
            "  \"\"\"Entry point for launching an IPython kernel.\n"
          ],
          "name": "stderr"
        }
      ]
    },
    {
      "cell_type": "code",
      "metadata": {
        "colab": {
          "base_uri": "https://localhost:8080/"
        },
        "id": "QY1_d9T7xDnw",
        "outputId": "131c28e1-6ef5-4851-8ecd-7aec5a50f0d1"
      },
      "source": [
        "print(clean_data['embarked'].unique())"
      ],
      "execution_count": null,
      "outputs": [
        {
          "output_type": "stream",
          "text": [
            "[2 0 1]\n"
          ],
          "name": "stdout"
        }
      ]
    },
    {
      "cell_type": "code",
      "metadata": {
        "colab": {
          "base_uri": "https://localhost:8080/"
        },
        "id": "gEcHhR0pyAR-",
        "outputId": "1dc581b9-e5b6-4221-e1b3-484118034234"
      },
      "source": [
        "clean_data['class']=label_encoder.fit_transform(clean_data['class'])\n",
        "clean_data['who']=label_encoder.fit_transform(clean_data['who'])\n",
        "print(clean_data.info())"
      ],
      "execution_count": null,
      "outputs": [
        {
          "output_type": "stream",
          "text": [
            "<class 'pandas.core.frame.DataFrame'>\n",
            "RangeIndex: 891 entries, 0 to 890\n",
            "Data columns (total 12 columns):\n",
            " #   Column      Non-Null Count  Dtype  \n",
            "---  ------      --------------  -----  \n",
            " 0   survived    891 non-null    int64  \n",
            " 1   pclass      891 non-null    int64  \n",
            " 2   sex         891 non-null    int64  \n",
            " 3   age         891 non-null    float64\n",
            " 4   sibsp       891 non-null    int64  \n",
            " 5   parch       891 non-null    int64  \n",
            " 6   fare        891 non-null    float64\n",
            " 7   embarked    891 non-null    int64  \n",
            " 8   class       891 non-null    int64  \n",
            " 9   who         891 non-null    int64  \n",
            " 10  adult_male  891 non-null    bool   \n",
            " 11  alone       891 non-null    bool   \n",
            "dtypes: bool(2), float64(2), int64(8)\n",
            "memory usage: 71.5 KB\n",
            "None\n"
          ],
          "name": "stdout"
        },
        {
          "output_type": "stream",
          "text": [
            "/usr/local/lib/python3.7/dist-packages/ipykernel_launcher.py:1: SettingWithCopyWarning: \n",
            "A value is trying to be set on a copy of a slice from a DataFrame.\n",
            "Try using .loc[row_indexer,col_indexer] = value instead\n",
            "\n",
            "See the caveats in the documentation: https://pandas.pydata.org/pandas-docs/stable/user_guide/indexing.html#returning-a-view-versus-a-copy\n",
            "  \"\"\"Entry point for launching an IPython kernel.\n",
            "/usr/local/lib/python3.7/dist-packages/ipykernel_launcher.py:2: SettingWithCopyWarning: \n",
            "A value is trying to be set on a copy of a slice from a DataFrame.\n",
            "Try using .loc[row_indexer,col_indexer] = value instead\n",
            "\n",
            "See the caveats in the documentation: https://pandas.pydata.org/pandas-docs/stable/user_guide/indexing.html#returning-a-view-versus-a-copy\n",
            "  \n"
          ],
          "name": "stderr"
        }
      ]
    },
    {
      "cell_type": "code",
      "metadata": {
        "colab": {
          "base_uri": "https://localhost:8080/"
        },
        "id": "jWvVTMHR1Xx1",
        "outputId": "0a86b582-6209-4f8d-ce01-810a1c952a62"
      },
      "source": [
        "clean_data['adult_male'] = clean_data['adult_male'].astype('int64')\n",
        "print(clean_data.info())"
      ],
      "execution_count": null,
      "outputs": [
        {
          "output_type": "stream",
          "text": [
            "<class 'pandas.core.frame.DataFrame'>\n",
            "RangeIndex: 891 entries, 0 to 890\n",
            "Data columns (total 12 columns):\n",
            " #   Column      Non-Null Count  Dtype  \n",
            "---  ------      --------------  -----  \n",
            " 0   survived    891 non-null    int64  \n",
            " 1   pclass      891 non-null    int64  \n",
            " 2   sex         891 non-null    int64  \n",
            " 3   age         891 non-null    float64\n",
            " 4   sibsp       891 non-null    int64  \n",
            " 5   parch       891 non-null    int64  \n",
            " 6   fare        891 non-null    float64\n",
            " 7   embarked    891 non-null    int64  \n",
            " 8   class       891 non-null    int64  \n",
            " 9   who         891 non-null    int64  \n",
            " 10  adult_male  891 non-null    int64  \n",
            " 11  alone       891 non-null    bool   \n",
            "dtypes: bool(1), float64(2), int64(9)\n",
            "memory usage: 77.6 KB\n",
            "None\n"
          ],
          "name": "stdout"
        },
        {
          "output_type": "stream",
          "text": [
            "/usr/local/lib/python3.7/dist-packages/ipykernel_launcher.py:1: SettingWithCopyWarning: \n",
            "A value is trying to be set on a copy of a slice from a DataFrame.\n",
            "Try using .loc[row_indexer,col_indexer] = value instead\n",
            "\n",
            "See the caveats in the documentation: https://pandas.pydata.org/pandas-docs/stable/user_guide/indexing.html#returning-a-view-versus-a-copy\n",
            "  \"\"\"Entry point for launching an IPython kernel.\n"
          ],
          "name": "stderr"
        }
      ]
    },
    {
      "cell_type": "code",
      "metadata": {
        "colab": {
          "base_uri": "https://localhost:8080/"
        },
        "id": "Qnz3gzTH1iiQ",
        "outputId": "02615d8b-a85a-4ada-cf8c-fdd60666d7ab"
      },
      "source": [
        "print(clean_data['adult_male'])"
      ],
      "execution_count": null,
      "outputs": [
        {
          "output_type": "stream",
          "text": [
            "0      1\n",
            "1      0\n",
            "2      0\n",
            "3      0\n",
            "4      1\n",
            "      ..\n",
            "886    1\n",
            "887    0\n",
            "888    0\n",
            "889    1\n",
            "890    1\n",
            "Name: adult_male, Length: 891, dtype: int64\n"
          ],
          "name": "stdout"
        }
      ]
    },
    {
      "cell_type": "code",
      "metadata": {
        "colab": {
          "base_uri": "https://localhost:8080/"
        },
        "id": "T_Digy4Q1sCC",
        "outputId": "efbaf448-c119-4e99-a490-6eb3db788cf7"
      },
      "source": [
        "clean_data['alone'] = clean_data['alone'].astype(\n",
        "    'int64')\n",
        "print(clean_data.info())"
      ],
      "execution_count": null,
      "outputs": [
        {
          "output_type": "stream",
          "text": [
            "<class 'pandas.core.frame.DataFrame'>\n",
            "RangeIndex: 891 entries, 0 to 890\n",
            "Data columns (total 12 columns):\n",
            " #   Column      Non-Null Count  Dtype  \n",
            "---  ------      --------------  -----  \n",
            " 0   survived    891 non-null    int64  \n",
            " 1   pclass      891 non-null    int64  \n",
            " 2   sex         891 non-null    int64  \n",
            " 3   age         891 non-null    float64\n",
            " 4   sibsp       891 non-null    int64  \n",
            " 5   parch       891 non-null    int64  \n",
            " 6   fare        891 non-null    float64\n",
            " 7   embarked    891 non-null    int64  \n",
            " 8   class       891 non-null    int64  \n",
            " 9   who         891 non-null    int64  \n",
            " 10  adult_male  891 non-null    int64  \n",
            " 11  alone       891 non-null    int64  \n",
            "dtypes: float64(2), int64(10)\n",
            "memory usage: 83.7 KB\n",
            "None\n"
          ],
          "name": "stdout"
        },
        {
          "output_type": "stream",
          "text": [
            "/usr/local/lib/python3.7/dist-packages/ipykernel_launcher.py:2: SettingWithCopyWarning: \n",
            "A value is trying to be set on a copy of a slice from a DataFrame.\n",
            "Try using .loc[row_indexer,col_indexer] = value instead\n",
            "\n",
            "See the caveats in the documentation: https://pandas.pydata.org/pandas-docs/stable/user_guide/indexing.html#returning-a-view-versus-a-copy\n",
            "  \n"
          ],
          "name": "stderr"
        }
      ]
    },
    {
      "cell_type": "code",
      "metadata": {
        "colab": {
          "base_uri": "https://localhost:8080/"
        },
        "id": "txd2rB_q15rF",
        "outputId": "aae97de5-1bd2-47e2-80df-e651dae3e75e"
      },
      "source": [
        "target=pd.DataFrame(clean_data.iloc[:,0], columns=['survived'])\n",
        "training_data=clean_data.drop('survived',axis=1)\n",
        "print(training_data.head())\n",
        "print(target.head())"
      ],
      "execution_count": null,
      "outputs": [
        {
          "output_type": "stream",
          "text": [
            "   pclass  sex   age  sibsp  parch     fare  embarked  class  who  adult_male  \\\n",
            "0       3    0  22.0      1      0   7.2500         2      2    1           1   \n",
            "1       1    1  38.0      1      0  71.2833         0      0    2           0   \n",
            "2       3    1  26.0      0      0   7.9250         2      2    2           0   \n",
            "3       1    1  35.0      1      0  53.1000         2      0    2           0   \n",
            "4       3    0  35.0      0      0   8.0500         2      2    1           1   \n",
            "\n",
            "   alone  \n",
            "0      0  \n",
            "1      0  \n",
            "2      1  \n",
            "3      0  \n",
            "4      1  \n",
            "   survived\n",
            "0         0\n",
            "1         1\n",
            "2         1\n",
            "3         1\n",
            "4         0\n"
          ],
          "name": "stdout"
        }
      ]
    },
    {
      "cell_type": "code",
      "metadata": {
        "colab": {
          "base_uri": "https://localhost:8080/"
        },
        "id": "XznfqzRj302d",
        "outputId": "d36b1aa9-febd-47a6-812a-816db74ee502"
      },
      "source": [
        "value_data=training_data[['age','fare']]\n",
        "print(value_data.head())"
      ],
      "execution_count": null,
      "outputs": [
        {
          "output_type": "stream",
          "text": [
            "    age     fare\n",
            "0  22.0   7.2500\n",
            "1  38.0  71.2833\n",
            "2  26.0   7.9250\n",
            "3  35.0  53.1000\n",
            "4  35.0   8.0500\n"
          ],
          "name": "stdout"
        }
      ]
    },
    {
      "cell_type": "code",
      "metadata": {
        "colab": {
          "base_uri": "https://localhost:8080/"
        },
        "id": "LF50zKTY8Jx4",
        "outputId": "312a0720-6b85-4e02-97ac-0684c9ee9071"
      },
      "source": [
        "print(value_data.describe())"
      ],
      "execution_count": null,
      "outputs": [
        {
          "output_type": "stream",
          "text": [
            "                age          fare\n",
            "count  8.910000e+02  8.910000e+02\n",
            "mean   2.562796e-16 -4.373606e-17\n",
            "std    1.000562e+00  1.000562e+00\n",
            "min   -2.253155e+00 -6.484217e-01\n",
            "25%   -5.924806e-01 -4.891482e-01\n",
            "50%    0.000000e+00 -3.573909e-01\n",
            "75%    4.079260e-01 -2.424635e-02\n",
            "max    3.870872e+00  9.667167e+00\n"
          ],
          "name": "stdout"
        }
      ]
    },
    {
      "cell_type": "code",
      "metadata": {
        "colab": {
          "base_uri": "https://localhost:8080/"
        },
        "id": "1DOAd1NT37Yp",
        "outputId": "7d456cd4-2918-45ad-92f4-31453940be34"
      },
      "source": [
        "training_data.drop(['age','fare'],axis=1,inplace=True)\n",
        "print(training_data.head())"
      ],
      "execution_count": null,
      "outputs": [
        {
          "output_type": "stream",
          "text": [
            "   pclass  sex  sibsp  parch  embarked  class  who  adult_male  alone\n",
            "0       3    0      1      0         2      2    1           1      0\n",
            "1       1    1      1      0         0      0    2           0      0\n",
            "2       3    1      0      0         2      2    2           0      1\n",
            "3       1    1      1      0         2      0    2           0      0\n",
            "4       3    0      0      0         2      2    1           1      1\n"
          ],
          "name": "stdout"
        }
      ]
    },
    {
      "cell_type": "code",
      "metadata": {
        "colab": {
          "base_uri": "https://localhost:8080/"
        },
        "id": "E2-bDKjz4XyH",
        "outputId": "311717b7-2bdd-480a-9cdc-10fc707c6eb8"
      },
      "source": [
        "onehot_data = pd.get_dummies(training_data['pclass'])\n",
        "print(onehot_data.head())"
      ],
      "execution_count": null,
      "outputs": [
        {
          "output_type": "stream",
          "text": [
            "   1  2  3\n",
            "0  0  0  1\n",
            "1  1  0  0\n",
            "2  0  0  1\n",
            "3  1  0  0\n",
            "4  0  0  1\n"
          ],
          "name": "stdout"
        }
      ]
    },
    {
      "cell_type": "code",
      "metadata": {
        "colab": {
          "base_uri": "https://localhost:8080/"
        },
        "id": "UaE7UL4K5Z1-",
        "outputId": "7cd9d422-8ee8-4a61-f41c-c1316b938f53"
      },
      "source": [
        "print(training_data.head())"
      ],
      "execution_count": null,
      "outputs": [
        {
          "output_type": "stream",
          "text": [
            "   pclass  sex  sibsp  parch  embarked  class  who  adult_male  alone\n",
            "0       3    0      1      0         2      2    1           1      0\n",
            "1       1    1      1      0         0      0    2           0      0\n",
            "2       3    1      0      0         2      2    2           0      1\n",
            "3       1    1      1      0         2      0    2           0      0\n",
            "4       3    0      0      0         2      2    1           1      1\n"
          ],
          "name": "stdout"
        }
      ]
    },
    {
      "cell_type": "code",
      "metadata": {
        "colab": {
          "base_uri": "https://localhost:8080/"
        },
        "id": "9iTqy9j65f1Q",
        "outputId": "1ec200bc-ac36-4084-8060-9235d5db8b02"
      },
      "source": [
        "onehot_data = pd.get_dummies(training_data, columns=training_data.columns)\n",
        "print(onehot_data.head())"
      ],
      "execution_count": null,
      "outputs": [
        {
          "output_type": "stream",
          "text": [
            "   pclass_1  pclass_2  pclass_3  sex_0  sex_1  sibsp_0  sibsp_1  ...  who_0  \\\n",
            "0         0         0         1      1      0        0        1  ...      0   \n",
            "1         1         0         0      0      1        0        1  ...      0   \n",
            "2         0         0         1      0      1        1        0  ...      0   \n",
            "3         1         0         0      0      1        0        1  ...      0   \n",
            "4         0         0         1      1      0        1        0  ...      0   \n",
            "\n",
            "   who_1  who_2  adult_male_0  adult_male_1  alone_0  alone_1  \n",
            "0      1      0             0             1        1        0  \n",
            "1      0      1             1             0        1        0  \n",
            "2      0      1             1             0        0        1  \n",
            "3      0      1             1             0        1        0  \n",
            "4      1      0             0             1        0        1  \n",
            "\n",
            "[5 rows x 32 columns]\n"
          ],
          "name": "stdout"
        }
      ]
    },
    {
      "cell_type": "code",
      "metadata": {
        "colab": {
          "base_uri": "https://localhost:8080/"
        },
        "id": "RwJHkZ-V59fJ",
        "outputId": "b482d1ec-3ae1-4cdc-def7-e6d6e61dcf74"
      },
      "source": [
        "print(onehot_data.info())"
      ],
      "execution_count": null,
      "outputs": [
        {
          "output_type": "stream",
          "text": [
            "<class 'pandas.core.frame.DataFrame'>\n",
            "RangeIndex: 891 entries, 0 to 890\n",
            "Data columns (total 32 columns):\n",
            " #   Column        Non-Null Count  Dtype\n",
            "---  ------        --------------  -----\n",
            " 0   pclass_1      891 non-null    uint8\n",
            " 1   pclass_2      891 non-null    uint8\n",
            " 2   pclass_3      891 non-null    uint8\n",
            " 3   sex_0         891 non-null    uint8\n",
            " 4   sex_1         891 non-null    uint8\n",
            " 5   sibsp_0       891 non-null    uint8\n",
            " 6   sibsp_1       891 non-null    uint8\n",
            " 7   sibsp_2       891 non-null    uint8\n",
            " 8   sibsp_3       891 non-null    uint8\n",
            " 9   sibsp_4       891 non-null    uint8\n",
            " 10  sibsp_5       891 non-null    uint8\n",
            " 11  sibsp_8       891 non-null    uint8\n",
            " 12  parch_0       891 non-null    uint8\n",
            " 13  parch_1       891 non-null    uint8\n",
            " 14  parch_2       891 non-null    uint8\n",
            " 15  parch_3       891 non-null    uint8\n",
            " 16  parch_4       891 non-null    uint8\n",
            " 17  parch_5       891 non-null    uint8\n",
            " 18  parch_6       891 non-null    uint8\n",
            " 19  embarked_0    891 non-null    uint8\n",
            " 20  embarked_1    891 non-null    uint8\n",
            " 21  embarked_2    891 non-null    uint8\n",
            " 22  class_0       891 non-null    uint8\n",
            " 23  class_1       891 non-null    uint8\n",
            " 24  class_2       891 non-null    uint8\n",
            " 25  who_0         891 non-null    uint8\n",
            " 26  who_1         891 non-null    uint8\n",
            " 27  who_2         891 non-null    uint8\n",
            " 28  adult_male_0  891 non-null    uint8\n",
            " 29  adult_male_1  891 non-null    uint8\n",
            " 30  alone_0       891 non-null    uint8\n",
            " 31  alone_1       891 non-null    uint8\n",
            "dtypes: uint8(32)\n",
            "memory usage: 28.0 KB\n",
            "None\n"
          ],
          "name": "stdout"
        }
      ]
    },
    {
      "cell_type": "code",
      "metadata": {
        "colab": {
          "base_uri": "https://localhost:8080/"
        },
        "id": "aNGcYSzg6qPM",
        "outputId": "8f4ac2d8-2fe4-4b00-95e5-88b3074046aa"
      },
      "source": [
        "value_data =training_data[['age', 'fare']]\n",
        "print(value_data.head())"
      ],
      "execution_count": null,
      "outputs": [
        {
          "output_type": "stream",
          "text": [
            "        age      fare\n",
            "0 -0.592481 -0.502445\n",
            "1  0.638789  0.786845\n",
            "2 -0.284663 -0.488854\n",
            "3  0.407926  0.420730\n",
            "4  0.407926 -0.486337\n"
          ],
          "name": "stdout"
        }
      ]
    },
    {
      "cell_type": "code",
      "metadata": {
        "colab": {
          "base_uri": "https://localhost:8080/"
        },
        "id": "05mHHaJc7Mun",
        "outputId": "c2503b70-3d44-4948-fcbe-8cfd08df41ef"
      },
      "source": [
        "from sklearn.preprocessing import StandardScaler\n",
        "scaler = StandardScaler()\n",
        "scaled_data = scaler.fit_transform(value_data)\n",
        "value_data = pd.DataFrame(scaled_data, columns=value_data.columns)#scaler처리하면 dataframe풀리므로 다시 해야함\n",
        "print(value_data.head())"
      ],
      "execution_count": null,
      "outputs": [
        {
          "output_type": "stream",
          "text": [
            "        age      fare\n",
            "0 -0.592481 -0.502445\n",
            "1  0.638789  0.786845\n",
            "2 -0.284663 -0.488854\n",
            "3  0.407926  0.420730\n",
            "4  0.407926 -0.486337\n"
          ],
          "name": "stdout"
        }
      ]
    },
    {
      "cell_type": "code",
      "metadata": {
        "colab": {
          "base_uri": "https://localhost:8080/"
        },
        "id": "qjVqgj_28pIX",
        "outputId": "54a597fa-f5d5-4e49-e492-4063a923835d"
      },
      "source": [
        "training_data = pd.concat([value_data, onehot_data], axis=1)\n",
        "print(training_data.info())"
      ],
      "execution_count": null,
      "outputs": [
        {
          "output_type": "stream",
          "text": [
            "<class 'pandas.core.frame.DataFrame'>\n",
            "RangeIndex: 891 entries, 0 to 890\n",
            "Data columns (total 34 columns):\n",
            " #   Column        Non-Null Count  Dtype  \n",
            "---  ------        --------------  -----  \n",
            " 0   age           891 non-null    float64\n",
            " 1   fare          891 non-null    float64\n",
            " 2   pclass_1      891 non-null    uint8  \n",
            " 3   pclass_2      891 non-null    uint8  \n",
            " 4   pclass_3      891 non-null    uint8  \n",
            " 5   sex_0         891 non-null    uint8  \n",
            " 6   sex_1         891 non-null    uint8  \n",
            " 7   sibsp_0       891 non-null    uint8  \n",
            " 8   sibsp_1       891 non-null    uint8  \n",
            " 9   sibsp_2       891 non-null    uint8  \n",
            " 10  sibsp_3       891 non-null    uint8  \n",
            " 11  sibsp_4       891 non-null    uint8  \n",
            " 12  sibsp_5       891 non-null    uint8  \n",
            " 13  sibsp_8       891 non-null    uint8  \n",
            " 14  parch_0       891 non-null    uint8  \n",
            " 15  parch_1       891 non-null    uint8  \n",
            " 16  parch_2       891 non-null    uint8  \n",
            " 17  parch_3       891 non-null    uint8  \n",
            " 18  parch_4       891 non-null    uint8  \n",
            " 19  parch_5       891 non-null    uint8  \n",
            " 20  parch_6       891 non-null    uint8  \n",
            " 21  embarked_0    891 non-null    uint8  \n",
            " 22  embarked_1    891 non-null    uint8  \n",
            " 23  embarked_2    891 non-null    uint8  \n",
            " 24  class_0       891 non-null    uint8  \n",
            " 25  class_1       891 non-null    uint8  \n",
            " 26  class_2       891 non-null    uint8  \n",
            " 27  who_0         891 non-null    uint8  \n",
            " 28  who_1         891 non-null    uint8  \n",
            " 29  who_2         891 non-null    uint8  \n",
            " 30  adult_male_0  891 non-null    uint8  \n",
            " 31  adult_male_1  891 non-null    uint8  \n",
            " 32  alone_0       891 non-null    uint8  \n",
            " 33  alone_1       891 non-null    uint8  \n",
            "dtypes: float64(2), uint8(32)\n",
            "memory usage: 41.9 KB\n",
            "None\n"
          ],
          "name": "stdout"
        }
      ]
    },
    {
      "cell_type": "code",
      "metadata": {
        "id": "bl41FXoUQ0nr"
      },
      "source": [
        "from sklearn.model_selection import train_test_split\n",
        "X_train, X_test, Y_train, Y_test = train_test_split(\n",
        "    training_data, target, test_size=0.20)\n"
      ],
      "execution_count": null,
      "outputs": []
    },
    {
      "cell_type": "code",
      "metadata": {
        "colab": {
          "base_uri": "https://localhost:8080/"
        },
        "id": "TkYWhlW9RGt_",
        "outputId": "f24d835b-115d-4b15-e7dc-08a02bd0a124"
      },
      "source": [
        "print(X_train.shape)\n",
        "print(Y_train.shape)\n",
        "print(X_test.shape)\n",
        "print(Y_test.shape)"
      ],
      "execution_count": null,
      "outputs": [
        {
          "output_type": "stream",
          "text": [
            "(712, 34)\n",
            "(712, 1)\n",
            "(179, 34)\n",
            "(179, 1)\n"
          ],
          "name": "stdout"
        }
      ]
    },
    {
      "cell_type": "code",
      "metadata": {
        "id": "dR9c6r1BRRiD"
      },
      "source": [
        "#train_set으로 모델 만들어 훈련\n",
        "from tensorflow.keras.models import Sequential\n",
        "from tensorflow.keras.layers import Dense, Dropout"
      ],
      "execution_count": null,
      "outputs": []
    },
    {
      "cell_type": "code",
      "metadata": {
        "colab": {
          "base_uri": "https://localhost:8080/"
        },
        "id": "4BofMjIFRupY",
        "outputId": "0412b9e5-d5ff-4a85-edc9-657395723bf4"
      },
      "source": [
        "#Sequential 모델은 순차적으로 레이어 층을 더해주기 때문에 순차모델\n",
        "#마지막은 이진분류기라 출력 1개, sigmoid모델 적용\n",
        "model = Sequential()\n",
        "model.add(Dense(256, input_dim=34, activation='relu'))\n",
        "model.add(Dropout(0.3))\n",
        "model.add(Dense(128, activation='relu'))\n",
        "model.add(Dropout(0.25))\n",
        "model.add(Dense(64,  activation='relu'))\n",
        "model.add(Dropout(0.25))\n",
        "model.add(Dense(32,  activation='relu'))\n",
        "model.add(Dropout(0.25))\n",
        "model.add(Dense(16,  activation='relu'))\n",
        "model.add(Dropout(0.25))\n",
        "model.add(Dense(1, activation='sigmoid'))\n",
        "print(model.summary())"
      ],
      "execution_count": null,
      "outputs": [
        {
          "output_type": "stream",
          "text": [
            "Model: \"sequential_6\"\n",
            "_________________________________________________________________\n",
            "Layer (type)                 Output Shape              Param #   \n",
            "=================================================================\n",
            "dense_34 (Dense)             (None, 256)               8960      \n",
            "_________________________________________________________________\n",
            "dropout_27 (Dropout)         (None, 256)               0         \n",
            "_________________________________________________________________\n",
            "dense_35 (Dense)             (None, 128)               32896     \n",
            "_________________________________________________________________\n",
            "dropout_28 (Dropout)         (None, 128)               0         \n",
            "_________________________________________________________________\n",
            "dense_36 (Dense)             (None, 64)                8256      \n",
            "_________________________________________________________________\n",
            "dropout_29 (Dropout)         (None, 64)                0         \n",
            "_________________________________________________________________\n",
            "dense_37 (Dense)             (None, 32)                2080      \n",
            "_________________________________________________________________\n",
            "dropout_30 (Dropout)         (None, 32)                0         \n",
            "_________________________________________________________________\n",
            "dense_38 (Dense)             (None, 16)                528       \n",
            "_________________________________________________________________\n",
            "dropout_31 (Dropout)         (None, 16)                0         \n",
            "_________________________________________________________________\n",
            "dense_39 (Dense)             (None, 1)                 17        \n",
            "=================================================================\n",
            "Total params: 52,737\n",
            "Trainable params: 52,737\n",
            "Non-trainable params: 0\n",
            "_________________________________________________________________\n",
            "None\n"
          ],
          "name": "stdout"
        }
      ]
    },
    {
      "cell_type": "code",
      "metadata": {
        "colab": {
          "base_uri": "https://localhost:8080/"
        },
        "id": "1lb1yfjmScEZ",
        "outputId": "99caf1ba-445f-4b6d-ee54-37322ab9f221"
      },
      "source": [
        "model.compile(loss='mse',optimizer='adam',\n",
        "              metrics=['binary_accuracy'])\n",
        "fit_hist = model.fit(\n",
        "    X_train, Y_train,batch_size=50, epochs=50,\n",
        "                         validation_split=0.2)"
      ],
      "execution_count": null,
      "outputs": [
        {
          "output_type": "stream",
          "text": [
            "Epoch 1/50\n",
            "12/12 [==============================] - 1s 22ms/step - loss: 0.2365 - binary_accuracy: 0.6362 - val_loss: 0.2251 - val_binary_accuracy: 0.6294\n",
            "Epoch 2/50\n",
            "12/12 [==============================] - 0s 5ms/step - loss: 0.1987 - binary_accuracy: 0.7170 - val_loss: 0.1809 - val_binary_accuracy: 0.7762\n",
            "Epoch 3/50\n",
            "12/12 [==============================] - 0s 7ms/step - loss: 0.1731 - binary_accuracy: 0.7610 - val_loss: 0.1552 - val_binary_accuracy: 0.7902\n",
            "Epoch 4/50\n",
            "12/12 [==============================] - 0s 5ms/step - loss: 0.1564 - binary_accuracy: 0.7891 - val_loss: 0.1557 - val_binary_accuracy: 0.7902\n",
            "Epoch 5/50\n",
            "12/12 [==============================] - 0s 5ms/step - loss: 0.1518 - binary_accuracy: 0.8014 - val_loss: 0.1557 - val_binary_accuracy: 0.7832\n",
            "Epoch 6/50\n",
            "12/12 [==============================] - 0s 5ms/step - loss: 0.1393 - binary_accuracy: 0.8260 - val_loss: 0.1518 - val_binary_accuracy: 0.7762\n",
            "Epoch 7/50\n",
            "12/12 [==============================] - 0s 5ms/step - loss: 0.1380 - binary_accuracy: 0.8278 - val_loss: 0.1509 - val_binary_accuracy: 0.7902\n",
            "Epoch 8/50\n",
            "12/12 [==============================] - 0s 5ms/step - loss: 0.1408 - binary_accuracy: 0.8190 - val_loss: 0.1501 - val_binary_accuracy: 0.7762\n",
            "Epoch 9/50\n",
            "12/12 [==============================] - 0s 5ms/step - loss: 0.1383 - binary_accuracy: 0.8207 - val_loss: 0.1417 - val_binary_accuracy: 0.7902\n",
            "Epoch 10/50\n",
            "12/12 [==============================] - 0s 5ms/step - loss: 0.1400 - binary_accuracy: 0.8243 - val_loss: 0.1431 - val_binary_accuracy: 0.7902\n",
            "Epoch 11/50\n",
            "12/12 [==============================] - 0s 5ms/step - loss: 0.1388 - binary_accuracy: 0.8348 - val_loss: 0.1446 - val_binary_accuracy: 0.8042\n",
            "Epoch 12/50\n",
            "12/12 [==============================] - 0s 5ms/step - loss: 0.1276 - binary_accuracy: 0.8366 - val_loss: 0.1435 - val_binary_accuracy: 0.7972\n",
            "Epoch 13/50\n",
            "12/12 [==============================] - 0s 5ms/step - loss: 0.1324 - binary_accuracy: 0.8225 - val_loss: 0.1390 - val_binary_accuracy: 0.8182\n",
            "Epoch 14/50\n",
            "12/12 [==============================] - 0s 5ms/step - loss: 0.1329 - binary_accuracy: 0.8207 - val_loss: 0.1392 - val_binary_accuracy: 0.8182\n",
            "Epoch 15/50\n",
            "12/12 [==============================] - 0s 5ms/step - loss: 0.1309 - binary_accuracy: 0.8172 - val_loss: 0.1443 - val_binary_accuracy: 0.8042\n",
            "Epoch 16/50\n",
            "12/12 [==============================] - 0s 5ms/step - loss: 0.1287 - binary_accuracy: 0.8278 - val_loss: 0.1387 - val_binary_accuracy: 0.8182\n",
            "Epoch 17/50\n",
            "12/12 [==============================] - 0s 6ms/step - loss: 0.1349 - binary_accuracy: 0.8172 - val_loss: 0.1409 - val_binary_accuracy: 0.8112\n",
            "Epoch 18/50\n",
            "12/12 [==============================] - 0s 6ms/step - loss: 0.1277 - binary_accuracy: 0.8278 - val_loss: 0.1410 - val_binary_accuracy: 0.8112\n",
            "Epoch 19/50\n",
            "12/12 [==============================] - 0s 6ms/step - loss: 0.1267 - binary_accuracy: 0.8313 - val_loss: 0.1421 - val_binary_accuracy: 0.7972\n",
            "Epoch 20/50\n",
            "12/12 [==============================] - 0s 5ms/step - loss: 0.1365 - binary_accuracy: 0.8313 - val_loss: 0.1450 - val_binary_accuracy: 0.8042\n",
            "Epoch 21/50\n",
            "12/12 [==============================] - 0s 5ms/step - loss: 0.1280 - binary_accuracy: 0.8366 - val_loss: 0.1470 - val_binary_accuracy: 0.7832\n",
            "Epoch 22/50\n",
            "12/12 [==============================] - 0s 5ms/step - loss: 0.1284 - binary_accuracy: 0.8330 - val_loss: 0.1471 - val_binary_accuracy: 0.7902\n",
            "Epoch 23/50\n",
            "12/12 [==============================] - 0s 5ms/step - loss: 0.1284 - binary_accuracy: 0.8278 - val_loss: 0.1437 - val_binary_accuracy: 0.8042\n",
            "Epoch 24/50\n",
            "12/12 [==============================] - 0s 5ms/step - loss: 0.1286 - binary_accuracy: 0.8401 - val_loss: 0.1431 - val_binary_accuracy: 0.8112\n",
            "Epoch 25/50\n",
            "12/12 [==============================] - 0s 4ms/step - loss: 0.1247 - binary_accuracy: 0.8313 - val_loss: 0.1403 - val_binary_accuracy: 0.8112\n",
            "Epoch 26/50\n",
            "12/12 [==============================] - 0s 5ms/step - loss: 0.1264 - binary_accuracy: 0.8366 - val_loss: 0.1407 - val_binary_accuracy: 0.7972\n",
            "Epoch 27/50\n",
            "12/12 [==============================] - 0s 5ms/step - loss: 0.1222 - binary_accuracy: 0.8330 - val_loss: 0.1417 - val_binary_accuracy: 0.8252\n",
            "Epoch 28/50\n",
            "12/12 [==============================] - 0s 5ms/step - loss: 0.1226 - binary_accuracy: 0.8489 - val_loss: 0.1424 - val_binary_accuracy: 0.8182\n",
            "Epoch 29/50\n",
            "12/12 [==============================] - 0s 4ms/step - loss: 0.1190 - binary_accuracy: 0.8453 - val_loss: 0.1406 - val_binary_accuracy: 0.8322\n",
            "Epoch 30/50\n",
            "12/12 [==============================] - 0s 5ms/step - loss: 0.1237 - binary_accuracy: 0.8383 - val_loss: 0.1419 - val_binary_accuracy: 0.8182\n",
            "Epoch 31/50\n",
            "12/12 [==============================] - 0s 5ms/step - loss: 0.1226 - binary_accuracy: 0.8366 - val_loss: 0.1440 - val_binary_accuracy: 0.8042\n",
            "Epoch 32/50\n",
            "12/12 [==============================] - 0s 5ms/step - loss: 0.1241 - binary_accuracy: 0.8401 - val_loss: 0.1501 - val_binary_accuracy: 0.8112\n",
            "Epoch 33/50\n",
            "12/12 [==============================] - 0s 5ms/step - loss: 0.1232 - binary_accuracy: 0.8383 - val_loss: 0.1476 - val_binary_accuracy: 0.8112\n",
            "Epoch 34/50\n",
            "12/12 [==============================] - 0s 6ms/step - loss: 0.1186 - binary_accuracy: 0.8559 - val_loss: 0.1430 - val_binary_accuracy: 0.8042\n",
            "Epoch 35/50\n",
            "12/12 [==============================] - 0s 5ms/step - loss: 0.1196 - binary_accuracy: 0.8418 - val_loss: 0.1432 - val_binary_accuracy: 0.8182\n",
            "Epoch 36/50\n",
            "12/12 [==============================] - 0s 6ms/step - loss: 0.1219 - binary_accuracy: 0.8453 - val_loss: 0.1464 - val_binary_accuracy: 0.8042\n",
            "Epoch 37/50\n",
            "12/12 [==============================] - 0s 5ms/step - loss: 0.1189 - binary_accuracy: 0.8453 - val_loss: 0.1471 - val_binary_accuracy: 0.7972\n",
            "Epoch 38/50\n",
            "12/12 [==============================] - 0s 5ms/step - loss: 0.1188 - binary_accuracy: 0.8489 - val_loss: 0.1456 - val_binary_accuracy: 0.8182\n",
            "Epoch 39/50\n",
            "12/12 [==============================] - 0s 5ms/step - loss: 0.1232 - binary_accuracy: 0.8401 - val_loss: 0.1456 - val_binary_accuracy: 0.7972\n",
            "Epoch 40/50\n",
            "12/12 [==============================] - 0s 5ms/step - loss: 0.1199 - binary_accuracy: 0.8348 - val_loss: 0.1501 - val_binary_accuracy: 0.7902\n",
            "Epoch 41/50\n",
            "12/12 [==============================] - 0s 6ms/step - loss: 0.1217 - binary_accuracy: 0.8383 - val_loss: 0.1499 - val_binary_accuracy: 0.7902\n",
            "Epoch 42/50\n",
            "12/12 [==============================] - 0s 5ms/step - loss: 0.1102 - binary_accuracy: 0.8576 - val_loss: 0.1483 - val_binary_accuracy: 0.7972\n",
            "Epoch 43/50\n",
            "12/12 [==============================] - 0s 5ms/step - loss: 0.1161 - binary_accuracy: 0.8471 - val_loss: 0.1487 - val_binary_accuracy: 0.7902\n",
            "Epoch 44/50\n",
            "12/12 [==============================] - 0s 5ms/step - loss: 0.1136 - binary_accuracy: 0.8489 - val_loss: 0.1502 - val_binary_accuracy: 0.7902\n",
            "Epoch 45/50\n",
            "12/12 [==============================] - 0s 5ms/step - loss: 0.1138 - binary_accuracy: 0.8594 - val_loss: 0.1569 - val_binary_accuracy: 0.7902\n",
            "Epoch 46/50\n",
            "12/12 [==============================] - 0s 5ms/step - loss: 0.1137 - binary_accuracy: 0.8489 - val_loss: 0.1583 - val_binary_accuracy: 0.7832\n",
            "Epoch 47/50\n",
            "12/12 [==============================] - 0s 5ms/step - loss: 0.1090 - binary_accuracy: 0.8541 - val_loss: 0.1526 - val_binary_accuracy: 0.7972\n",
            "Epoch 48/50\n",
            "12/12 [==============================] - 0s 8ms/step - loss: 0.1078 - binary_accuracy: 0.8594 - val_loss: 0.1586 - val_binary_accuracy: 0.7832\n",
            "Epoch 49/50\n",
            "12/12 [==============================] - 0s 5ms/step - loss: 0.1156 - binary_accuracy: 0.8576 - val_loss: 0.1594 - val_binary_accuracy: 0.7972\n",
            "Epoch 50/50\n",
            "12/12 [==============================] - 0s 6ms/step - loss: 0.1192 - binary_accuracy: 0.8330 - val_loss: 0.1491 - val_binary_accuracy: 0.7972\n"
          ],
          "name": "stdout"
        }
      ]
    },
    {
      "cell_type": "code",
      "metadata": {
        "colab": {
          "base_uri": "https://localhost:8080/",
          "height": 265
        },
        "id": "TNYn7hpVTJ5M",
        "outputId": "c1318e59-c874-460d-e82b-2dd3f50e86bd"
      },
      "source": [
        "import matplotlib.pyplot as plt\n",
        "plt.plot(fit_hist.history['binary_accuracy'])\n",
        "plt.plot(fit_hist.history['val_binary_accuracy'])\n",
        "plt.show()"
      ],
      "execution_count": null,
      "outputs": [
        {
          "output_type": "display_data",
          "data": {
            "image/png": "[encoded data removed]",
            "text/plain": [
              "<Figure size 432x288 with 1 Axes>"
            ]
          },
          "metadata": {
            "tags": [],
            "needs_background": "light"
          }
        }
      ]
    },
    {
      "cell_type": "markdown",
      "metadata": {
        "id": "xbhAvkmwTXZv"
      },
      "source": [
        "[검증시작]"
      ]
    },
    {
      "cell_type": "code",
      "metadata": {
        "colab": {
          "base_uri": "https://localhost:8080/"
        },
        "id": "B-FQ5q71TWKQ",
        "outputId": "da62de8c-df3b-4777-f4d4-852b083f09f6"
      },
      "source": [
        "#verbose 진행사항 관련 정보(학습시간, loss값, accuracy 등) 알려줌\n",
        "#0 -> 진행사항 안보여줌\n",
        "#1 -> 진행사항 보여줌\n",
        "#2 -> 결과만 보여줌\n",
        "score = model.evaluate(X_test, Y_test, verbose=0)\n",
        "print('loss :',score[0])\n",
        "print('accuracy :', score[1])"
      ],
      "execution_count": null,
      "outputs": [
        {
          "output_type": "stream",
          "text": [
            "loss : 0.11732975393533707\n",
            "accuracy : 0.8379888534545898\n"
          ],
          "name": "stdout"
        }
      ]
    },
    {
      "cell_type": "markdown",
      "metadata": {
        "id": "ko8XJduuUyen"
      },
      "source": [
        "[아래부터 나 혼자한 것 => 타이타닉 데이터분석]"
      ]
    },
    {
      "cell_type": "code",
      "metadata": {
        "colab": {
          "base_uri": "https://localhost:8080/"
        },
        "id": "sMLmuEHAl6K9",
        "outputId": "7b34c3c1-582f-4e2d-e197-a3f04c578203"
      },
      "source": [
        "raw_data['survived'].value_counts()"
      ],
      "execution_count": null,
      "outputs": [
        {
          "output_type": "execute_result",
          "data": {
            "text/plain": [
              "0    549\n",
              "1    342\n",
              "Name: survived, dtype: int64"
            ]
          },
          "metadata": {
            "tags": []
          },
          "execution_count": 37
        }
      ]
    },
    {
      "cell_type": "code",
      "metadata": {
        "colab": {
          "base_uri": "https://localhost:8080/",
          "height": 202
        },
        "id": "vx-4htT0d0z9",
        "outputId": "4b1e6cb5-7c95-4f87-913c-d7c536e03957"
      },
      "source": [
        "#null data 통계\n",
        "total = raw_data.isnull().sum().sort_values(ascending=False)\n",
        "ratio = (raw_data.isnull().sum() / raw_data.isnull().count() * 100).sort_values(ascending=False)\n",
        "\n",
        "missing_data = pd.concat([total, ratio], axis=1, keys=['Total', 'Ratio'])\n",
        "missing_data.head()"
      ],
      "execution_count": null,
      "outputs": [
        {
          "output_type": "execute_result",
          "data": {
            "text/html": [
              "<div>\n",
              "<style scoped>\n",
              "    .dataframe tbody tr th:only-of-type {\n",
              "        vertical-align: middle;\n",
              "    }\n",
              "\n",
              "    .dataframe tbody tr th {\n",
              "        vertical-align: top;\n",
              "    }\n",
              "\n",
              "    .dataframe thead th {\n",
              "        text-align: right;\n",
              "    }\n",
              "</style>\n",
              "<table border=\"1\" class=\"dataframe\">\n",
              "  <thead>\n",
              "    <tr style=\"text-align: right;\">\n",
              "      <th></th>\n",
              "      <th>Total</th>\n",
              "      <th>Ratio</th>\n",
              "    </tr>\n",
              "  </thead>\n",
              "  <tbody>\n",
              "    <tr>\n",
              "      <th>deck</th>\n",
              "      <td>688</td>\n",
              "      <td>77.216611</td>\n",
              "    </tr>\n",
              "    <tr>\n",
              "      <th>age</th>\n",
              "      <td>177</td>\n",
              "      <td>19.865320</td>\n",
              "    </tr>\n",
              "    <tr>\n",
              "      <th>embark_town</th>\n",
              "      <td>2</td>\n",
              "      <td>0.224467</td>\n",
              "    </tr>\n",
              "    <tr>\n",
              "      <th>embarked</th>\n",
              "      <td>2</td>\n",
              "      <td>0.224467</td>\n",
              "    </tr>\n",
              "    <tr>\n",
              "      <th>alone</th>\n",
              "      <td>0</td>\n",
              "      <td>0.000000</td>\n",
              "    </tr>\n",
              "  </tbody>\n",
              "</table>\n",
              "</div>"
            ],
            "text/plain": [
              "             Total      Ratio\n",
              "deck           688  77.216611\n",
              "age            177  19.865320\n",
              "embark_town      2   0.224467\n",
              "embarked         2   0.224467\n",
              "alone            0   0.000000"
            ]
          },
          "metadata": {
            "tags": []
          },
          "execution_count": 15
        }
      ]
    },
    {
      "cell_type": "code",
      "metadata": {
        "colab": {
          "base_uri": "https://localhost:8080/",
          "height": 304
        },
        "id": "-jBpzC5sitr2",
        "outputId": "d77172f6-2190-4372-dc13-ef7776787e86"
      },
      "source": [
        "#성별에 따른 생존율\n",
        "sex_pivot = raw_data.pivot_table(index='sex', values='survived')\n",
        "sex_pivot.plot.bar()\n",
        "plt.show()"
      ],
      "execution_count": null,
      "outputs": [
        {
          "output_type": "display_data",
          "data": {
            "image/png": "[encoded data removed]",
            "text/plain": [
              "<Figure size 432x288 with 1 Axes>"
            ]
          },
          "metadata": {
            "tags": [],
            "needs_background": "light"
          }
        }
      ]
    },
    {
      "cell_type": "code",
      "metadata": {
        "colab": {
          "base_uri": "https://localhost:8080/",
          "height": 265
        },
        "id": "qIfiUEtUituh",
        "outputId": "018bbeb4-dbee-46fd-e239-2816530645db"
      },
      "source": [
        "#연령대에 따른 생존율\n",
        "survived = raw_data[raw_data['survived']==1]\n",
        "survived['age'].plot.hist(alpha=0.5, color='blue', bins=50)\n",
        "plt.show()"
      ],
      "execution_count": null,
      "outputs": [
        {
          "output_type": "display_data",
          "data": {
            "image/png": "[encoded data removed]",
            "text/plain": [
              "<Figure size 432x288 with 1 Axes>"
            ]
          },
          "metadata": {
            "tags": [],
            "needs_background": "light"
          }
        }
      ]
    },
    {
      "cell_type": "code",
      "metadata": {
        "colab": {
          "base_uri": "https://localhost:8080/",
          "height": 297
        },
        "id": "0cj6DkYHitxE",
        "outputId": "3077b5da-8f1e-4e67-f52b-8a70673b1d3e"
      },
      "source": [
        "#커널 밀도 추정(KDE: Kernel Density Estimator)\n",
        "sns.kdeplot(raw_data['age'], shade=True)"
      ],
      "execution_count": null,
      "outputs": [
        {
          "output_type": "execute_result",
          "data": {
            "text/plain": [
              "<matplotlib.axes._subplots.AxesSubplot at 0x7f7f61bfb350>"
            ]
          },
          "metadata": {
            "tags": []
          },
          "execution_count": 28
        },
        {
          "output_type": "display_data",
          "data": {
            "image/png": "[encoded data removed]",
            "text/plain": [
              "<Figure size 432x288 with 1 Axes>"
            ]
          },
          "metadata": {
            "tags": [],
            "needs_background": "light"
          }
        }
      ]
    },
    {
      "cell_type": "code",
      "metadata": {
        "id": "P4GYkCkYitzv"
      },
      "source": [
        ""
      ],
      "execution_count": null,
      "outputs": []
    },
    {
      "cell_type": "markdown",
      "metadata": {
        "id": "6d6mN2NxZzRk"
      },
      "source": [
        ""
      ]
    }
  ]
}