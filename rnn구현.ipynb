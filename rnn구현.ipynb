{
  "nbformat": 4,
  "nbformat_minor": 0,
  "metadata": {
    "colab": {
      "name": "rnn구현.ipynb",
      "provenance": [],
      "collapsed_sections": [],
      "authorship_tag": "ABX9TyNHxSgacLFSIVivwpEIr4Yv",
      "include_colab_link": true
    },
    "kernelspec": {
      "name": "python3",
      "display_name": "Python 3"
    },
    "language_info": {
      "name": "python"
    },
    "widgets": {
      "application/vnd.jupyter.widget-state+json": {
        "77d5ac6d3429422a96b41a5eeb8c5b92": {
          "model_module": "@jupyter-widgets/controls",
          "model_name": "HBoxModel",
          "model_module_version": "1.5.0",
          "state": {
            "_view_name": "HBoxView",
            "_dom_classes": [],
            "_model_name": "HBoxModel",
            "_view_module": "@jupyter-widgets/controls",
            "_model_module_version": "1.5.0",
            "_view_count": null,
            "_view_module_version": "1.5.0",
            "box_style": "",
            "layout": "IPY_MODEL_51b8179849ad4037aeefbcc3ed95ed6a",
            "_model_module": "@jupyter-widgets/controls",
            "children": [
              "IPY_MODEL_48f8ee0580ec49ba853e339636db77e4",
              "IPY_MODEL_c9184f5b81594cdeae199a01ce3bf4ce",
              "IPY_MODEL_b7e4a65e17464673ad3ad87da791b7fb"
            ]
          }
        },
        "51b8179849ad4037aeefbcc3ed95ed6a": {
          "model_module": "@jupyter-widgets/base",
          "model_name": "LayoutModel",
          "model_module_version": "1.2.0",
          "state": {
            "_view_name": "LayoutView",
            "grid_template_rows": null,
            "right": null,
            "justify_content": null,
            "_view_module": "@jupyter-widgets/base",
            "overflow": null,
            "_model_module_version": "1.2.0",
            "_view_count": null,
            "flex_flow": null,
            "width": null,
            "min_width": null,
            "border": null,
            "align_items": null,
            "bottom": null,
            "_model_module": "@jupyter-widgets/base",
            "top": null,
            "grid_column": null,
            "overflow_y": null,
            "overflow_x": null,
            "grid_auto_flow": null,
            "grid_area": null,
            "grid_template_columns": null,
            "flex": null,
            "_model_name": "LayoutModel",
            "justify_items": null,
            "grid_row": null,
            "max_height": null,
            "align_content": null,
            "visibility": null,
            "align_self": null,
            "height": null,
            "min_height": null,
            "padding": null,
            "grid_auto_rows": null,
            "grid_gap": null,
            "max_width": null,
            "order": null,
            "_view_module_version": "1.2.0",
            "grid_template_areas": null,
            "object_position": null,
            "object_fit": null,
            "grid_auto_columns": null,
            "margin": null,
            "display": null,
            "left": null
          }
        },
        "48f8ee0580ec49ba853e339636db77e4": {
          "model_module": "@jupyter-widgets/controls",
          "model_name": "HTMLModel",
          "model_module_version": "1.5.0",
          "state": {
            "_view_name": "HTMLView",
            "style": "IPY_MODEL_4309f96d463e43b184bad8d8ae617d9d",
            "_dom_classes": [],
            "description": "",
            "_model_name": "HTMLModel",
            "placeholder": "​",
            "_view_module": "@jupyter-widgets/controls",
            "_model_module_version": "1.5.0",
            "value": "",
            "_view_count": null,
            "_view_module_version": "1.5.0",
            "description_tooltip": null,
            "_model_module": "@jupyter-widgets/controls",
            "layout": "IPY_MODEL_1f922a98b2d340fbb876d9c7454f7d09"
          }
        },
        "c9184f5b81594cdeae199a01ce3bf4ce": {
          "model_module": "@jupyter-widgets/controls",
          "model_name": "FloatProgressModel",
          "model_module_version": "1.5.0",
          "state": {
            "_view_name": "ProgressView",
            "style": "IPY_MODEL_dc2dd35e91264d0684350266ce265ed4",
            "_dom_classes": [],
            "description": "",
            "_model_name": "FloatProgressModel",
            "bar_style": "success",
            "max": 9912422,
            "_view_module": "@jupyter-widgets/controls",
            "_model_module_version": "1.5.0",
            "value": 9912422,
            "_view_count": null,
            "_view_module_version": "1.5.0",
            "orientation": "horizontal",
            "min": 0,
            "description_tooltip": null,
            "_model_module": "@jupyter-widgets/controls",
            "layout": "IPY_MODEL_1200d46a961b4462b0ea95955989d187"
          }
        },
        "b7e4a65e17464673ad3ad87da791b7fb": {
          "model_module": "@jupyter-widgets/controls",
          "model_name": "HTMLModel",
          "model_module_version": "1.5.0",
          "state": {
            "_view_name": "HTMLView",
            "style": "IPY_MODEL_b0ee0a1b3d60440dbee876ad255cb683",
            "_dom_classes": [],
            "description": "",
            "_model_name": "HTMLModel",
            "placeholder": "​",
            "_view_module": "@jupyter-widgets/controls",
            "_model_module_version": "1.5.0",
            "value": " 9913344/? [00:00&lt;00:00, 25403922.36it/s]",
            "_view_count": null,
            "_view_module_version": "1.5.0",
            "description_tooltip": null,
            "_model_module": "@jupyter-widgets/controls",
            "layout": "IPY_MODEL_8ebce102ba8c464a97ec486b948230fb"
          }
        },
        "4309f96d463e43b184bad8d8ae617d9d": {
          "model_module": "@jupyter-widgets/controls",
          "model_name": "DescriptionStyleModel",
          "model_module_version": "1.5.0",
          "state": {
            "_view_name": "StyleView",
            "_model_name": "DescriptionStyleModel",
            "description_width": "",
            "_view_module": "@jupyter-widgets/base",
            "_model_module_version": "1.5.0",
            "_view_count": null,
            "_view_module_version": "1.2.0",
            "_model_module": "@jupyter-widgets/controls"
          }
        },
        "1f922a98b2d340fbb876d9c7454f7d09": {
          "model_module": "@jupyter-widgets/base",
          "model_name": "LayoutModel",
          "model_module_version": "1.2.0",
          "state": {
            "_view_name": "LayoutView",
            "grid_template_rows": null,
            "right": null,
            "justify_content": null,
            "_view_module": "@jupyter-widgets/base",
            "overflow": null,
            "_model_module_version": "1.2.0",
            "_view_count": null,
            "flex_flow": null,
            "width": null,
            "min_width": null,
            "border": null,
            "align_items": null,
            "bottom": null,
            "_model_module": "@jupyter-widgets/base",
            "top": null,
            "grid_column": null,
            "overflow_y": null,
            "overflow_x": null,
            "grid_auto_flow": null,
            "grid_area": null,
            "grid_template_columns": null,
            "flex": null,
            "_model_name": "LayoutModel",
            "justify_items": null,
            "grid_row": null,
            "max_height": null,
            "align_content": null,
            "visibility": null,
            "align_self": null,
            "height": null,
            "min_height": null,
            "padding": null,
            "grid_auto_rows": null,
            "grid_gap": null,
            "max_width": null,
            "order": null,
            "_view_module_version": "1.2.0",
            "grid_template_areas": null,
            "object_position": null,
            "object_fit": null,
            "grid_auto_columns": null,
            "margin": null,
            "display": null,
            "left": null
          }
        },
        "dc2dd35e91264d0684350266ce265ed4": {
          "model_module": "@jupyter-widgets/controls",
          "model_name": "ProgressStyleModel",
          "model_module_version": "1.5.0",
          "state": {
            "_view_name": "StyleView",
            "_model_name": "ProgressStyleModel",
            "description_width": "",
            "_view_module": "@jupyter-widgets/base",
            "_model_module_version": "1.5.0",
            "_view_count": null,
            "_view_module_version": "1.2.0",
            "bar_color": null,
            "_model_module": "@jupyter-widgets/controls"
          }
        },
        "1200d46a961b4462b0ea95955989d187": {
          "model_module": "@jupyter-widgets/base",
          "model_name": "LayoutModel",
          "model_module_version": "1.2.0",
          "state": {
            "_view_name": "LayoutView",
            "grid_template_rows": null,
            "right": null,
            "justify_content": null,
            "_view_module": "@jupyter-widgets/base",
            "overflow": null,
            "_model_module_version": "1.2.0",
            "_view_count": null,
            "flex_flow": null,
            "width": null,
            "min_width": null,
            "border": null,
            "align_items": null,
            "bottom": null,
            "_model_module": "@jupyter-widgets/base",
            "top": null,
            "grid_column": null,
            "overflow_y": null,
            "overflow_x": null,
            "grid_auto_flow": null,
            "grid_area": null,
            "grid_template_columns": null,
            "flex": null,
            "_model_name": "LayoutModel",
            "justify_items": null,
            "grid_row": null,
            "max_height": null,
            "align_content": null,
            "visibility": null,
            "align_self": null,
            "height": null,
            "min_height": null,
            "padding": null,
            "grid_auto_rows": null,
            "grid_gap": null,
            "max_width": null,
            "order": null,
            "_view_module_version": "1.2.0",
            "grid_template_areas": null,
            "object_position": null,
            "object_fit": null,
            "grid_auto_columns": null,
            "margin": null,
            "display": null,
            "left": null
          }
        },
        "b0ee0a1b3d60440dbee876ad255cb683": {
          "model_module": "@jupyter-widgets/controls",
          "model_name": "DescriptionStyleModel",
          "model_module_version": "1.5.0",
          "state": {
            "_view_name": "StyleView",
            "_model_name": "DescriptionStyleModel",
            "description_width": "",
            "_view_module": "@jupyter-widgets/base",
            "_model_module_version": "1.5.0",
            "_view_count": null,
            "_view_module_version": "1.2.0",
            "_model_module": "@jupyter-widgets/controls"
          }
        },
        "8ebce102ba8c464a97ec486b948230fb": {
          "model_module": "@jupyter-widgets/base",
          "model_name": "LayoutModel",
          "model_module_version": "1.2.0",
          "state": {
            "_view_name": "LayoutView",
            "grid_template_rows": null,
            "right": null,
            "justify_content": null,
            "_view_module": "@jupyter-widgets/base",
            "overflow": null,
            "_model_module_version": "1.2.0",
            "_view_count": null,
            "flex_flow": null,
            "width": null,
            "min_width": null,
            "border": null,
            "align_items": null,
            "bottom": null,
            "_model_module": "@jupyter-widgets/base",
            "top": null,
            "grid_column": null,
            "overflow_y": null,
            "overflow_x": null,
            "grid_auto_flow": null,
            "grid_area": null,
            "grid_template_columns": null,
            "flex": null,
            "_model_name": "LayoutModel",
            "justify_items": null,
            "grid_row": null,
            "max_height": null,
            "align_content": null,
            "visibility": null,
            "align_self": null,
            "height": null,
            "min_height": null,
            "padding": null,
            "grid_auto_rows": null,
            "grid_gap": null,
            "max_width": null,
            "order": null,
            "_view_module_version": "1.2.0",
            "grid_template_areas": null,
            "object_position": null,
            "object_fit": null,
            "grid_auto_columns": null,
            "margin": null,
            "display": null,
            "left": null
          }
        },
        "7695d435524d46a2be405228fddfd5f3": {
          "model_module": "@jupyter-widgets/controls",
          "model_name": "HBoxModel",
          "model_module_version": "1.5.0",
          "state": {
            "_view_name": "HBoxView",
            "_dom_classes": [],
            "_model_name": "HBoxModel",
            "_view_module": "@jupyter-widgets/controls",
            "_model_module_version": "1.5.0",
            "_view_count": null,
            "_view_module_version": "1.5.0",
            "box_style": "",
            "layout": "IPY_MODEL_3f4ce48527e841218853e76821a519cc",
            "_model_module": "@jupyter-widgets/controls",
            "children": [
              "IPY_MODEL_583be78a8ad447d7a5d1c6abb3cfea3e",
              "IPY_MODEL_5801e6fad6c647fcb7e99c2d51817071",
              "IPY_MODEL_c1edd2d2fcd94a8eb9e94d883c105df9"
            ]
          }
        },
        "3f4ce48527e841218853e76821a519cc": {
          "model_module": "@jupyter-widgets/base",
          "model_name": "LayoutModel",
          "model_module_version": "1.2.0",
          "state": {
            "_view_name": "LayoutView",
            "grid_template_rows": null,
            "right": null,
            "justify_content": null,
            "_view_module": "@jupyter-widgets/base",
            "overflow": null,
            "_model_module_version": "1.2.0",
            "_view_count": null,
            "flex_flow": null,
            "width": null,
            "min_width": null,
            "border": null,
            "align_items": null,
            "bottom": null,
            "_model_module": "@jupyter-widgets/base",
            "top": null,
            "grid_column": null,
            "overflow_y": null,
            "overflow_x": null,
            "grid_auto_flow": null,
            "grid_area": null,
            "grid_template_columns": null,
            "flex": null,
            "_model_name": "LayoutModel",
            "justify_items": null,
            "grid_row": null,
            "max_height": null,
            "align_content": null,
            "visibility": null,
            "align_self": null,
            "height": null,
            "min_height": null,
            "padding": null,
            "grid_auto_rows": null,
            "grid_gap": null,
            "max_width": null,
            "order": null,
            "_view_module_version": "1.2.0",
            "grid_template_areas": null,
            "object_position": null,
            "object_fit": null,
            "grid_auto_columns": null,
            "margin": null,
            "display": null,
            "left": null
          }
        },
        "583be78a8ad447d7a5d1c6abb3cfea3e": {
          "model_module": "@jupyter-widgets/controls",
          "model_name": "HTMLModel",
          "model_module_version": "1.5.0",
          "state": {
            "_view_name": "HTMLView",
            "style": "IPY_MODEL_61c6c602b4ca42d2aab4ff4d48b486e5",
            "_dom_classes": [],
            "description": "",
            "_model_name": "HTMLModel",
            "placeholder": "​",
            "_view_module": "@jupyter-widgets/controls",
            "_model_module_version": "1.5.0",
            "value": "",
            "_view_count": null,
            "_view_module_version": "1.5.0",
            "description_tooltip": null,
            "_model_module": "@jupyter-widgets/controls",
            "layout": "IPY_MODEL_13ac7cec9fd2465eb21ce38b5f37c3da"
          }
        },
        "5801e6fad6c647fcb7e99c2d51817071": {
          "model_module": "@jupyter-widgets/controls",
          "model_name": "FloatProgressModel",
          "model_module_version": "1.5.0",
          "state": {
            "_view_name": "ProgressView",
            "style": "IPY_MODEL_bae45c474f8b48ef9ab39cc03fc1bbcc",
            "_dom_classes": [],
            "description": "",
            "_model_name": "FloatProgressModel",
            "bar_style": "success",
            "max": 28881,
            "_view_module": "@jupyter-widgets/controls",
            "_model_module_version": "1.5.0",
            "value": 28881,
            "_view_count": null,
            "_view_module_version": "1.5.0",
            "orientation": "horizontal",
            "min": 0,
            "description_tooltip": null,
            "_model_module": "@jupyter-widgets/controls",
            "layout": "IPY_MODEL_9b70335367114d2f99caa2c22a3f6aa7"
          }
        },
        "c1edd2d2fcd94a8eb9e94d883c105df9": {
          "model_module": "@jupyter-widgets/controls",
          "model_name": "HTMLModel",
          "model_module_version": "1.5.0",
          "state": {
            "_view_name": "HTMLView",
            "style": "IPY_MODEL_a000d9647ddd4603bbfa5aaee68bc570",
            "_dom_classes": [],
            "description": "",
            "_model_name": "HTMLModel",
            "placeholder": "​",
            "_view_module": "@jupyter-widgets/controls",
            "_model_module_version": "1.5.0",
            "value": " 29696/? [00:00&lt;00:00, 578151.42it/s]",
            "_view_count": null,
            "_view_module_version": "1.5.0",
            "description_tooltip": null,
            "_model_module": "@jupyter-widgets/controls",
            "layout": "IPY_MODEL_6975be3cbe064680ac2f701707dca2c5"
          }
        },
        "61c6c602b4ca42d2aab4ff4d48b486e5": {
          "model_module": "@jupyter-widgets/controls",
          "model_name": "DescriptionStyleModel",
          "model_module_version": "1.5.0",
          "state": {
            "_view_name": "StyleView",
            "_model_name": "DescriptionStyleModel",
            "description_width": "",
            "_view_module": "@jupyter-widgets/base",
            "_model_module_version": "1.5.0",
            "_view_count": null,
            "_view_module_version": "1.2.0",
            "_model_module": "@jupyter-widgets/controls"
          }
        },
        "13ac7cec9fd2465eb21ce38b5f37c3da": {
          "model_module": "@jupyter-widgets/base",
          "model_name": "LayoutModel",
          "model_module_version": "1.2.0",
          "state": {
            "_view_name": "LayoutView",
            "grid_template_rows": null,
            "right": null,
            "justify_content": null,
            "_view_module": "@jupyter-widgets/base",
            "overflow": null,
            "_model_module_version": "1.2.0",
            "_view_count": null,
            "flex_flow": null,
            "width": null,
            "min_width": null,
            "border": null,
            "align_items": null,
            "bottom": null,
            "_model_module": "@jupyter-widgets/base",
            "top": null,
            "grid_column": null,
            "overflow_y": null,
            "overflow_x": null,
            "grid_auto_flow": null,
            "grid_area": null,
            "grid_template_columns": null,
            "flex": null,
            "_model_name": "LayoutModel",
            "justify_items": null,
            "grid_row": null,
            "max_height": null,
            "align_content": null,
            "visibility": null,
            "align_self": null,
            "height": null,
            "min_height": null,
            "padding": null,
            "grid_auto_rows": null,
            "grid_gap": null,
            "max_width": null,
            "order": null,
            "_view_module_version": "1.2.0",
            "grid_template_areas": null,
            "object_position": null,
            "object_fit": null,
            "grid_auto_columns": null,
            "margin": null,
            "display": null,
            "left": null
          }
        },
        "bae45c474f8b48ef9ab39cc03fc1bbcc": {
          "model_module": "@jupyter-widgets/controls",
          "model_name": "ProgressStyleModel",
          "model_module_version": "1.5.0",
          "state": {
            "_view_name": "StyleView",
            "_model_name": "ProgressStyleModel",
            "description_width": "",
            "_view_module": "@jupyter-widgets/base",
            "_model_module_version": "1.5.0",
            "_view_count": null,
            "_view_module_version": "1.2.0",
            "bar_color": null,
            "_model_module": "@jupyter-widgets/controls"
          }
        },
        "9b70335367114d2f99caa2c22a3f6aa7": {
          "model_module": "@jupyter-widgets/base",
          "model_name": "LayoutModel",
          "model_module_version": "1.2.0",
          "state": {
            "_view_name": "LayoutView",
            "grid_template_rows": null,
            "right": null,
            "justify_content": null,
            "_view_module": "@jupyter-widgets/base",
            "overflow": null,
            "_model_module_version": "1.2.0",
            "_view_count": null,
            "flex_flow": null,
            "width": null,
            "min_width": null,
            "border": null,
            "align_items": null,
            "bottom": null,
            "_model_module": "@jupyter-widgets/base",
            "top": null,
            "grid_column": null,
            "overflow_y": null,
            "overflow_x": null,
            "grid_auto_flow": null,
            "grid_area": null,
            "grid_template_columns": null,
            "flex": null,
            "_model_name": "LayoutModel",
            "justify_items": null,
            "grid_row": null,
            "max_height": null,
            "align_content": null,
            "visibility": null,
            "align_self": null,
            "height": null,
            "min_height": null,
            "padding": null,
            "grid_auto_rows": null,
            "grid_gap": null,
            "max_width": null,
            "order": null,
            "_view_module_version": "1.2.0",
            "grid_template_areas": null,
            "object_position": null,
            "object_fit": null,
            "grid_auto_columns": null,
            "margin": null,
            "display": null,
            "left": null
          }
        },
        "a000d9647ddd4603bbfa5aaee68bc570": {
          "model_module": "@jupyter-widgets/controls",
          "model_name": "DescriptionStyleModel",
          "model_module_version": "1.5.0",
          "state": {
            "_view_name": "StyleView",
            "_model_name": "DescriptionStyleModel",
            "description_width": "",
            "_view_module": "@jupyter-widgets/base",
            "_model_module_version": "1.5.0",
            "_view_count": null,
            "_view_module_version": "1.2.0",
            "_model_module": "@jupyter-widgets/controls"
          }
        },
        "6975be3cbe064680ac2f701707dca2c5": {
          "model_module": "@jupyter-widgets/base",
          "model_name": "LayoutModel",
          "model_module_version": "1.2.0",
          "state": {
            "_view_name": "LayoutView",
            "grid_template_rows": null,
            "right": null,
            "justify_content": null,
            "_view_module": "@jupyter-widgets/base",
            "overflow": null,
            "_model_module_version": "1.2.0",
            "_view_count": null,
            "flex_flow": null,
            "width": null,
            "min_width": null,
            "border": null,
            "align_items": null,
            "bottom": null,
            "_model_module": "@jupyter-widgets/base",
            "top": null,
            "grid_column": null,
            "overflow_y": null,
            "overflow_x": null,
            "grid_auto_flow": null,
            "grid_area": null,
            "grid_template_columns": null,
            "flex": null,
            "_model_name": "LayoutModel",
            "justify_items": null,
            "grid_row": null,
            "max_height": null,
            "align_content": null,
            "visibility": null,
            "align_self": null,
            "height": null,
            "min_height": null,
            "padding": null,
            "grid_auto_rows": null,
            "grid_gap": null,
            "max_width": null,
            "order": null,
            "_view_module_version": "1.2.0",
            "grid_template_areas": null,
            "object_position": null,
            "object_fit": null,
            "grid_auto_columns": null,
            "margin": null,
            "display": null,
            "left": null
          }
        },
        "130f9a746fab4161ae520f49e8ea52a6": {
          "model_module": "@jupyter-widgets/controls",
          "model_name": "HBoxModel",
          "model_module_version": "1.5.0",
          "state": {
            "_view_name": "HBoxView",
            "_dom_classes": [],
            "_model_name": "HBoxModel",
            "_view_module": "@jupyter-widgets/controls",
            "_model_module_version": "1.5.0",
            "_view_count": null,
            "_view_module_version": "1.5.0",
            "box_style": "",
            "layout": "IPY_MODEL_ebc7ff53e81f4f609b3648477869bf2d",
            "_model_module": "@jupyter-widgets/controls",
            "children": [
              "IPY_MODEL_fb018eb2ff5a4965aa6d2abd29c9ce72",
              "IPY_MODEL_8533cfc0558e4c099c4d7f48588fd1f2",
              "IPY_MODEL_3aabf65d46d54040a927c87174a1a3c7"
            ]
          }
        },
        "ebc7ff53e81f4f609b3648477869bf2d": {
          "model_module": "@jupyter-widgets/base",
          "model_name": "LayoutModel",
          "model_module_version": "1.2.0",
          "state": {
            "_view_name": "LayoutView",
            "grid_template_rows": null,
            "right": null,
            "justify_content": null,
            "_view_module": "@jupyter-widgets/base",
            "overflow": null,
            "_model_module_version": "1.2.0",
            "_view_count": null,
            "flex_flow": null,
            "width": null,
            "min_width": null,
            "border": null,
            "align_items": null,
            "bottom": null,
            "_model_module": "@jupyter-widgets/base",
            "top": null,
            "grid_column": null,
            "overflow_y": null,
            "overflow_x": null,
            "grid_auto_flow": null,
            "grid_area": null,
            "grid_template_columns": null,
            "flex": null,
            "_model_name": "LayoutModel",
            "justify_items": null,
            "grid_row": null,
            "max_height": null,
            "align_content": null,
            "visibility": null,
            "align_self": null,
            "height": null,
            "min_height": null,
            "padding": null,
            "grid_auto_rows": null,
            "grid_gap": null,
            "max_width": null,
            "order": null,
            "_view_module_version": "1.2.0",
            "grid_template_areas": null,
            "object_position": null,
            "object_fit": null,
            "grid_auto_columns": null,
            "margin": null,
            "display": null,
            "left": null
          }
        },
        "fb018eb2ff5a4965aa6d2abd29c9ce72": {
          "model_module": "@jupyter-widgets/controls",
          "model_name": "HTMLModel",
          "model_module_version": "1.5.0",
          "state": {
            "_view_name": "HTMLView",
            "style": "IPY_MODEL_763055a394a846a9b5176a827e59c2b9",
            "_dom_classes": [],
            "description": "",
            "_model_name": "HTMLModel",
            "placeholder": "​",
            "_view_module": "@jupyter-widgets/controls",
            "_model_module_version": "1.5.0",
            "value": "",
            "_view_count": null,
            "_view_module_version": "1.5.0",
            "description_tooltip": null,
            "_model_module": "@jupyter-widgets/controls",
            "layout": "IPY_MODEL_27a265c6d17e41cc8bfe4d5dff3fae7a"
          }
        },
        "8533cfc0558e4c099c4d7f48588fd1f2": {
          "model_module": "@jupyter-widgets/controls",
          "model_name": "FloatProgressModel",
          "model_module_version": "1.5.0",
          "state": {
            "_view_name": "ProgressView",
            "style": "IPY_MODEL_d772d613d6954768a660b700e84eadde",
            "_dom_classes": [],
            "description": "",
            "_model_name": "FloatProgressModel",
            "bar_style": "success",
            "max": 1648877,
            "_view_module": "@jupyter-widgets/controls",
            "_model_module_version": "1.5.0",
            "value": 1648877,
            "_view_count": null,
            "_view_module_version": "1.5.0",
            "orientation": "horizontal",
            "min": 0,
            "description_tooltip": null,
            "_model_module": "@jupyter-widgets/controls",
            "layout": "IPY_MODEL_57496ef71785451693a0a305494ce4da"
          }
        },
        "3aabf65d46d54040a927c87174a1a3c7": {
          "model_module": "@jupyter-widgets/controls",
          "model_name": "HTMLModel",
          "model_module_version": "1.5.0",
          "state": {
            "_view_name": "HTMLView",
            "style": "IPY_MODEL_b59f2ccb568d458ba2b431f1ec1aab7e",
            "_dom_classes": [],
            "description": "",
            "_model_name": "HTMLModel",
            "placeholder": "​",
            "_view_module": "@jupyter-widgets/controls",
            "_model_module_version": "1.5.0",
            "value": " 1649664/? [00:00&lt;00:00, 1686866.78it/s]",
            "_view_count": null,
            "_view_module_version": "1.5.0",
            "description_tooltip": null,
            "_model_module": "@jupyter-widgets/controls",
            "layout": "IPY_MODEL_39b757d515284fada5bae6b27692b4dc"
          }
        },
        "763055a394a846a9b5176a827e59c2b9": {
          "model_module": "@jupyter-widgets/controls",
          "model_name": "DescriptionStyleModel",
          "model_module_version": "1.5.0",
          "state": {
            "_view_name": "StyleView",
            "_model_name": "DescriptionStyleModel",
            "description_width": "",
            "_view_module": "@jupyter-widgets/base",
            "_model_module_version": "1.5.0",
            "_view_count": null,
            "_view_module_version": "1.2.0",
            "_model_module": "@jupyter-widgets/controls"
          }
        },
        "27a265c6d17e41cc8bfe4d5dff3fae7a": {
          "model_module": "@jupyter-widgets/base",
          "model_name": "LayoutModel",
          "model_module_version": "1.2.0",
          "state": {
            "_view_name": "LayoutView",
            "grid_template_rows": null,
            "right": null,
            "justify_content": null,
            "_view_module": "@jupyter-widgets/base",
            "overflow": null,
            "_model_module_version": "1.2.0",
            "_view_count": null,
            "flex_flow": null,
            "width": null,
            "min_width": null,
            "border": null,
            "align_items": null,
            "bottom": null,
            "_model_module": "@jupyter-widgets/base",
            "top": null,
            "grid_column": null,
            "overflow_y": null,
            "overflow_x": null,
            "grid_auto_flow": null,
            "grid_area": null,
            "grid_template_columns": null,
            "flex": null,
            "_model_name": "LayoutModel",
            "justify_items": null,
            "grid_row": null,
            "max_height": null,
            "align_content": null,
            "visibility": null,
            "align_self": null,
            "height": null,
            "min_height": null,
            "padding": null,
            "grid_auto_rows": null,
            "grid_gap": null,
            "max_width": null,
            "order": null,
            "_view_module_version": "1.2.0",
            "grid_template_areas": null,
            "object_position": null,
            "object_fit": null,
            "grid_auto_columns": null,
            "margin": null,
            "display": null,
            "left": null
          }
        },
        "d772d613d6954768a660b700e84eadde": {
          "model_module": "@jupyter-widgets/controls",
          "model_name": "ProgressStyleModel",
          "model_module_version": "1.5.0",
          "state": {
            "_view_name": "StyleView",
            "_model_name": "ProgressStyleModel",
            "description_width": "",
            "_view_module": "@jupyter-widgets/base",
            "_model_module_version": "1.5.0",
            "_view_count": null,
            "_view_module_version": "1.2.0",
            "bar_color": null,
            "_model_module": "@jupyter-widgets/controls"
          }
        },
        "57496ef71785451693a0a305494ce4da": {
          "model_module": "@jupyter-widgets/base",
          "model_name": "LayoutModel",
          "model_module_version": "1.2.0",
          "state": {
            "_view_name": "LayoutView",
            "grid_template_rows": null,
            "right": null,
            "justify_content": null,
            "_view_module": "@jupyter-widgets/base",
            "overflow": null,
            "_model_module_version": "1.2.0",
            "_view_count": null,
            "flex_flow": null,
            "width": null,
            "min_width": null,
            "border": null,
            "align_items": null,
            "bottom": null,
            "_model_module": "@jupyter-widgets/base",
            "top": null,
            "grid_column": null,
            "overflow_y": null,
            "overflow_x": null,
            "grid_auto_flow": null,
            "grid_area": null,
            "grid_template_columns": null,
            "flex": null,
            "_model_name": "LayoutModel",
            "justify_items": null,
            "grid_row": null,
            "max_height": null,
            "align_content": null,
            "visibility": null,
            "align_self": null,
            "height": null,
            "min_height": null,
            "padding": null,
            "grid_auto_rows": null,
            "grid_gap": null,
            "max_width": null,
            "order": null,
            "_view_module_version": "1.2.0",
            "grid_template_areas": null,
            "object_position": null,
            "object_fit": null,
            "grid_auto_columns": null,
            "margin": null,
            "display": null,
            "left": null
          }
        },
        "b59f2ccb568d458ba2b431f1ec1aab7e": {
          "model_module": "@jupyter-widgets/controls",
          "model_name": "DescriptionStyleModel",
          "model_module_version": "1.5.0",
          "state": {
            "_view_name": "StyleView",
            "_model_name": "DescriptionStyleModel",
            "description_width": "",
            "_view_module": "@jupyter-widgets/base",
            "_model_module_version": "1.5.0",
            "_view_count": null,
            "_view_module_version": "1.2.0",
            "_model_module": "@jupyter-widgets/controls"
          }
        },
        "39b757d515284fada5bae6b27692b4dc": {
          "model_module": "@jupyter-widgets/base",
          "model_name": "LayoutModel",
          "model_module_version": "1.2.0",
          "state": {
            "_view_name": "LayoutView",
            "grid_template_rows": null,
            "right": null,
            "justify_content": null,
            "_view_module": "@jupyter-widgets/base",
            "overflow": null,
            "_model_module_version": "1.2.0",
            "_view_count": null,
            "flex_flow": null,
            "width": null,
            "min_width": null,
            "border": null,
            "align_items": null,
            "bottom": null,
            "_model_module": "@jupyter-widgets/base",
            "top": null,
            "grid_column": null,
            "overflow_y": null,
            "overflow_x": null,
            "grid_auto_flow": null,
            "grid_area": null,
            "grid_template_columns": null,
            "flex": null,
            "_model_name": "LayoutModel",
            "justify_items": null,
            "grid_row": null,
            "max_height": null,
            "align_content": null,
            "visibility": null,
            "align_self": null,
            "height": null,
            "min_height": null,
            "padding": null,
            "grid_auto_rows": null,
            "grid_gap": null,
            "max_width": null,
            "order": null,
            "_view_module_version": "1.2.0",
            "grid_template_areas": null,
            "object_position": null,
            "object_fit": null,
            "grid_auto_columns": null,
            "margin": null,
            "display": null,
            "left": null
          }
        },
        "351ef9a2346f4e4fa3ea95865f5996e4": {
          "model_module": "@jupyter-widgets/controls",
          "model_name": "HBoxModel",
          "model_module_version": "1.5.0",
          "state": {
            "_view_name": "HBoxView",
            "_dom_classes": [],
            "_model_name": "HBoxModel",
            "_view_module": "@jupyter-widgets/controls",
            "_model_module_version": "1.5.0",
            "_view_count": null,
            "_view_module_version": "1.5.0",
            "box_style": "",
            "layout": "IPY_MODEL_1c193805820b443ab3778fceca8ad701",
            "_model_module": "@jupyter-widgets/controls",
            "children": [
              "IPY_MODEL_d66756a17da74abab61ddf0a5dd20c05",
              "IPY_MODEL_968d0299abb24b0ab7dcaed374973084",
              "IPY_MODEL_dfd7d08899234ec5bff66c033b26be46"
            ]
          }
        },
        "1c193805820b443ab3778fceca8ad701": {
          "model_module": "@jupyter-widgets/base",
          "model_name": "LayoutModel",
          "model_module_version": "1.2.0",
          "state": {
            "_view_name": "LayoutView",
            "grid_template_rows": null,
            "right": null,
            "justify_content": null,
            "_view_module": "@jupyter-widgets/base",
            "overflow": null,
            "_model_module_version": "1.2.0",
            "_view_count": null,
            "flex_flow": null,
            "width": null,
            "min_width": null,
            "border": null,
            "align_items": null,
            "bottom": null,
            "_model_module": "@jupyter-widgets/base",
            "top": null,
            "grid_column": null,
            "overflow_y": null,
            "overflow_x": null,
            "grid_auto_flow": null,
            "grid_area": null,
            "grid_template_columns": null,
            "flex": null,
            "_model_name": "LayoutModel",
            "justify_items": null,
            "grid_row": null,
            "max_height": null,
            "align_content": null,
            "visibility": null,
            "align_self": null,
            "height": null,
            "min_height": null,
            "padding": null,
            "grid_auto_rows": null,
            "grid_gap": null,
            "max_width": null,
            "order": null,
            "_view_module_version": "1.2.0",
            "grid_template_areas": null,
            "object_position": null,
            "object_fit": null,
            "grid_auto_columns": null,
            "margin": null,
            "display": null,
            "left": null
          }
        },
        "d66756a17da74abab61ddf0a5dd20c05": {
          "model_module": "@jupyter-widgets/controls",
          "model_name": "HTMLModel",
          "model_module_version": "1.5.0",
          "state": {
            "_view_name": "HTMLView",
            "style": "IPY_MODEL_7de3e2347fdb482e9078096e1f87adff",
            "_dom_classes": [],
            "description": "",
            "_model_name": "HTMLModel",
            "placeholder": "​",
            "_view_module": "@jupyter-widgets/controls",
            "_model_module_version": "1.5.0",
            "value": "",
            "_view_count": null,
            "_view_module_version": "1.5.0",
            "description_tooltip": null,
            "_model_module": "@jupyter-widgets/controls",
            "layout": "IPY_MODEL_5a081efc212f42bca91f8b10f4e27c04"
          }
        },
        "968d0299abb24b0ab7dcaed374973084": {
          "model_module": "@jupyter-widgets/controls",
          "model_name": "FloatProgressModel",
          "model_module_version": "1.5.0",
          "state": {
            "_view_name": "ProgressView",
            "style": "IPY_MODEL_771fdc1930d14f2ca6c3acabea5ece6d",
            "_dom_classes": [],
            "description": "",
            "_model_name": "FloatProgressModel",
            "bar_style": "success",
            "max": 4542,
            "_view_module": "@jupyter-widgets/controls",
            "_model_module_version": "1.5.0",
            "value": 4542,
            "_view_count": null,
            "_view_module_version": "1.5.0",
            "orientation": "horizontal",
            "min": 0,
            "description_tooltip": null,
            "_model_module": "@jupyter-widgets/controls",
            "layout": "IPY_MODEL_924dea2596a1452fac46aea20b17b1b3"
          }
        },
        "dfd7d08899234ec5bff66c033b26be46": {
          "model_module": "@jupyter-widgets/controls",
          "model_name": "HTMLModel",
          "model_module_version": "1.5.0",
          "state": {
            "_view_name": "HTMLView",
            "style": "IPY_MODEL_09392bfbd7b7450e860ab189f86a3e5b",
            "_dom_classes": [],
            "description": "",
            "_model_name": "HTMLModel",
            "placeholder": "​",
            "_view_module": "@jupyter-widgets/controls",
            "_model_module_version": "1.5.0",
            "value": " 5120/? [00:00&lt;00:00, 74024.87it/s]",
            "_view_count": null,
            "_view_module_version": "1.5.0",
            "description_tooltip": null,
            "_model_module": "@jupyter-widgets/controls",
            "layout": "IPY_MODEL_4b288f13e5004d93b664e3b077c246c7"
          }
        },
        "7de3e2347fdb482e9078096e1f87adff": {
          "model_module": "@jupyter-widgets/controls",
          "model_name": "DescriptionStyleModel",
          "model_module_version": "1.5.0",
          "state": {
            "_view_name": "StyleView",
            "_model_name": "DescriptionStyleModel",
            "description_width": "",
            "_view_module": "@jupyter-widgets/base",
            "_model_module_version": "1.5.0",
            "_view_count": null,
            "_view_module_version": "1.2.0",
            "_model_module": "@jupyter-widgets/controls"
          }
        },
        "5a081efc212f42bca91f8b10f4e27c04": {
          "model_module": "@jupyter-widgets/base",
          "model_name": "LayoutModel",
          "model_module_version": "1.2.0",
          "state": {
            "_view_name": "LayoutView",
            "grid_template_rows": null,
            "right": null,
            "justify_content": null,
            "_view_module": "@jupyter-widgets/base",
            "overflow": null,
            "_model_module_version": "1.2.0",
            "_view_count": null,
            "flex_flow": null,
            "width": null,
            "min_width": null,
            "border": null,
            "align_items": null,
            "bottom": null,
            "_model_module": "@jupyter-widgets/base",
            "top": null,
            "grid_column": null,
            "overflow_y": null,
            "overflow_x": null,
            "grid_auto_flow": null,
            "grid_area": null,
            "grid_template_columns": null,
            "flex": null,
            "_model_name": "LayoutModel",
            "justify_items": null,
            "grid_row": null,
            "max_height": null,
            "align_content": null,
            "visibility": null,
            "align_self": null,
            "height": null,
            "min_height": null,
            "padding": null,
            "grid_auto_rows": null,
            "grid_gap": null,
            "max_width": null,
            "order": null,
            "_view_module_version": "1.2.0",
            "grid_template_areas": null,
            "object_position": null,
            "object_fit": null,
            "grid_auto_columns": null,
            "margin": null,
            "display": null,
            "left": null
          }
        },
        "771fdc1930d14f2ca6c3acabea5ece6d": {
          "model_module": "@jupyter-widgets/controls",
          "model_name": "ProgressStyleModel",
          "model_module_version": "1.5.0",
          "state": {
            "_view_name": "StyleView",
            "_model_name": "ProgressStyleModel",
            "description_width": "",
            "_view_module": "@jupyter-widgets/base",
            "_model_module_version": "1.5.0",
            "_view_count": null,
            "_view_module_version": "1.2.0",
            "bar_color": null,
            "_model_module": "@jupyter-widgets/controls"
          }
        },
        "924dea2596a1452fac46aea20b17b1b3": {
          "model_module": "@jupyter-widgets/base",
          "model_name": "LayoutModel",
          "model_module_version": "1.2.0",
          "state": {
            "_view_name": "LayoutView",
            "grid_template_rows": null,
            "right": null,
            "justify_content": null,
            "_view_module": "@jupyter-widgets/base",
            "overflow": null,
            "_model_module_version": "1.2.0",
            "_view_count": null,
            "flex_flow": null,
            "width": null,
            "min_width": null,
            "border": null,
            "align_items": null,
            "bottom": null,
            "_model_module": "@jupyter-widgets/base",
            "top": null,
            "grid_column": null,
            "overflow_y": null,
            "overflow_x": null,
            "grid_auto_flow": null,
            "grid_area": null,
            "grid_template_columns": null,
            "flex": null,
            "_model_name": "LayoutModel",
            "justify_items": null,
            "grid_row": null,
            "max_height": null,
            "align_content": null,
            "visibility": null,
            "align_self": null,
            "height": null,
            "min_height": null,
            "padding": null,
            "grid_auto_rows": null,
            "grid_gap": null,
            "max_width": null,
            "order": null,
            "_view_module_version": "1.2.0",
            "grid_template_areas": null,
            "object_position": null,
            "object_fit": null,
            "grid_auto_columns": null,
            "margin": null,
            "display": null,
            "left": null
          }
        },
        "09392bfbd7b7450e860ab189f86a3e5b": {
          "model_module": "@jupyter-widgets/controls",
          "model_name": "DescriptionStyleModel",
          "model_module_version": "1.5.0",
          "state": {
            "_view_name": "StyleView",
            "_model_name": "DescriptionStyleModel",
            "description_width": "",
            "_view_module": "@jupyter-widgets/base",
            "_model_module_version": "1.5.0",
            "_view_count": null,
            "_view_module_version": "1.2.0",
            "_model_module": "@jupyter-widgets/controls"
          }
        },
        "4b288f13e5004d93b664e3b077c246c7": {
          "model_module": "@jupyter-widgets/base",
          "model_name": "LayoutModel",
          "model_module_version": "1.2.0",
          "state": {
            "_view_name": "LayoutView",
            "grid_template_rows": null,
            "right": null,
            "justify_content": null,
            "_view_module": "@jupyter-widgets/base",
            "overflow": null,
            "_model_module_version": "1.2.0",
            "_view_count": null,
            "flex_flow": null,
            "width": null,
            "min_width": null,
            "border": null,
            "align_items": null,
            "bottom": null,
            "_model_module": "@jupyter-widgets/base",
            "top": null,
            "grid_column": null,
            "overflow_y": null,
            "overflow_x": null,
            "grid_auto_flow": null,
            "grid_area": null,
            "grid_template_columns": null,
            "flex": null,
            "_model_name": "LayoutModel",
            "justify_items": null,
            "grid_row": null,
            "max_height": null,
            "align_content": null,
            "visibility": null,
            "align_self": null,
            "height": null,
            "min_height": null,
            "padding": null,
            "grid_auto_rows": null,
            "grid_gap": null,
            "max_width": null,
            "order": null,
            "_view_module_version": "1.2.0",
            "grid_template_areas": null,
            "object_position": null,
            "object_fit": null,
            "grid_auto_columns": null,
            "margin": null,
            "display": null,
            "left": null
          }
        }
      }
    }
  },
  "cells": [
    {
      "cell_type": "markdown",
      "metadata": {
        "id": "view-in-github",
        "colab_type": "text"
      },
      "source": [
        "<a href=\"https://colab.research.google.com/github/eunpro/academy/blob/main/rnn%EA%B5%AC%ED%98%84.ipynb\" target=\"_parent\"><img src=\"https://colab.research.google.com/assets/colab-badge.svg\" alt=\"Open In Colab\"/></a>"
      ]
    },
    {
      "cell_type": "markdown",
      "metadata": {
        "id": "oe-9sGi2c0xB"
      },
      "source": [
        "###RNN"
      ]
    },
    {
      "cell_type": "code",
      "metadata": {
        "colab": {
          "base_uri": "https://localhost:8080/"
        },
        "id": "TZGkDyPXaqpV",
        "outputId": "f88f8f27-4313-469e-b2e8-32092ed57ae4"
      },
      "source": [
        "import numpy as np\n",
        "import torch\n",
        "import torch.nn as nn\n",
        "import torch.optim as optim\n",
        "\n",
        "sentences = [\"i like dog\", \"i love coffee\", \"i hate milk\", \"you like cat\", \"you love milk\", \"you hate coffee\"]\n",
        "dtype = torch.float\n",
        "\n",
        "\"\"\"\n",
        "Word Processing\n",
        "\"\"\"\n",
        "word_list = list(set(\" \".join(sentences).split()))\n",
        "word_dict = {w: i for i, w in enumerate(word_list)}\n",
        "number_dict = {i: w for i, w in enumerate(word_list)}\n",
        "n_class = len(word_dict)\n",
        "\n",
        "\n",
        "\"\"\"\n",
        "TextRNN Parameter\n",
        "\"\"\"\n",
        "batch_size = len(sentences)\n",
        "n_step = 2  # 학습 하려고 하는 문장의 길이 - 1\n",
        "n_hidden = 5  # 은닉층 사이즈\n",
        "\n",
        "def make_batch(sentences):\n",
        "  input_batch = []\n",
        "  target_batch = []\n",
        "\n",
        "  for sen in sentences:\n",
        "    word = sen.split()\n",
        "    input = [word_dict[n] for n in word[:-1]]\n",
        "    target = word_dict[word[-1]]\n",
        "\n",
        "    input_batch.append(np.eye(n_class)[input])  # One-Hot Encoding\n",
        "    target_batch.append(target)\n",
        "  \n",
        "  return input_batch, target_batch\n",
        "\n",
        "input_batch, target_batch = make_batch(sentences)\n",
        "input_batch = torch.tensor(input_batch, dtype=torch.float32, requires_grad=True)\n",
        "target_batch = torch.tensor(target_batch, dtype=torch.int64)\n",
        "\n",
        "\n",
        "\"\"\"\n",
        "TextRNN\n",
        "\"\"\"\n",
        "class TextRNN(nn.Module):\n",
        "  def __init__(self):\n",
        "    super(TextRNN, self).__init__()\n",
        "\n",
        "    self.rnn = nn.RNN(input_size=n_class, hidden_size=n_hidden, dropout=0.3)\n",
        "    self.W = nn.Parameter(torch.randn([n_hidden, n_class]).type(dtype))\n",
        "    self.b = nn.Parameter(torch.randn([n_class]).type(dtype))\n",
        "    self.Softmax = nn.Softmax(dim=1)\n",
        "\n",
        "  def forward(self, hidden, X):\n",
        "    X = X.transpose(0, 1)\n",
        "    outputs, hidden = self.rnn(X, hidden)\n",
        "    outputs = outputs[-1]  # 최종 예측 Hidden Layer\n",
        "    model = torch.mm(outputs, self.W) + self.b  # 최종 예측 최종 출력 층\n",
        "    return model\n",
        "\t\n",
        "\n",
        "\"\"\"\n",
        "Training\n",
        "\"\"\"\n",
        "model = TextRNN()\n",
        "criterion = nn.CrossEntropyLoss()\n",
        "optimizer = optim.Adam(model.parameters(), lr=0.01)\n",
        "\n",
        "for epoch in range(500):\n",
        "  hidden = torch.zeros(1, batch_size, n_hidden, requires_grad=True)\n",
        "  output = model(hidden, input_batch)\n",
        "  loss = criterion(output, target_batch)\n",
        "\n",
        "  if (epoch + 1) % 100 == 0:\n",
        "    print('Epoch:', '%04d' % (epoch + 1), 'cost =', '{:.6f}'.format(loss))\n",
        "  \n",
        "  optimizer.zero_grad()\n",
        "  loss.backward()\n",
        "  optimizer.step()\n",
        "\n",
        "input = [sen.split()[:2] for sen in sentences]\n",
        "\n",
        "hidden = torch.zeros(1, batch_size, n_hidden, requires_grad=True)\n",
        "predict = model(hidden, input_batch).data.max(1, keepdim=True)[1]\n",
        "print([sen.split()[:2] for sen in sentences], '->', [number_dict[n.item()] for n in predict.squeeze()])"
      ],
      "execution_count": 1,
      "outputs": [
        {
          "output_type": "stream",
          "name": "stderr",
          "text": [
            "/usr/local/lib/python3.7/dist-packages/ipykernel_launcher.py:40: UserWarning: Creating a tensor from a list of numpy.ndarrays is extremely slow. Please consider converting the list to a single numpy.ndarray with numpy.array() before converting to a tensor. (Triggered internally at  ../torch/csrc/utils/tensor_new.cpp:201.)\n",
            "/usr/local/lib/python3.7/dist-packages/torch/nn/modules/rnn.py:65: UserWarning: dropout option adds dropout after all but last recurrent layer, so non-zero dropout expects num_layers greater than 1, but got dropout=0.3 and num_layers=1\n",
            "  \"num_layers={}\".format(dropout, num_layers))\n"
          ]
        },
        {
          "output_type": "stream",
          "name": "stdout",
          "text": [
            "Epoch: 0100 cost = 0.488777\n",
            "Epoch: 0200 cost = 0.114255\n",
            "Epoch: 0300 cost = 0.028630\n",
            "Epoch: 0400 cost = 0.014167\n",
            "Epoch: 0500 cost = 0.008748\n",
            "[['i', 'like'], ['i', 'love'], ['i', 'hate'], ['you', 'like'], ['you', 'love'], ['you', 'hate']] -> ['dog', 'coffee', 'milk', 'cat', 'milk', 'coffee']\n"
          ]
        }
      ]
    },
    {
      "cell_type": "markdown",
      "metadata": {
        "id": "OR96ba7Rc4Vy"
      },
      "source": [
        "###LSTM"
      ]
    },
    {
      "cell_type": "code",
      "metadata": {
        "colab": {
          "base_uri": "https://localhost:8080/"
        },
        "id": "FxaEuGgQcBqd",
        "outputId": "8b482ef8-eb8e-43fb-d82d-a573d07bbf03"
      },
      "source": [
        "import numpy as np\n",
        "import torch\n",
        "import torch.nn as nn\n",
        "import torch.optim as optim\n",
        "\n",
        "sentences = [\"i like dog\", \"i love coffee\", \"i hate milk\", \"you like cat\", \"you love milk\", \"you hate coffee\"]\n",
        "dtype = torch.float\n",
        "\n",
        "\n",
        "\"\"\"\n",
        "TextLSTM\n",
        "\"\"\"\n",
        "class TextLSTM(nn.Module):\n",
        "  def __init__(self):\n",
        "    super(TextLSTM, self).__init__()\n",
        "\n",
        "    self.lstm = nn.LSTM(input_size=n_class, hidden_size=n_hidden, dropout=0.3)\n",
        "    self.W = nn.Parameter(torch.randn([n_hidden, n_class]).type(dtype))\n",
        "    self.b = nn.Parameter(torch.randn([n_class]).type(dtype))\n",
        "    self.Softmax = nn.Softmax(dim=1)\n",
        "\n",
        "  def forward(self, hidden_and_cell, X):\n",
        "    X = X.transpose(0, 1)\n",
        "    outputs, hidden = self.lstm(X, hidden_and_cell)\n",
        "    outputs = outputs[-1]  # 최종 예측 Hidden Layer\n",
        "    model = torch.mm(outputs, self.W) + self.b  # 최종 예측 최종 출력 층\n",
        "    return model\n",
        "\t\n",
        "\n",
        "\"\"\"\n",
        "Training\n",
        "\"\"\"\n",
        "model = TextLSTM()\n",
        "criterion = nn.CrossEntropyLoss()\n",
        "optimizer = optim.Adam(model.parameters(), lr=0.01)\n",
        "\n",
        "for epoch in range(500):\n",
        "  hidden = torch.zeros(1, batch_size, n_hidden, requires_grad=True)\n",
        "  cell = torch.zeros(1, batch_size, n_hidden, requires_grad=True)\n",
        "  output = model((hidden, cell), input_batch)\n",
        "  loss = criterion(output, target_batch)\n",
        "\n",
        "  if (epoch + 1) % 100 == 0:\n",
        "    print('Epoch:', '%04d' % (epoch + 1), 'cost =', '{:.6f}'.format(loss))\n",
        "  \n",
        "  optimizer.zero_grad()\n",
        "  loss.backward()\n",
        "  optimizer.step()\n",
        "\n",
        "input = [sen.split()[:2] for sen in sentences]\n",
        "\n",
        "hidden = torch.zeros(1, batch_size, n_hidden, requires_grad=True)\n",
        "cell = torch.zeros(1, batch_size, n_hidden, requires_grad=True)\n",
        "predict = model((hidden, cell), input_batch).data.max(1, keepdim=True)[1]\n",
        "print([sen.split()[:2] for sen in sentences], '->', [number_dict[n.item()] for n in predict.squeeze()])"
      ],
      "execution_count": 3,
      "outputs": [
        {
          "output_type": "stream",
          "name": "stderr",
          "text": [
            "/usr/local/lib/python3.7/dist-packages/torch/nn/modules/rnn.py:65: UserWarning: dropout option adds dropout after all but last recurrent layer, so non-zero dropout expects num_layers greater than 1, but got dropout=0.3 and num_layers=1\n",
            "  \"num_layers={}\".format(dropout, num_layers))\n"
          ]
        },
        {
          "output_type": "stream",
          "name": "stdout",
          "text": [
            "Epoch: 0100 cost = 0.319617\n",
            "Epoch: 0200 cost = 0.035957\n",
            "Epoch: 0300 cost = 0.012986\n",
            "Epoch: 0400 cost = 0.007021\n",
            "Epoch: 0500 cost = 0.004435\n",
            "[['i', 'like'], ['i', 'love'], ['i', 'hate'], ['you', 'like'], ['you', 'love'], ['you', 'hate']] -> ['dog', 'coffee', 'milk', 'cat', 'milk', 'coffee']\n"
          ]
        }
      ]
    },
    {
      "cell_type": "markdown",
      "metadata": {
        "id": "WrXtmiOlc9Nm"
      },
      "source": [
        "###CNN"
      ]
    },
    {
      "cell_type": "code",
      "metadata": {
        "id": "JqWIfzuHc-d3"
      },
      "source": [
        "import torch\n",
        "import torch.nn as nn\n",
        "import torch.nn.functional as F\n",
        "\n",
        "class CNN(nn.Module):\n",
        "  def __init__(self):\n",
        "    super(CNN, self).__init__()\n",
        "    self.conv1 = nn.Conv2d(in_channels=1, out_channels=3, kernel_size=5, stride=1)\n",
        "    self.conv2 = nn.Conv2d(in_channels=3, out_channels=10, kernel_size=5, stride=1)\n",
        "    self.fc1 = nn.Linear(10 * 12 * 12, 50)\n",
        "    self.fc2 = nn.Linear(50, 10)\n",
        "  \n",
        "  def forward(self, x):\n",
        "    print(\"연산 전\", x.size())\n",
        "    x = F.relu(self.conv1(x))\n",
        "    print(\"conv1 연산 후\", x.size())\n",
        "    x = F.relu(self.conv2(x))\n",
        "    print(\"conv2 연산 후\",x.size())\n",
        "    x = x.view(-1, 10 * 12 * 12)\n",
        "    print(\"차원 감소 후\", x.size())\n",
        "    x = F.relu(self.fc1(x))\n",
        "    print(\"fc1 연산 후\", x.size())\n",
        "    x = self.fc2(x)\n",
        "    print(\"fc2 연산 후\", x.size())\n",
        "    return x\n",
        "\n",
        "cnn = CNN()\n",
        "output = cnn(torch.randn(10, 1, 20, 20))  # Input Size: (10, 1, 20, 20)"
      ],
      "execution_count": null,
      "outputs": []
    },
    {
      "cell_type": "markdown",
      "metadata": {
        "id": "OK4mGz8udeyi"
      },
      "source": [
        "###MNIST 코드 구현"
      ]
    },
    {
      "cell_type": "code",
      "metadata": {
        "colab": {
          "base_uri": "https://localhost:8080/"
        },
        "id": "Rxwgl3kIdeM7",
        "outputId": "b0687901-17b7-4462-d470-311f4709997f"
      },
      "source": [
        "pip install torchvision"
      ],
      "execution_count": 4,
      "outputs": [
        {
          "output_type": "stream",
          "name": "stdout",
          "text": [
            "Requirement already satisfied: torchvision in /usr/local/lib/python3.7/dist-packages (0.11.1+cu111)\n",
            "Requirement already satisfied: torch==1.10.0 in /usr/local/lib/python3.7/dist-packages (from torchvision) (1.10.0+cu111)\n",
            "Requirement already satisfied: pillow!=8.3.0,>=5.3.0 in /usr/local/lib/python3.7/dist-packages (from torchvision) (7.1.2)\n",
            "Requirement already satisfied: numpy in /usr/local/lib/python3.7/dist-packages (from torchvision) (1.19.5)\n",
            "Requirement already satisfied: typing-extensions in /usr/local/lib/python3.7/dist-packages (from torch==1.10.0->torchvision) (3.10.0.2)\n"
          ]
        }
      ]
    },
    {
      "cell_type": "code",
      "metadata": {
        "id": "hh8ZtTvbdlki"
      },
      "source": [
        "import torch\n",
        "import torch.nn as nn\n",
        "import torch.nn.functional as F\n",
        "import torch.optim as optim\n",
        "from torchvision import datasets, transforms"
      ],
      "execution_count": 5,
      "outputs": []
    },
    {
      "cell_type": "code",
      "metadata": {
        "colab": {
          "base_uri": "https://localhost:8080/",
          "height": 439,
          "referenced_widgets": [
            "77d5ac6d3429422a96b41a5eeb8c5b92",
            "51b8179849ad4037aeefbcc3ed95ed6a",
            "48f8ee0580ec49ba853e339636db77e4",
            "c9184f5b81594cdeae199a01ce3bf4ce",
            "b7e4a65e17464673ad3ad87da791b7fb",
            "4309f96d463e43b184bad8d8ae617d9d",
            "1f922a98b2d340fbb876d9c7454f7d09",
            "dc2dd35e91264d0684350266ce265ed4",
            "1200d46a961b4462b0ea95955989d187",
            "b0ee0a1b3d60440dbee876ad255cb683",
            "8ebce102ba8c464a97ec486b948230fb",
            "7695d435524d46a2be405228fddfd5f3",
            "3f4ce48527e841218853e76821a519cc",
            "583be78a8ad447d7a5d1c6abb3cfea3e",
            "5801e6fad6c647fcb7e99c2d51817071",
            "c1edd2d2fcd94a8eb9e94d883c105df9",
            "61c6c602b4ca42d2aab4ff4d48b486e5",
            "13ac7cec9fd2465eb21ce38b5f37c3da",
            "bae45c474f8b48ef9ab39cc03fc1bbcc",
            "9b70335367114d2f99caa2c22a3f6aa7",
            "a000d9647ddd4603bbfa5aaee68bc570",
            "6975be3cbe064680ac2f701707dca2c5",
            "130f9a746fab4161ae520f49e8ea52a6",
            "ebc7ff53e81f4f609b3648477869bf2d",
            "fb018eb2ff5a4965aa6d2abd29c9ce72",
            "8533cfc0558e4c099c4d7f48588fd1f2",
            "3aabf65d46d54040a927c87174a1a3c7",
            "763055a394a846a9b5176a827e59c2b9",
            "27a265c6d17e41cc8bfe4d5dff3fae7a",
            "d772d613d6954768a660b700e84eadde",
            "57496ef71785451693a0a305494ce4da",
            "b59f2ccb568d458ba2b431f1ec1aab7e",
            "39b757d515284fada5bae6b27692b4dc",
            "351ef9a2346f4e4fa3ea95865f5996e4",
            "1c193805820b443ab3778fceca8ad701",
            "d66756a17da74abab61ddf0a5dd20c05",
            "968d0299abb24b0ab7dcaed374973084",
            "dfd7d08899234ec5bff66c033b26be46",
            "7de3e2347fdb482e9078096e1f87adff",
            "5a081efc212f42bca91f8b10f4e27c04",
            "771fdc1930d14f2ca6c3acabea5ece6d",
            "924dea2596a1452fac46aea20b17b1b3",
            "09392bfbd7b7450e860ab189f86a3e5b",
            "4b288f13e5004d93b664e3b077c246c7"
          ]
        },
        "id": "ItRzunc_dpVy",
        "outputId": "b8abfa99-54bf-405b-fae2-6f1fe85a4c82"
      },
      "source": [
        "train_data = datasets.MNIST('./data/', train=True, download=True, transform=transforms.Compose([\n",
        "        transforms.ToTensor(),\n",
        "        transforms.Normalize((0.1307,), (0.3081,))\n",
        "    ])) # 학습 데이터\n",
        "train_loader = torch.utils.data.DataLoader(dataset=train_data, batch_size=50, shuffle=True)\n",
        "\n",
        "test_data = datasets.MNIST('./data/', train=False, transform=transforms.Compose([\n",
        "        transforms.ToTensor(),\n",
        "        transforms.Normalize((0.1307,), (0.3081,))\n",
        "    ])) # 테스트 데이터\n",
        "test_loader = torch.utils.data.DataLoader(dataset=test_data, batch_size=50, shuffle=True)"
      ],
      "execution_count": 6,
      "outputs": [
        {
          "output_type": "stream",
          "name": "stdout",
          "text": [
            "Downloading http://yann.lecun.com/exdb/mnist/train-images-idx3-ubyte.gz\n",
            "Downloading http://yann.lecun.com/exdb/mnist/train-images-idx3-ubyte.gz to ./data/MNIST/raw/train-images-idx3-ubyte.gz\n"
          ]
        },
        {
          "output_type": "display_data",
          "data": {
            "application/vnd.jupyter.widget-view+json": {
              "model_id": "77d5ac6d3429422a96b41a5eeb8c5b92",
              "version_minor": 0,
              "version_major": 2
            },
            "text/plain": [
              "  0%|          | 0/9912422 [00:00<?, ?it/s]"
            ]
          },
          "metadata": {}
        },
        {
          "output_type": "stream",
          "name": "stdout",
          "text": [
            "Extracting ./data/MNIST/raw/train-images-idx3-ubyte.gz to ./data/MNIST/raw\n",
            "\n",
            "Downloading http://yann.lecun.com/exdb/mnist/train-labels-idx1-ubyte.gz\n",
            "Downloading http://yann.lecun.com/exdb/mnist/train-labels-idx1-ubyte.gz to ./data/MNIST/raw/train-labels-idx1-ubyte.gz\n"
          ]
        },
        {
          "output_type": "display_data",
          "data": {
            "application/vnd.jupyter.widget-view+json": {
              "model_id": "7695d435524d46a2be405228fddfd5f3",
              "version_minor": 0,
              "version_major": 2
            },
            "text/plain": [
              "  0%|          | 0/28881 [00:00<?, ?it/s]"
            ]
          },
          "metadata": {}
        },
        {
          "output_type": "stream",
          "name": "stdout",
          "text": [
            "Extracting ./data/MNIST/raw/train-labels-idx1-ubyte.gz to ./data/MNIST/raw\n",
            "\n",
            "Downloading http://yann.lecun.com/exdb/mnist/t10k-images-idx3-ubyte.gz\n",
            "Downloading http://yann.lecun.com/exdb/mnist/t10k-images-idx3-ubyte.gz to ./data/MNIST/raw/t10k-images-idx3-ubyte.gz\n"
          ]
        },
        {
          "output_type": "display_data",
          "data": {
            "application/vnd.jupyter.widget-view+json": {
              "model_id": "130f9a746fab4161ae520f49e8ea52a6",
              "version_minor": 0,
              "version_major": 2
            },
            "text/plain": [
              "  0%|          | 0/1648877 [00:00<?, ?it/s]"
            ]
          },
          "metadata": {}
        },
        {
          "output_type": "stream",
          "name": "stdout",
          "text": [
            "Extracting ./data/MNIST/raw/t10k-images-idx3-ubyte.gz to ./data/MNIST/raw\n",
            "\n",
            "Downloading http://yann.lecun.com/exdb/mnist/t10k-labels-idx1-ubyte.gz\n",
            "Downloading http://yann.lecun.com/exdb/mnist/t10k-labels-idx1-ubyte.gz to ./data/MNIST/raw/t10k-labels-idx1-ubyte.gz\n"
          ]
        },
        {
          "output_type": "display_data",
          "data": {
            "application/vnd.jupyter.widget-view+json": {
              "model_id": "351ef9a2346f4e4fa3ea95865f5996e4",
              "version_minor": 0,
              "version_major": 2
            },
            "text/plain": [
              "  0%|          | 0/4542 [00:00<?, ?it/s]"
            ]
          },
          "metadata": {}
        },
        {
          "output_type": "stream",
          "name": "stdout",
          "text": [
            "Extracting ./data/MNIST/raw/t10k-labels-idx1-ubyte.gz to ./data/MNIST/raw\n",
            "\n"
          ]
        }
      ]
    },
    {
      "cell_type": "code",
      "metadata": {
        "id": "HsOc57G7d_L_"
      },
      "source": [
        "class CNN(nn.Module):\n",
        "    def __init__(self):\n",
        "        super(CNN, self).__init__()\n",
        "        self.conv1 = nn.Conv2d(in_channels=1, out_channels=20, kernel_size=5, stride=1)\n",
        "        self.conv2 = nn.Conv2d(in_channels=20, out_channels=50, kernel_size=5, stride=1)\n",
        "        self.fc1 = nn.Linear(4 * 4 * 50, 500)\n",
        "        self.fc2 = nn.Linear(500, 10)\n",
        "\n",
        "    def forward(self, x):\n",
        "        x = F.relu(self.conv1(x))\n",
        "        x = F.max_pool2d(x, kernel_size=2, stride=2)\n",
        "        x = F.relu(self.conv2(x))\n",
        "        x = F.max_pool2d(x, kernel_size=2, stride=2)\n",
        "\n",
        "        x = x.view(-1, 4 * 4 * 50) # [batch_size, 50, 4, 4]\n",
        "        x = F.relu(self.fc1(x))\n",
        "        x = self.fc2(x)\n",
        "        return x"
      ],
      "execution_count": 7,
      "outputs": []
    },
    {
      "cell_type": "code",
      "metadata": {
        "id": "39tNgtxheDHV"
      },
      "source": [
        "cnn = CNN()\n",
        "criterion = torch.nn.CrossEntropyLoss()\n",
        "optimizer = optim.SGD(cnn.parameters(), lr=0.01)"
      ],
      "execution_count": 8,
      "outputs": []
    },
    {
      "cell_type": "code",
      "metadata": {
        "colab": {
          "base_uri": "https://localhost:8080/"
        },
        "id": "Macu779KePyc",
        "outputId": "c95369fc-0109-416c-aea4-3bb973725e48"
      },
      "source": [
        "cnn.train()  # 학습을 위함\n",
        "for epoch in range(10):\n",
        "  for index, (data, target) in enumerate(train_loader):\n",
        "    optimizer.zero_grad()  # 기울기 초기화\n",
        "    output = cnn(data)\n",
        "    loss = criterion(output, target)\n",
        "    loss.backward()  # 역전파\n",
        "    optimizer.step()\n",
        "\n",
        "    if index % 100 == 0:\n",
        "      print(\"loss of {} epoch, {} index : {}\".format(epoch, index, loss.item()))"
      ],
      "execution_count": 9,
      "outputs": [
        {
          "output_type": "stream",
          "name": "stdout",
          "text": [
            "loss of 0 epoch, 0 index : 2.2998366355895996\n",
            "loss of 0 epoch, 100 index : 1.064387559890747\n",
            "loss of 0 epoch, 200 index : 0.6707156300544739\n",
            "loss of 0 epoch, 300 index : 0.3301559388637543\n",
            "loss of 0 epoch, 400 index : 0.20118136703968048\n",
            "loss of 0 epoch, 500 index : 0.37223193049430847\n",
            "loss of 0 epoch, 600 index : 0.14898066222667694\n",
            "loss of 0 epoch, 700 index : 0.24903585016727448\n",
            "loss of 0 epoch, 800 index : 0.18513944745063782\n",
            "loss of 0 epoch, 900 index : 0.201665997505188\n",
            "loss of 0 epoch, 1000 index : 0.10182531177997589\n",
            "loss of 0 epoch, 1100 index : 0.1020979955792427\n",
            "loss of 1 epoch, 0 index : 0.08042660355567932\n",
            "loss of 1 epoch, 100 index : 0.11442513763904572\n",
            "loss of 1 epoch, 200 index : 0.12071928381919861\n",
            "loss of 1 epoch, 300 index : 0.10174745321273804\n",
            "loss of 1 epoch, 400 index : 0.27369993925094604\n",
            "loss of 1 epoch, 500 index : 0.08963218331336975\n",
            "loss of 1 epoch, 600 index : 0.06428360193967819\n",
            "loss of 1 epoch, 700 index : 0.06577291339635849\n",
            "loss of 1 epoch, 800 index : 0.17732442915439606\n",
            "loss of 1 epoch, 900 index : 0.12923459708690643\n",
            "loss of 1 epoch, 1000 index : 0.07424066215753555\n",
            "loss of 1 epoch, 1100 index : 0.07834175229072571\n",
            "loss of 2 epoch, 0 index : 0.16678228974342346\n",
            "loss of 2 epoch, 100 index : 0.11478917300701141\n",
            "loss of 2 epoch, 200 index : 0.026745997369289398\n",
            "loss of 2 epoch, 300 index : 0.06106867641210556\n",
            "loss of 2 epoch, 400 index : 0.08395342528820038\n",
            "loss of 2 epoch, 500 index : 0.08903700858354568\n",
            "loss of 2 epoch, 600 index : 0.09512552618980408\n",
            "loss of 2 epoch, 700 index : 0.07468220591545105\n",
            "loss of 2 epoch, 800 index : 0.21043336391448975\n",
            "loss of 2 epoch, 900 index : 0.019626639783382416\n",
            "loss of 2 epoch, 1000 index : 0.06925604492425919\n",
            "loss of 2 epoch, 1100 index : 0.005909065715968609\n",
            "loss of 3 epoch, 0 index : 0.01875339075922966\n",
            "loss of 3 epoch, 100 index : 0.008997018449008465\n",
            "loss of 3 epoch, 200 index : 0.09939243644475937\n",
            "loss of 3 epoch, 300 index : 0.0056622703559696674\n",
            "loss of 3 epoch, 400 index : 0.130907341837883\n",
            "loss of 3 epoch, 500 index : 0.0243312269449234\n",
            "loss of 3 epoch, 600 index : 0.17042145133018494\n",
            "loss of 3 epoch, 700 index : 0.03651858866214752\n",
            "loss of 3 epoch, 800 index : 0.021387889981269836\n",
            "loss of 3 epoch, 900 index : 0.07332808524370193\n",
            "loss of 3 epoch, 1000 index : 0.017136432230472565\n",
            "loss of 3 epoch, 1100 index : 0.18399454653263092\n",
            "loss of 4 epoch, 0 index : 0.028113286942243576\n",
            "loss of 4 epoch, 100 index : 0.022386295720934868\n",
            "loss of 4 epoch, 200 index : 0.07377782464027405\n",
            "loss of 4 epoch, 300 index : 0.05861087888479233\n",
            "loss of 4 epoch, 400 index : 0.03004288114607334\n",
            "loss of 4 epoch, 500 index : 0.08945662528276443\n",
            "loss of 4 epoch, 600 index : 0.025881364941596985\n",
            "loss of 4 epoch, 700 index : 0.022189831361174583\n",
            "loss of 4 epoch, 800 index : 0.03806333243846893\n",
            "loss of 4 epoch, 900 index : 0.0423014834523201\n",
            "loss of 4 epoch, 1000 index : 0.057914797216653824\n",
            "loss of 4 epoch, 1100 index : 0.03654598072171211\n",
            "loss of 5 epoch, 0 index : 0.02995740808546543\n",
            "loss of 5 epoch, 100 index : 0.06939287483692169\n",
            "loss of 5 epoch, 200 index : 0.04167337343096733\n",
            "loss of 5 epoch, 300 index : 0.012629887089133263\n",
            "loss of 5 epoch, 400 index : 0.08877076953649521\n",
            "loss of 5 epoch, 500 index : 0.013718631118535995\n",
            "loss of 5 epoch, 600 index : 0.14587880671024323\n",
            "loss of 5 epoch, 700 index : 0.08926756680011749\n",
            "loss of 5 epoch, 800 index : 0.02585521712899208\n",
            "loss of 5 epoch, 900 index : 0.02492748573422432\n",
            "loss of 5 epoch, 1000 index : 0.022475730627775192\n",
            "loss of 5 epoch, 1100 index : 0.006281464826315641\n",
            "loss of 6 epoch, 0 index : 0.08969671279191971\n",
            "loss of 6 epoch, 100 index : 0.013725709170103073\n",
            "loss of 6 epoch, 200 index : 0.22914430499076843\n",
            "loss of 6 epoch, 300 index : 0.07543357461690903\n",
            "loss of 6 epoch, 400 index : 0.03284965828061104\n",
            "loss of 6 epoch, 500 index : 0.00565966684371233\n",
            "loss of 6 epoch, 600 index : 0.041968341916799545\n",
            "loss of 6 epoch, 700 index : 0.028386900201439857\n",
            "loss of 6 epoch, 800 index : 0.011273907497525215\n",
            "loss of 6 epoch, 900 index : 0.055284563452005386\n",
            "loss of 6 epoch, 1000 index : 0.04275834932923317\n",
            "loss of 6 epoch, 1100 index : 0.00904056802392006\n",
            "loss of 7 epoch, 0 index : 0.04253214970231056\n",
            "loss of 7 epoch, 100 index : 0.002645454602316022\n",
            "loss of 7 epoch, 200 index : 0.0028653061017394066\n",
            "loss of 7 epoch, 300 index : 0.007067720405757427\n",
            "loss of 7 epoch, 400 index : 0.00768827460706234\n",
            "loss of 7 epoch, 500 index : 0.05814017355442047\n",
            "loss of 7 epoch, 600 index : 0.0015148791717365384\n",
            "loss of 7 epoch, 700 index : 0.010484186001121998\n",
            "loss of 7 epoch, 800 index : 0.017109183594584465\n",
            "loss of 7 epoch, 900 index : 0.021892327815294266\n",
            "loss of 7 epoch, 1000 index : 0.009423386305570602\n",
            "loss of 7 epoch, 1100 index : 0.012494832277297974\n",
            "loss of 8 epoch, 0 index : 0.07732117921113968\n",
            "loss of 8 epoch, 100 index : 0.019648447632789612\n",
            "loss of 8 epoch, 200 index : 0.06864088028669357\n",
            "loss of 8 epoch, 300 index : 0.018759503960609436\n",
            "loss of 8 epoch, 400 index : 0.018424125388264656\n",
            "loss of 8 epoch, 500 index : 0.048074111342430115\n",
            "loss of 8 epoch, 600 index : 0.016491683200001717\n",
            "loss of 8 epoch, 700 index : 0.0188719742000103\n",
            "loss of 8 epoch, 800 index : 0.030681680887937546\n",
            "loss of 8 epoch, 900 index : 0.034121930599212646\n",
            "loss of 8 epoch, 1000 index : 0.00806602742522955\n",
            "loss of 8 epoch, 1100 index : 0.047122515738010406\n",
            "loss of 9 epoch, 0 index : 0.01962406001985073\n",
            "loss of 9 epoch, 100 index : 0.0084510687738657\n",
            "loss of 9 epoch, 200 index : 0.006182133685797453\n",
            "loss of 9 epoch, 300 index : 0.012290967628359795\n",
            "loss of 9 epoch, 400 index : 0.010193843394517899\n",
            "loss of 9 epoch, 500 index : 0.17119403183460236\n",
            "loss of 9 epoch, 600 index : 0.005139718763530254\n",
            "loss of 9 epoch, 700 index : 0.005101374816149473\n",
            "loss of 9 epoch, 800 index : 0.012080789543688297\n",
            "loss of 9 epoch, 900 index : 0.012533886358141899\n",
            "loss of 9 epoch, 1000 index : 0.03847393020987511\n",
            "loss of 9 epoch, 1100 index : 0.0014330318663269281\n"
          ]
        }
      ]
    },
    {
      "cell_type": "code",
      "metadata": {
        "colab": {
          "base_uri": "https://localhost:8080/"
        },
        "id": "TD2J7Wd7ecwG",
        "outputId": "458e1462-aad8-476a-d0ab-ad66cea3f0eb"
      },
      "source": [
        "cnn.eval()  # test case 학습 방지를 위함\n",
        "test_loss = 0\n",
        "correct = 0\n",
        "with torch.no_grad():\n",
        "  for data, target in test_loader:\n",
        "    output = cnn(data)\n",
        "    test_loss += criterion(output, target).item() # sum up batch loss\n",
        "    pred = output.argmax(dim=1, keepdim=True) # get the index of the max log-probability\n",
        "    correct += pred.eq(target.view_as(pred)).sum().item()\n",
        "print('\\nTest set: Average loss: {:.4f}, Accuracy: {}/{} ({:.0f}%)\\n'.format(\n",
        "        test_loss, correct, len(test_loader.dataset),\n",
        "        100. * correct / len(test_loader.dataset)))"
      ],
      "execution_count": 10,
      "outputs": [
        {
          "output_type": "stream",
          "name": "stdout",
          "text": [
            "\n",
            "Test set: Average loss: 5.6378, Accuracy: 9903/10000 (99%)\n",
            "\n"
          ]
        }
      ]
    },
    {
      "cell_type": "markdown",
      "metadata": {
        "id": "kL2rY8bmpgw0"
      },
      "source": [
        "###lstm과 gru로 주식가격 예측"
      ]
    },
    {
      "cell_type": "markdown",
      "metadata": {
        "id": "2z2wfj9u3adq"
      },
      "source": [
        "https://data-analysis-expertise.tistory.com/67#recentComments"
      ]
    },
    {
      "cell_type": "code",
      "metadata": {
        "colab": {
          "base_uri": "https://localhost:8080/"
        },
        "id": "-dosp8SNpoLj",
        "outputId": "955fa412-f9a9-4e31-cf66-ef18eae4b420"
      },
      "source": [
        "!pip install yfinance"
      ],
      "execution_count": 12,
      "outputs": [
        {
          "output_type": "stream",
          "name": "stdout",
          "text": [
            "Collecting yfinance\n",
            "  Downloading yfinance-0.1.67-py2.py3-none-any.whl (25 kB)\n",
            "Requirement already satisfied: multitasking>=0.0.7 in /usr/local/lib/python3.7/dist-packages (from yfinance) (0.0.10)\n",
            "Requirement already satisfied: numpy>=1.15 in /usr/local/lib/python3.7/dist-packages (from yfinance) (1.19.5)\n",
            "Requirement already satisfied: pandas>=0.24 in /usr/local/lib/python3.7/dist-packages (from yfinance) (1.1.5)\n",
            "Collecting lxml>=4.5.1\n",
            "  Downloading lxml-4.6.4-cp37-cp37m-manylinux_2_17_x86_64.manylinux2014_x86_64.manylinux_2_24_x86_64.whl (6.3 MB)\n",
            "\u001b[K     |████████████████████████████████| 6.3 MB 12.8 MB/s \n",
            "\u001b[?25hRequirement already satisfied: requests>=2.20 in /usr/local/lib/python3.7/dist-packages (from yfinance) (2.23.0)\n",
            "Requirement already satisfied: pytz>=2017.2 in /usr/local/lib/python3.7/dist-packages (from pandas>=0.24->yfinance) (2018.9)\n",
            "Requirement already satisfied: python-dateutil>=2.7.3 in /usr/local/lib/python3.7/dist-packages (from pandas>=0.24->yfinance) (2.8.2)\n",
            "Requirement already satisfied: six>=1.5 in /usr/local/lib/python3.7/dist-packages (from python-dateutil>=2.7.3->pandas>=0.24->yfinance) (1.15.0)\n",
            "Requirement already satisfied: certifi>=2017.4.17 in /usr/local/lib/python3.7/dist-packages (from requests>=2.20->yfinance) (2021.10.8)\n",
            "Requirement already satisfied: idna<3,>=2.5 in /usr/local/lib/python3.7/dist-packages (from requests>=2.20->yfinance) (2.10)\n",
            "Requirement already satisfied: urllib3!=1.25.0,!=1.25.1,<1.26,>=1.21.1 in /usr/local/lib/python3.7/dist-packages (from requests>=2.20->yfinance) (1.24.3)\n",
            "Requirement already satisfied: chardet<4,>=3.0.2 in /usr/local/lib/python3.7/dist-packages (from requests>=2.20->yfinance) (3.0.4)\n",
            "Installing collected packages: lxml, yfinance\n",
            "  Attempting uninstall: lxml\n",
            "    Found existing installation: lxml 4.2.6\n",
            "    Uninstalling lxml-4.2.6:\n",
            "      Successfully uninstalled lxml-4.2.6\n",
            "Successfully installed lxml-4.6.4 yfinance-0.1.67\n"
          ]
        }
      ]
    },
    {
      "cell_type": "code",
      "metadata": {
        "id": "G1ZFUf8OpZ9w"
      },
      "source": [
        "import numpy as np\n",
        "import pandas as pd\n",
        "import yfinance as yf"
      ],
      "execution_count": 13,
      "outputs": []
    },
    {
      "cell_type": "code",
      "metadata": {
        "colab": {
          "base_uri": "https://localhost:8080/",
          "height": 455
        },
        "id": "2RZrH5QSprrT",
        "outputId": "920b3ad1-e3c0-4392-bc85-cd2f4573a60c"
      },
      "source": [
        "amazon = yf.download('AMZN',\n",
        "                    start='2014-01-01',\n",
        "                    end='2019-12-31',\n",
        "                    progress=False)\n",
        "amazon"
      ],
      "execution_count": 14,
      "outputs": [
        {
          "output_type": "execute_result",
          "data": {
            "text/html": [
              "<div>\n",
              "<style scoped>\n",
              "    .dataframe tbody tr th:only-of-type {\n",
              "        vertical-align: middle;\n",
              "    }\n",
              "\n",
              "    .dataframe tbody tr th {\n",
              "        vertical-align: top;\n",
              "    }\n",
              "\n",
              "    .dataframe thead th {\n",
              "        text-align: right;\n",
              "    }\n",
              "</style>\n",
              "<table border=\"1\" class=\"dataframe\">\n",
              "  <thead>\n",
              "    <tr style=\"text-align: right;\">\n",
              "      <th></th>\n",
              "      <th>Open</th>\n",
              "      <th>High</th>\n",
              "      <th>Low</th>\n",
              "      <th>Close</th>\n",
              "      <th>Adj Close</th>\n",
              "      <th>Volume</th>\n",
              "    </tr>\n",
              "    <tr>\n",
              "      <th>Date</th>\n",
              "      <th></th>\n",
              "      <th></th>\n",
              "      <th></th>\n",
              "      <th></th>\n",
              "      <th></th>\n",
              "      <th></th>\n",
              "    </tr>\n",
              "  </thead>\n",
              "  <tbody>\n",
              "    <tr>\n",
              "      <th>2014-01-02</th>\n",
              "      <td>398.799988</td>\n",
              "      <td>399.359985</td>\n",
              "      <td>394.019989</td>\n",
              "      <td>397.970001</td>\n",
              "      <td>397.970001</td>\n",
              "      <td>2137800</td>\n",
              "    </tr>\n",
              "    <tr>\n",
              "      <th>2014-01-03</th>\n",
              "      <td>398.290009</td>\n",
              "      <td>402.709991</td>\n",
              "      <td>396.220001</td>\n",
              "      <td>396.440002</td>\n",
              "      <td>396.440002</td>\n",
              "      <td>2210200</td>\n",
              "    </tr>\n",
              "    <tr>\n",
              "      <th>2014-01-06</th>\n",
              "      <td>395.850006</td>\n",
              "      <td>397.000000</td>\n",
              "      <td>388.420013</td>\n",
              "      <td>393.630005</td>\n",
              "      <td>393.630005</td>\n",
              "      <td>3170600</td>\n",
              "    </tr>\n",
              "    <tr>\n",
              "      <th>2014-01-07</th>\n",
              "      <td>395.040009</td>\n",
              "      <td>398.470001</td>\n",
              "      <td>394.290009</td>\n",
              "      <td>398.029999</td>\n",
              "      <td>398.029999</td>\n",
              "      <td>1916000</td>\n",
              "    </tr>\n",
              "    <tr>\n",
              "      <th>2014-01-08</th>\n",
              "      <td>398.470001</td>\n",
              "      <td>403.000000</td>\n",
              "      <td>396.040009</td>\n",
              "      <td>401.920013</td>\n",
              "      <td>401.920013</td>\n",
              "      <td>2316500</td>\n",
              "    </tr>\n",
              "    <tr>\n",
              "      <th>...</th>\n",
              "      <td>...</td>\n",
              "      <td>...</td>\n",
              "      <td>...</td>\n",
              "      <td>...</td>\n",
              "      <td>...</td>\n",
              "      <td>...</td>\n",
              "    </tr>\n",
              "    <tr>\n",
              "      <th>2019-12-23</th>\n",
              "      <td>1788.260010</td>\n",
              "      <td>1793.000000</td>\n",
              "      <td>1784.510010</td>\n",
              "      <td>1793.000000</td>\n",
              "      <td>1793.000000</td>\n",
              "      <td>2136400</td>\n",
              "    </tr>\n",
              "    <tr>\n",
              "      <th>2019-12-24</th>\n",
              "      <td>1793.810059</td>\n",
              "      <td>1795.569946</td>\n",
              "      <td>1787.579956</td>\n",
              "      <td>1789.209961</td>\n",
              "      <td>1789.209961</td>\n",
              "      <td>881300</td>\n",
              "    </tr>\n",
              "    <tr>\n",
              "      <th>2019-12-26</th>\n",
              "      <td>1801.010010</td>\n",
              "      <td>1870.459961</td>\n",
              "      <td>1799.500000</td>\n",
              "      <td>1868.770020</td>\n",
              "      <td>1868.770020</td>\n",
              "      <td>6005400</td>\n",
              "    </tr>\n",
              "    <tr>\n",
              "      <th>2019-12-27</th>\n",
              "      <td>1882.920044</td>\n",
              "      <td>1901.400024</td>\n",
              "      <td>1866.010010</td>\n",
              "      <td>1869.800049</td>\n",
              "      <td>1869.800049</td>\n",
              "      <td>6186600</td>\n",
              "    </tr>\n",
              "    <tr>\n",
              "      <th>2019-12-30</th>\n",
              "      <td>1874.000000</td>\n",
              "      <td>1884.000000</td>\n",
              "      <td>1840.619995</td>\n",
              "      <td>1846.890015</td>\n",
              "      <td>1846.890015</td>\n",
              "      <td>3674700</td>\n",
              "    </tr>\n",
              "  </tbody>\n",
              "</table>\n",
              "<p>1509 rows × 6 columns</p>\n",
              "</div>"
            ],
            "text/plain": [
              "                   Open         High  ...    Adj Close   Volume\n",
              "Date                                  ...                      \n",
              "2014-01-02   398.799988   399.359985  ...   397.970001  2137800\n",
              "2014-01-03   398.290009   402.709991  ...   396.440002  2210200\n",
              "2014-01-06   395.850006   397.000000  ...   393.630005  3170600\n",
              "2014-01-07   395.040009   398.470001  ...   398.029999  1916000\n",
              "2014-01-08   398.470001   403.000000  ...   401.920013  2316500\n",
              "...                 ...          ...  ...          ...      ...\n",
              "2019-12-23  1788.260010  1793.000000  ...  1793.000000  2136400\n",
              "2019-12-24  1793.810059  1795.569946  ...  1789.209961   881300\n",
              "2019-12-26  1801.010010  1870.459961  ...  1868.770020  6005400\n",
              "2019-12-27  1882.920044  1901.400024  ...  1869.800049  6186600\n",
              "2019-12-30  1874.000000  1884.000000  ...  1846.890015  3674700\n",
              "\n",
              "[1509 rows x 6 columns]"
            ]
          },
          "metadata": {},
          "execution_count": 14
        }
      ]
    },
    {
      "cell_type": "code",
      "metadata": {
        "colab": {
          "base_uri": "https://localhost:8080/"
        },
        "id": "bqa5qTOvqVpo",
        "outputId": "0b30df93-1617-4acd-f483-2af408731441"
      },
      "source": [
        "#df 순서 변경\n",
        "all_data = amazon[['Adj Close', 'Open', 'High', 'Low', 'Close', 'Volume']].round(2) #소수점 둘째자리 수 까지만\n",
        "print(all_data.head())\n",
        "all_data.info()"
      ],
      "execution_count": 17,
      "outputs": [
        {
          "output_type": "stream",
          "name": "stdout",
          "text": [
            "            Adj Close    Open    High     Low   Close   Volume\n",
            "Date                                                          \n",
            "2014-01-02     397.97  398.80  399.36  394.02  397.97  2137800\n",
            "2014-01-03     396.44  398.29  402.71  396.22  396.44  2210200\n",
            "2014-01-06     393.63  395.85  397.00  388.42  393.63  3170600\n",
            "2014-01-07     398.03  395.04  398.47  394.29  398.03  1916000\n",
            "2014-01-08     401.92  398.47  403.00  396.04  401.92  2316500\n",
            "<class 'pandas.core.frame.DataFrame'>\n",
            "DatetimeIndex: 1509 entries, 2014-01-02 to 2019-12-30\n",
            "Data columns (total 6 columns):\n",
            " #   Column     Non-Null Count  Dtype  \n",
            "---  ------     --------------  -----  \n",
            " 0   Adj Close  1509 non-null   float64\n",
            " 1   Open       1509 non-null   float64\n",
            " 2   High       1509 non-null   float64\n",
            " 3   Low        1509 non-null   float64\n",
            " 4   Close      1509 non-null   float64\n",
            " 5   Volume     1509 non-null   int64  \n",
            "dtypes: float64(5), int64(1)\n",
            "memory usage: 82.5 KB\n"
          ]
        }
      ]
    },
    {
      "cell_type": "code",
      "metadata": {
        "colab": {
          "base_uri": "https://localhost:8080/",
          "height": 287
        },
        "id": "ubC-zfW2rsx0",
        "outputId": "1fdd49a8-3af4-4f45-908b-792ecf3aa66f"
      },
      "source": [
        "all_data['Adj Close'].plot()"
      ],
      "execution_count": 19,
      "outputs": [
        {
          "output_type": "execute_result",
          "data": {
            "text/plain": [
              "<matplotlib.axes._subplots.AxesSubplot at 0x7f21f36a29d0>"
            ]
          },
          "metadata": {},
          "execution_count": 19
        },
        {
          "output_type": "display_data",
          "data": {
            "image/png": "[encoded data removed]",
            "text/plain": [
              "<Figure size 432x288 with 1 Axes>"
            ]
          },
          "metadata": {
            "needs_background": "light"
          }
        }
      ]
    },
    {
      "cell_type": "code",
      "metadata": {
        "colab": {
          "base_uri": "https://localhost:8080/",
          "height": 287
        },
        "id": "7L5UxEvDss9L",
        "outputId": "9f7c76a4-78df-4b54-b56d-bd5099b55718"
      },
      "source": [
        "all_data['Open'].plot()"
      ],
      "execution_count": 31,
      "outputs": [
        {
          "output_type": "execute_result",
          "data": {
            "text/plain": [
              "<matplotlib.axes._subplots.AxesSubplot at 0x7f21f2a25650>"
            ]
          },
          "metadata": {},
          "execution_count": 31
        },
        {
          "output_type": "display_data",
          "data": {
            "image/png": "[encoded data removed]",
            "text/plain": [
              "<Figure size 432x288 with 1 Axes>"
            ]
          },
          "metadata": {
            "needs_background": "light"
          }
        }
      ]
    },
    {
      "cell_type": "code",
      "metadata": {
        "colab": {
          "base_uri": "https://localhost:8080/"
        },
        "id": "7xP3gT9RtkOc",
        "outputId": "9f5a93ec-bc23-4c4d-ca66-46927528df2b"
      },
      "source": [
        "#2018년도를 training 데이터로 사용하여 학습한 모델을 2019년도를 test 데이터로 사용하여 성능 평가\n",
        "print(all_data[:'2018'])\n",
        "print(all_data[:'2018'].shape[0])\n",
        "print(all_data[:'2019'])\n",
        "print(all_data[:'2019'].shape[0])"
      ],
      "execution_count": 34,
      "outputs": [
        {
          "output_type": "stream",
          "name": "stdout",
          "text": [
            "            Adj Close     Open     High      Low    Close    Volume\n",
            "Date                                                               \n",
            "2014-01-02     397.97   398.80   399.36   394.02   397.97   2137800\n",
            "2014-01-03     396.44   398.29   402.71   396.22   396.44   2210200\n",
            "2014-01-06     393.63   395.85   397.00   388.42   393.63   3170600\n",
            "2014-01-07     398.03   395.04   398.47   394.29   398.03   1916000\n",
            "2014-01-08     401.92   398.47   403.00   396.04   401.92   2316500\n",
            "...               ...      ...      ...      ...      ...       ...\n",
            "2018-12-24    1343.96  1346.00  1396.03  1307.00  1343.96   7220000\n",
            "2018-12-26    1470.90  1368.89  1473.16  1363.01  1470.90  10411800\n",
            "2018-12-27    1461.64  1454.20  1469.00  1390.31  1461.64   9722000\n",
            "2018-12-28    1478.02  1473.35  1513.47  1449.00  1478.02   8829000\n",
            "2018-12-31    1501.97  1510.80  1520.76  1487.00  1501.97   6954500\n",
            "\n",
            "[1258 rows x 6 columns]\n",
            "1258\n",
            "            Adj Close     Open     High      Low    Close   Volume\n",
            "Date                                                              \n",
            "2014-01-02     397.97   398.80   399.36   394.02   397.97  2137800\n",
            "2014-01-03     396.44   398.29   402.71   396.22   396.44  2210200\n",
            "2014-01-06     393.63   395.85   397.00   388.42   393.63  3170600\n",
            "2014-01-07     398.03   395.04   398.47   394.29   398.03  1916000\n",
            "2014-01-08     401.92   398.47   403.00   396.04   401.92  2316500\n",
            "...               ...      ...      ...      ...      ...      ...\n",
            "2019-12-23    1793.00  1788.26  1793.00  1784.51  1793.00  2136400\n",
            "2019-12-24    1789.21  1793.81  1795.57  1787.58  1789.21   881300\n",
            "2019-12-26    1868.77  1801.01  1870.46  1799.50  1868.77  6005400\n",
            "2019-12-27    1869.80  1882.92  1901.40  1866.01  1869.80  6186600\n",
            "2019-12-30    1846.89  1874.00  1884.00  1840.62  1846.89  3674700\n",
            "\n",
            "[1509 rows x 6 columns]\n",
            "1509\n"
          ]
        }
      ]
    },
    {
      "cell_type": "code",
      "metadata": {
        "colab": {
          "base_uri": "https://localhost:8080/"
        },
        "id": "Jj0utdjExps-",
        "outputId": "49f61d74-9857-4a5a-fbc9-2f17402b970d"
      },
      "source": [
        "all_data[:2015].info()"
      ],
      "execution_count": 39,
      "outputs": [
        {
          "output_type": "stream",
          "name": "stdout",
          "text": [
            "<class 'pandas.core.frame.DataFrame'>\n",
            "DatetimeIndex: 1509 entries, 2014-01-02 to 2019-12-30\n",
            "Data columns (total 6 columns):\n",
            " #   Column     Non-Null Count  Dtype  \n",
            "---  ------     --------------  -----  \n",
            " 0   Adj Close  1509 non-null   float64\n",
            " 1   Open       1509 non-null   float64\n",
            " 2   High       1509 non-null   float64\n",
            " 3   Low        1509 non-null   float64\n",
            " 4   Close      1509 non-null   float64\n",
            " 5   Volume     1509 non-null   int64  \n",
            "dtypes: float64(5), int64(1)\n",
            "memory usage: 82.5 KB\n"
          ]
        }
      ]
    },
    {
      "cell_type": "code",
      "metadata": {
        "id": "IsbkB7l0uaqi"
      },
      "source": [
        "def ts_train_set(all_data, time_steps, for_periods):\n",
        "  #training & test set 생성\n",
        "  ts_train = all_data[:'2018'].iloc[:,0:1].values #index기준으로 날짜 해당년도까지 가져옴\n",
        "  ts_test = all_data[:'2019'].iloc[:,0:1].values\n",
        "  ts_train_len = len(ts_train)\n",
        "  ts_test_len = len(ts_test)\n",
        "\n",
        "  X_train = []\n",
        "  y_train = []\n",
        "  y_train_stacked = []\n",
        "  for i in range(time_steps, ts_train_len -1):\n",
        "    X_train.append(ts_train[i-time_steps:i,0])\n",
        "    print(ts_train[i-time_steps:i,0])\n",
        "    y_train.append(ts_train[i:i*for_periods,0])\n",
        "    print(ts_train[i:i*for_periods,0])\n",
        "  \n",
        "  #리스트를 numpy 배열로 만들기: array 배열의 연산속도가 더 빠르고 메모리 효율도 좋음\n",
        "  X_train, y_train = np.array(X_train), np.array(y_train)  \n",
        "  print(X_train, y_train)\n",
        "\n",
        "  #3차원으로 재구성 np.reshape(samples, time_steps, features)로 맞춤\n",
        "  X_train = np.reshape(X_train, (X_train.shape[0], X_train.shape[1], 1))\n",
        "\n",
        "  inputs = pd.concat((all_data['Adj Close'][:'2018'], all_data['Adj Close']['2019':]), axis=0).values\n",
        "  inputs = inputs[len(inputs)-len(ts_test)-time_steps:]\n",
        "  inputs = inputs.reshape(-1,1)\n",
        "\n",
        "  X_tr"
      ],
      "execution_count": 43,
      "outputs": []
    },
    {
      "cell_type": "code",
      "metadata": {
        "id": "g3VeHVrBwhGH"
      },
      "source": [
        "X_train = np.reshape(X_train, (X_train.shape[0], X_train.shape[1], 1))"
      ],
      "execution_count": null,
      "outputs": []
    },
    {
      "cell_type": "markdown",
      "metadata": {
        "id": "ACEMZIUh3VNh"
      },
      "source": [
        "###lstm활용한 삼성전자 주가예측"
      ]
    },
    {
      "cell_type": "markdown",
      "metadata": {
        "id": "EsdMISw-3iyg"
      },
      "source": [
        "https://colab.research.google.com/github/teddylee777/machine-learning/blob/master/04-TensorFlow2.0/01-%EC%82%BC%EC%84%B1%EC%A0%84%EC%9E%90-%EC%A3%BC%EA%B0%80%EC%98%88%EC%B8%A1/02-LSTM-stock-forecasting-with-LSTM-financedatareader.ipynb#scrollTo=2F4QQ1O_0l8m"
      ]
    },
    {
      "cell_type": "code",
      "metadata": {
        "id": "-wo5fENR02XC"
      },
      "source": [
        "import pandas as pd\n",
        "import numpy as np\n",
        "import matplotlib.pyplot as plt\n",
        "import seaborn as sns\n",
        "import warnings\n",
        "import os\n",
        "\n",
        "%matplotlib inline\n",
        "warnings.filterwarnings('ignore')\n",
        "\n",
        "plt.rcParams['font.family'] = 'NanumGothic'"
      ],
      "execution_count": 44,
      "outputs": []
    },
    {
      "cell_type": "code",
      "metadata": {
        "colab": {
          "base_uri": "https://localhost:8080/"
        },
        "id": "1W94FE-y05Zm",
        "outputId": "47ed55bc-0af9-42cb-fc51-07e8a2cfd99b"
      },
      "source": [
        "!pip install finance-datareader"
      ],
      "execution_count": 46,
      "outputs": [
        {
          "output_type": "stream",
          "name": "stdout",
          "text": [
            "Collecting finance-datareader\n",
            "  Downloading finance_datareader-0.9.31-py3-none-any.whl (17 kB)\n",
            "Requirement already satisfied: tqdm in /usr/local/lib/python3.7/dist-packages (from finance-datareader) (4.62.3)\n",
            "Collecting requests-file\n",
            "  Downloading requests_file-1.5.1-py2.py3-none-any.whl (3.7 kB)\n",
            "Requirement already satisfied: requests>=2.3.0 in /usr/local/lib/python3.7/dist-packages (from finance-datareader) (2.23.0)\n",
            "Requirement already satisfied: lxml in /usr/local/lib/python3.7/dist-packages (from finance-datareader) (4.6.4)\n",
            "Requirement already satisfied: pandas>=0.19.2 in /usr/local/lib/python3.7/dist-packages (from finance-datareader) (1.1.5)\n",
            "Requirement already satisfied: python-dateutil>=2.7.3 in /usr/local/lib/python3.7/dist-packages (from pandas>=0.19.2->finance-datareader) (2.8.2)\n",
            "Requirement already satisfied: numpy>=1.15.4 in /usr/local/lib/python3.7/dist-packages (from pandas>=0.19.2->finance-datareader) (1.19.5)\n",
            "Requirement already satisfied: pytz>=2017.2 in /usr/local/lib/python3.7/dist-packages (from pandas>=0.19.2->finance-datareader) (2018.9)\n",
            "Requirement already satisfied: six>=1.5 in /usr/local/lib/python3.7/dist-packages (from python-dateutil>=2.7.3->pandas>=0.19.2->finance-datareader) (1.15.0)\n",
            "Requirement already satisfied: certifi>=2017.4.17 in /usr/local/lib/python3.7/dist-packages (from requests>=2.3.0->finance-datareader) (2021.10.8)\n",
            "Requirement already satisfied: urllib3!=1.25.0,!=1.25.1,<1.26,>=1.21.1 in /usr/local/lib/python3.7/dist-packages (from requests>=2.3.0->finance-datareader) (1.24.3)\n",
            "Requirement already satisfied: chardet<4,>=3.0.2 in /usr/local/lib/python3.7/dist-packages (from requests>=2.3.0->finance-datareader) (3.0.4)\n",
            "Requirement already satisfied: idna<3,>=2.5 in /usr/local/lib/python3.7/dist-packages (from requests>=2.3.0->finance-datareader) (2.10)\n",
            "Installing collected packages: requests-file, finance-datareader\n",
            "Successfully installed finance-datareader-0.9.31 requests-file-1.5.1\n"
          ]
        }
      ]
    },
    {
      "cell_type": "code",
      "metadata": {
        "id": "WwaeRjn403RC"
      },
      "source": [
        "import FinanceDataReader as fdr"
      ],
      "execution_count": 47,
      "outputs": []
    },
    {
      "cell_type": "code",
      "metadata": {
        "id": "jsiO0anf09Z4"
      },
      "source": [
        "# 삼성전자(005930) 전체 (1996-11-05 ~ 현재)\n",
        "samsung = fdr.DataReader('005930')"
      ],
      "execution_count": 48,
      "outputs": []
    },
    {
      "cell_type": "code",
      "metadata": {
        "colab": {
          "base_uri": "https://localhost:8080/",
          "height": 238
        },
        "id": "0Zs1ldOn0_Ly",
        "outputId": "d7f67fbe-2908-4fea-df41-de3241d17703"
      },
      "source": [
        "samsung.tail()"
      ],
      "execution_count": 49,
      "outputs": [
        {
          "output_type": "execute_result",
          "data": {
            "text/html": [
              "<div>\n",
              "<style scoped>\n",
              "    .dataframe tbody tr th:only-of-type {\n",
              "        vertical-align: middle;\n",
              "    }\n",
              "\n",
              "    .dataframe tbody tr th {\n",
              "        vertical-align: top;\n",
              "    }\n",
              "\n",
              "    .dataframe thead th {\n",
              "        text-align: right;\n",
              "    }\n",
              "</style>\n",
              "<table border=\"1\" class=\"dataframe\">\n",
              "  <thead>\n",
              "    <tr style=\"text-align: right;\">\n",
              "      <th></th>\n",
              "      <th>Open</th>\n",
              "      <th>High</th>\n",
              "      <th>Low</th>\n",
              "      <th>Close</th>\n",
              "      <th>Volume</th>\n",
              "      <th>Change</th>\n",
              "    </tr>\n",
              "    <tr>\n",
              "      <th>Date</th>\n",
              "      <th></th>\n",
              "      <th></th>\n",
              "      <th></th>\n",
              "      <th></th>\n",
              "      <th></th>\n",
              "      <th></th>\n",
              "    </tr>\n",
              "  </thead>\n",
              "  <tbody>\n",
              "    <tr>\n",
              "      <th>2021-11-24</th>\n",
              "      <td>76000</td>\n",
              "      <td>76200</td>\n",
              "      <td>74100</td>\n",
              "      <td>74800</td>\n",
              "      <td>15652305</td>\n",
              "      <td>-0.006640</td>\n",
              "    </tr>\n",
              "    <tr>\n",
              "      <th>2021-11-25</th>\n",
              "      <td>75100</td>\n",
              "      <td>75100</td>\n",
              "      <td>73600</td>\n",
              "      <td>73700</td>\n",
              "      <td>12559258</td>\n",
              "      <td>-0.014706</td>\n",
              "    </tr>\n",
              "    <tr>\n",
              "      <th>2021-11-26</th>\n",
              "      <td>73500</td>\n",
              "      <td>74100</td>\n",
              "      <td>72000</td>\n",
              "      <td>72300</td>\n",
              "      <td>13002242</td>\n",
              "      <td>-0.018996</td>\n",
              "    </tr>\n",
              "    <tr>\n",
              "      <th>2021-11-29</th>\n",
              "      <td>71700</td>\n",
              "      <td>73000</td>\n",
              "      <td>71400</td>\n",
              "      <td>72300</td>\n",
              "      <td>16682559</td>\n",
              "      <td>0.000000</td>\n",
              "    </tr>\n",
              "    <tr>\n",
              "      <th>2021-11-30</th>\n",
              "      <td>73200</td>\n",
              "      <td>73900</td>\n",
              "      <td>70500</td>\n",
              "      <td>71300</td>\n",
              "      <td>29641025</td>\n",
              "      <td>-0.013831</td>\n",
              "    </tr>\n",
              "  </tbody>\n",
              "</table>\n",
              "</div>"
            ],
            "text/plain": [
              "             Open   High    Low  Close    Volume    Change\n",
              "Date                                                      \n",
              "2021-11-24  76000  76200  74100  74800  15652305 -0.006640\n",
              "2021-11-25  75100  75100  73600  73700  12559258 -0.014706\n",
              "2021-11-26  73500  74100  72000  72300  13002242 -0.018996\n",
              "2021-11-29  71700  73000  71400  72300  16682559  0.000000\n",
              "2021-11-30  73200  73900  70500  71300  29641025 -0.013831"
            ]
          },
          "metadata": {},
          "execution_count": 49
        }
      ]
    },
    {
      "cell_type": "code",
      "metadata": {
        "colab": {
          "base_uri": "https://localhost:8080/",
          "height": 238
        },
        "id": "5ecoDYj11AFn",
        "outputId": "4a6ec3bd-0f19-4bf0-f472-2dcf1890470b"
      },
      "source": [
        "# 삼성전자 주식코드: 005930\n",
        "STOCK_CODE = '005930'\n",
        "stock = fdr.DataReader(STOCK_CODE)\n",
        "stock.head()"
      ],
      "execution_count": 50,
      "outputs": [
        {
          "output_type": "execute_result",
          "data": {
            "text/html": [
              "<div>\n",
              "<style scoped>\n",
              "    .dataframe tbody tr th:only-of-type {\n",
              "        vertical-align: middle;\n",
              "    }\n",
              "\n",
              "    .dataframe tbody tr th {\n",
              "        vertical-align: top;\n",
              "    }\n",
              "\n",
              "    .dataframe thead th {\n",
              "        text-align: right;\n",
              "    }\n",
              "</style>\n",
              "<table border=\"1\" class=\"dataframe\">\n",
              "  <thead>\n",
              "    <tr style=\"text-align: right;\">\n",
              "      <th></th>\n",
              "      <th>Open</th>\n",
              "      <th>High</th>\n",
              "      <th>Low</th>\n",
              "      <th>Close</th>\n",
              "      <th>Volume</th>\n",
              "      <th>Change</th>\n",
              "    </tr>\n",
              "    <tr>\n",
              "      <th>Date</th>\n",
              "      <th></th>\n",
              "      <th></th>\n",
              "      <th></th>\n",
              "      <th></th>\n",
              "      <th></th>\n",
              "      <th></th>\n",
              "    </tr>\n",
              "  </thead>\n",
              "  <tbody>\n",
              "    <tr>\n",
              "      <th>1997-10-30</th>\n",
              "      <td>750</td>\n",
              "      <td>773</td>\n",
              "      <td>714</td>\n",
              "      <td>715</td>\n",
              "      <td>373530</td>\n",
              "      <td>NaN</td>\n",
              "    </tr>\n",
              "    <tr>\n",
              "      <th>1997-10-31</th>\n",
              "      <td>714</td>\n",
              "      <td>714</td>\n",
              "      <td>657</td>\n",
              "      <td>677</td>\n",
              "      <td>425381</td>\n",
              "      <td>-0.053147</td>\n",
              "    </tr>\n",
              "    <tr>\n",
              "      <th>1997-11-01</th>\n",
              "      <td>679</td>\n",
              "      <td>730</td>\n",
              "      <td>677</td>\n",
              "      <td>731</td>\n",
              "      <td>323800</td>\n",
              "      <td>0.079764</td>\n",
              "    </tr>\n",
              "    <tr>\n",
              "      <th>1997-11-03</th>\n",
              "      <td>782</td>\n",
              "      <td>788</td>\n",
              "      <td>736</td>\n",
              "      <td>788</td>\n",
              "      <td>863870</td>\n",
              "      <td>0.077975</td>\n",
              "    </tr>\n",
              "    <tr>\n",
              "      <th>1997-11-04</th>\n",
              "      <td>795</td>\n",
              "      <td>850</td>\n",
              "      <td>795</td>\n",
              "      <td>851</td>\n",
              "      <td>478162</td>\n",
              "      <td>0.079949</td>\n",
              "    </tr>\n",
              "  </tbody>\n",
              "</table>\n",
              "</div>"
            ],
            "text/plain": [
              "            Open  High  Low  Close  Volume    Change\n",
              "Date                                                \n",
              "1997-10-30   750   773  714    715  373530       NaN\n",
              "1997-10-31   714   714  657    677  425381 -0.053147\n",
              "1997-11-01   679   730  677    731  323800  0.079764\n",
              "1997-11-03   782   788  736    788  863870  0.077975\n",
              "1997-11-04   795   850  795    851  478162  0.079949"
            ]
          },
          "metadata": {},
          "execution_count": 50
        }
      ]
    },
    {
      "cell_type": "code",
      "metadata": {
        "colab": {
          "base_uri": "https://localhost:8080/",
          "height": 238
        },
        "id": "bTqv0YtG1HJj",
        "outputId": "1e2dd100-7ea2-4a4d-8349-cae6f7732de6"
      },
      "source": [
        "stock.tail()"
      ],
      "execution_count": 51,
      "outputs": [
        {
          "output_type": "execute_result",
          "data": {
            "text/html": [
              "<div>\n",
              "<style scoped>\n",
              "    .dataframe tbody tr th:only-of-type {\n",
              "        vertical-align: middle;\n",
              "    }\n",
              "\n",
              "    .dataframe tbody tr th {\n",
              "        vertical-align: top;\n",
              "    }\n",
              "\n",
              "    .dataframe thead th {\n",
              "        text-align: right;\n",
              "    }\n",
              "</style>\n",
              "<table border=\"1\" class=\"dataframe\">\n",
              "  <thead>\n",
              "    <tr style=\"text-align: right;\">\n",
              "      <th></th>\n",
              "      <th>Open</th>\n",
              "      <th>High</th>\n",
              "      <th>Low</th>\n",
              "      <th>Close</th>\n",
              "      <th>Volume</th>\n",
              "      <th>Change</th>\n",
              "    </tr>\n",
              "    <tr>\n",
              "      <th>Date</th>\n",
              "      <th></th>\n",
              "      <th></th>\n",
              "      <th></th>\n",
              "      <th></th>\n",
              "      <th></th>\n",
              "      <th></th>\n",
              "    </tr>\n",
              "  </thead>\n",
              "  <tbody>\n",
              "    <tr>\n",
              "      <th>2021-11-24</th>\n",
              "      <td>76000</td>\n",
              "      <td>76200</td>\n",
              "      <td>74100</td>\n",
              "      <td>74800</td>\n",
              "      <td>15652305</td>\n",
              "      <td>-0.006640</td>\n",
              "    </tr>\n",
              "    <tr>\n",
              "      <th>2021-11-25</th>\n",
              "      <td>75100</td>\n",
              "      <td>75100</td>\n",
              "      <td>73600</td>\n",
              "      <td>73700</td>\n",
              "      <td>12559258</td>\n",
              "      <td>-0.014706</td>\n",
              "    </tr>\n",
              "    <tr>\n",
              "      <th>2021-11-26</th>\n",
              "      <td>73500</td>\n",
              "      <td>74100</td>\n",
              "      <td>72000</td>\n",
              "      <td>72300</td>\n",
              "      <td>13002242</td>\n",
              "      <td>-0.018996</td>\n",
              "    </tr>\n",
              "    <tr>\n",
              "      <th>2021-11-29</th>\n",
              "      <td>71700</td>\n",
              "      <td>73000</td>\n",
              "      <td>71400</td>\n",
              "      <td>72300</td>\n",
              "      <td>16682559</td>\n",
              "      <td>0.000000</td>\n",
              "    </tr>\n",
              "    <tr>\n",
              "      <th>2021-11-30</th>\n",
              "      <td>73200</td>\n",
              "      <td>73900</td>\n",
              "      <td>70500</td>\n",
              "      <td>71300</td>\n",
              "      <td>29641025</td>\n",
              "      <td>-0.013831</td>\n",
              "    </tr>\n",
              "  </tbody>\n",
              "</table>\n",
              "</div>"
            ],
            "text/plain": [
              "             Open   High    Low  Close    Volume    Change\n",
              "Date                                                      \n",
              "2021-11-24  76000  76200  74100  74800  15652305 -0.006640\n",
              "2021-11-25  75100  75100  73600  73700  12559258 -0.014706\n",
              "2021-11-26  73500  74100  72000  72300  13002242 -0.018996\n",
              "2021-11-29  71700  73000  71400  72300  16682559  0.000000\n",
              "2021-11-30  73200  73900  70500  71300  29641025 -0.013831"
            ]
          },
          "metadata": {},
          "execution_count": 51
        }
      ]
    },
    {
      "cell_type": "code",
      "metadata": {
        "colab": {
          "base_uri": "https://localhost:8080/"
        },
        "id": "EdMDkEvj1KPq",
        "outputId": "2edbd69a-0ff7-426b-eea7-c9efd4695ecf"
      },
      "source": [
        "stock.index"
      ],
      "execution_count": 52,
      "outputs": [
        {
          "output_type": "execute_result",
          "data": {
            "text/plain": [
              "DatetimeIndex(['1997-10-30', '1997-10-31', '1997-11-01', '1997-11-03',\n",
              "               '1997-11-04', '1997-11-05', '1997-11-06', '1997-11-07',\n",
              "               '1997-11-08', '1997-11-10',\n",
              "               ...\n",
              "               '2021-11-17', '2021-11-18', '2021-11-19', '2021-11-22',\n",
              "               '2021-11-23', '2021-11-24', '2021-11-25', '2021-11-26',\n",
              "               '2021-11-29', '2021-11-30'],\n",
              "              dtype='datetime64[ns]', name='Date', length=6000, freq=None)"
            ]
          },
          "metadata": {},
          "execution_count": 52
        }
      ]
    },
    {
      "cell_type": "code",
      "metadata": {
        "colab": {
          "base_uri": "https://localhost:8080/",
          "height": 307
        },
        "id": "HVnTv1WH1Lkk",
        "outputId": "b150b6f8-999a-46c7-b906-8f85ba224135"
      },
      "source": [
        "stock['Open'].plot()"
      ],
      "execution_count": 53,
      "outputs": [
        {
          "output_type": "execute_result",
          "data": {
            "text/plain": [
              "<matplotlib.axes._subplots.AxesSubplot at 0x7f21e34fcb10>"
            ]
          },
          "metadata": {},
          "execution_count": 53
        },
        {
          "output_type": "stream",
          "name": "stderr",
          "text": [
            "findfont: Font family ['NanumGothic'] not found. Falling back to DejaVu Sans.\n"
          ]
        },
        {
          "output_type": "display_data",
          "data": {
            "image/png": "[encoded data removed]",
            "text/plain": [
              "<Figure size 432x288 with 1 Axes>"
            ]
          },
          "metadata": {
            "needs_background": "light"
          }
        }
      ]
    },
    {
      "cell_type": "code",
      "metadata": {
        "colab": {
          "base_uri": "https://localhost:8080/",
          "height": 501
        },
        "id": "EtGLUcGX1Pj9",
        "outputId": "aa0d901d-a447-48f9-c99c-b5feebfae199"
      },
      "source": [
        "plt.figure(figsize=(16, 9))\n",
        "sns.lineplot(y=stock['Close'], x=stock.index)\n",
        "plt.xlabel('time')\n",
        "plt.ylabel('price')"
      ],
      "execution_count": 54,
      "outputs": [
        {
          "output_type": "execute_result",
          "data": {
            "text/plain": [
              "Text(0, 0.5, 'price')"
            ]
          },
          "metadata": {},
          "execution_count": 54
        },
        {
          "output_type": "display_data",
          "data": {
            "image/png": "[encoded data removed]",
            "text/plain": [
              "<Figure size 1152x648 with 1 Axes>"
            ]
          },
          "metadata": {
            "needs_background": "light"
          }
        }
      ]
    },
    {
      "cell_type": "code",
      "metadata": {
        "colab": {
          "base_uri": "https://localhost:8080/",
          "height": 503
        },
        "id": "zGQ4hwKd1Tmc",
        "outputId": "36bcb22c-9029-4261-8a47-308f0bd9ee2a"
      },
      "source": [
        "time_steps = [['1990', '2000'], \n",
        "              ['2000', '2010'], \n",
        "              ['2010', '2015'], \n",
        "              ['2015', '2020']]\n",
        "\n",
        "fig, axes = plt.subplots(2, 2)\n",
        "fig.set_size_inches(16, 9)\n",
        "for i in range(4):\n",
        "    ax = axes[i//2, i%2]\n",
        "    df = stock.loc[(stock.index > time_steps[i][0]) & (stock.index < time_steps[i][1])]\n",
        "    sns.lineplot(y=df['Close'], x=df.index, ax=ax)\n",
        "    ax.set_title(f'{time_steps[i][0]}~{time_steps[i][1]}')\n",
        "    ax.set_xlabel('time')\n",
        "    ax.set_ylabel('price')\n",
        "plt.tight_layout()\n",
        "plt.show()"
      ],
      "execution_count": 55,
      "outputs": [
        {
          "output_type": "stream",
          "name": "stderr",
          "text": [
            "findfont: Font family ['NanumGothic'] not found. Falling back to DejaVu Sans.\n"
          ]
        },
        {
          "output_type": "display_data",
          "data": {
            "image/png": "[encoded data removed]",
            "text/plain": [
              "<Figure size 1152x648 with 4 Axes>"
            ]
          },
          "metadata": {
            "needs_background": "light"
          }
        }
      ]
    },
    {
      "cell_type": "code",
      "metadata": {
        "colab": {
          "base_uri": "https://localhost:8080/"
        },
        "id": "8IcoZMFZ1Y7Z",
        "outputId": "53a49871-069f-403a-c3e0-12f8cb6f7b36"
      },
      "source": [
        "from sklearn.preprocessing import MinMaxScaler\n",
        "\n",
        "scaler = MinMaxScaler()\n",
        "# 스케일을 적용할 column을 정의합니다.\n",
        "scale_cols = ['Open', 'High', 'Low', 'Close', 'Volume']\n",
        "# 스케일 후 columns\n",
        "scaled = scaler.fit_transform(stock[scale_cols])\n",
        "scaled"
      ],
      "execution_count": 56,
      "outputs": [
        {
          "output_type": "execute_result",
          "data": {
            "text/plain": [
              "array([[8.30564784e-03, 7.98553719e-03, 7.97765363e-03, 9.73742158e-04,\n",
              "        4.13626191e-03],\n",
              "       [7.90697674e-03, 7.37603306e-03, 7.34078212e-03, 5.53262589e-04,\n",
              "        4.71043083e-03],\n",
              "       [7.51937984e-03, 7.54132231e-03, 7.56424581e-03, 1.15078619e-03,\n",
              "        3.58557975e-03],\n",
              "       ...,\n",
              "       [8.13953488e-01, 7.65495868e-01, 8.04469274e-01, 7.93079792e-01,\n",
              "        1.43979542e-01],\n",
              "       [7.94019934e-01, 7.54132231e-01, 7.97765363e-01, 7.93079792e-01,\n",
              "        1.84733310e-01],\n",
              "       [8.10631229e-01, 7.63429752e-01, 7.87709497e-01, 7.82014540e-01,\n",
              "        3.28228101e-01]])"
            ]
          },
          "metadata": {},
          "execution_count": 56
        }
      ]
    },
    {
      "cell_type": "code",
      "metadata": {
        "id": "U46k3wRA1bSB"
      },
      "source": [
        "df = pd.DataFrame(scaled, columns=scale_cols)"
      ],
      "execution_count": 57,
      "outputs": []
    },
    {
      "cell_type": "code",
      "metadata": {
        "id": "ols6p9aK1d20"
      },
      "source": [
        "from sklearn.model_selection import train_test_split"
      ],
      "execution_count": 58,
      "outputs": []
    },
    {
      "cell_type": "code",
      "metadata": {
        "id": "wa1Yay4s1hNB"
      },
      "source": [
        "x_train, x_test, y_train, y_test = train_test_split(df.drop('Close', 1), df['Close'], test_size=0.2, random_state=0, shuffle=False)"
      ],
      "execution_count": 59,
      "outputs": []
    },
    {
      "cell_type": "code",
      "metadata": {
        "colab": {
          "base_uri": "https://localhost:8080/"
        },
        "id": "ymWZeYJ51iNK",
        "outputId": "80e21fc9-ce33-4ec1-d12d-41e7bc2bb65c"
      },
      "source": [
        "x_train.shape, y_train.shape"
      ],
      "execution_count": 60,
      "outputs": [
        {
          "output_type": "execute_result",
          "data": {
            "text/plain": [
              "((4800, 4), (4800,))"
            ]
          },
          "metadata": {},
          "execution_count": 60
        }
      ]
    },
    {
      "cell_type": "code",
      "metadata": {
        "colab": {
          "base_uri": "https://localhost:8080/"
        },
        "id": "AuHaaQBN1je6",
        "outputId": "3bc8ac1a-ebc8-4a0c-baf3-0b17b26d8e8a"
      },
      "source": [
        "x_test.shape, y_test.shape"
      ],
      "execution_count": 61,
      "outputs": [
        {
          "output_type": "execute_result",
          "data": {
            "text/plain": [
              "((1200, 4), (1200,))"
            ]
          },
          "metadata": {},
          "execution_count": 61
        }
      ]
    },
    {
      "cell_type": "code",
      "metadata": {
        "colab": {
          "base_uri": "https://localhost:8080/",
          "height": 424
        },
        "id": "zXsmz4X51ko6",
        "outputId": "c6ab768a-d7ce-4373-bd53-fddf187f20d3"
      },
      "source": [
        "x_train"
      ],
      "execution_count": 62,
      "outputs": [
        {
          "output_type": "execute_result",
          "data": {
            "text/html": [
              "<div>\n",
              "<style scoped>\n",
              "    .dataframe tbody tr th:only-of-type {\n",
              "        vertical-align: middle;\n",
              "    }\n",
              "\n",
              "    .dataframe tbody tr th {\n",
              "        vertical-align: top;\n",
              "    }\n",
              "\n",
              "    .dataframe thead th {\n",
              "        text-align: right;\n",
              "    }\n",
              "</style>\n",
              "<table border=\"1\" class=\"dataframe\">\n",
              "  <thead>\n",
              "    <tr style=\"text-align: right;\">\n",
              "      <th></th>\n",
              "      <th>Open</th>\n",
              "      <th>High</th>\n",
              "      <th>Low</th>\n",
              "      <th>Volume</th>\n",
              "    </tr>\n",
              "  </thead>\n",
              "  <tbody>\n",
              "    <tr>\n",
              "      <th>0</th>\n",
              "      <td>0.008306</td>\n",
              "      <td>0.007986</td>\n",
              "      <td>0.007978</td>\n",
              "      <td>0.004136</td>\n",
              "    </tr>\n",
              "    <tr>\n",
              "      <th>1</th>\n",
              "      <td>0.007907</td>\n",
              "      <td>0.007376</td>\n",
              "      <td>0.007341</td>\n",
              "      <td>0.004710</td>\n",
              "    </tr>\n",
              "    <tr>\n",
              "      <th>2</th>\n",
              "      <td>0.007519</td>\n",
              "      <td>0.007541</td>\n",
              "      <td>0.007564</td>\n",
              "      <td>0.003586</td>\n",
              "    </tr>\n",
              "    <tr>\n",
              "      <th>3</th>\n",
              "      <td>0.008660</td>\n",
              "      <td>0.008140</td>\n",
              "      <td>0.008223</td>\n",
              "      <td>0.009566</td>\n",
              "    </tr>\n",
              "    <tr>\n",
              "      <th>4</th>\n",
              "      <td>0.008804</td>\n",
              "      <td>0.008781</td>\n",
              "      <td>0.008883</td>\n",
              "      <td>0.005295</td>\n",
              "    </tr>\n",
              "    <tr>\n",
              "      <th>...</th>\n",
              "      <td>...</td>\n",
              "      <td>...</td>\n",
              "      <td>...</td>\n",
              "      <td>...</td>\n",
              "    </tr>\n",
              "    <tr>\n",
              "      <th>4795</th>\n",
              "      <td>0.404208</td>\n",
              "      <td>0.377273</td>\n",
              "      <td>0.403352</td>\n",
              "      <td>0.001765</td>\n",
              "    </tr>\n",
              "    <tr>\n",
              "      <th>4796</th>\n",
              "      <td>0.399336</td>\n",
              "      <td>0.372521</td>\n",
              "      <td>0.397095</td>\n",
              "      <td>0.002429</td>\n",
              "    </tr>\n",
              "    <tr>\n",
              "      <th>4797</th>\n",
              "      <td>0.400664</td>\n",
              "      <td>0.376446</td>\n",
              "      <td>0.402682</td>\n",
              "      <td>0.001967</td>\n",
              "    </tr>\n",
              "    <tr>\n",
              "      <th>4798</th>\n",
              "      <td>0.405316</td>\n",
              "      <td>0.387397</td>\n",
              "      <td>0.408492</td>\n",
              "      <td>0.002922</td>\n",
              "    </tr>\n",
              "    <tr>\n",
              "      <th>4799</th>\n",
              "      <td>0.412846</td>\n",
              "      <td>0.386364</td>\n",
              "      <td>0.414302</td>\n",
              "      <td>0.002015</td>\n",
              "    </tr>\n",
              "  </tbody>\n",
              "</table>\n",
              "<p>4800 rows × 4 columns</p>\n",
              "</div>"
            ],
            "text/plain": [
              "          Open      High       Low    Volume\n",
              "0     0.008306  0.007986  0.007978  0.004136\n",
              "1     0.007907  0.007376  0.007341  0.004710\n",
              "2     0.007519  0.007541  0.007564  0.003586\n",
              "3     0.008660  0.008140  0.008223  0.009566\n",
              "4     0.008804  0.008781  0.008883  0.005295\n",
              "...        ...       ...       ...       ...\n",
              "4795  0.404208  0.377273  0.403352  0.001765\n",
              "4796  0.399336  0.372521  0.397095  0.002429\n",
              "4797  0.400664  0.376446  0.402682  0.001967\n",
              "4798  0.405316  0.387397  0.408492  0.002922\n",
              "4799  0.412846  0.386364  0.414302  0.002015\n",
              "\n",
              "[4800 rows x 4 columns]"
            ]
          },
          "metadata": {},
          "execution_count": 62
        }
      ]
    },
    {
      "cell_type": "code",
      "metadata": {
        "id": "HcAazdUD1luU"
      },
      "source": [
        "import tensorflow as tf\n",
        "def windowed_dataset(series, window_size, batch_size, shuffle):\n",
        "    series = tf.expand_dims(series, axis=-1)\n",
        "    ds = tf.data.Dataset.from_tensor_slices(series)\n",
        "    ds = ds.window(window_size + 1, shift=1, drop_remainder=True)\n",
        "    ds = ds.flat_map(lambda w: w.batch(window_size + 1))\n",
        "    if shuffle:\n",
        "        ds = ds.shuffle(1000)\n",
        "    ds = ds.map(lambda w: (w[:-1], w[-1]))\n",
        "    return ds.batch(batch_size).prefetch(1)"
      ],
      "execution_count": 63,
      "outputs": []
    },
    {
      "cell_type": "code",
      "metadata": {
        "id": "TKXfiJDS1oCh"
      },
      "source": [
        "WINDOW_SIZE=20\n",
        "BATCH_SIZE=32\n",
        "# trian_data는 학습용 데이터셋, test_data는 검증용 데이터셋 입니다.\n",
        "train_data = windowed_dataset(y_train, WINDOW_SIZE, BATCH_SIZE, True)\n",
        "test_data = windowed_dataset(y_test, WINDOW_SIZE, BATCH_SIZE, False)"
      ],
      "execution_count": 64,
      "outputs": []
    },
    {
      "cell_type": "code",
      "metadata": {
        "colab": {
          "base_uri": "https://localhost:8080/"
        },
        "id": "fm6KQXDu1r3R",
        "outputId": "54a0c9d2-e62a-4660-fbd6-854f653ce35d"
      },
      "source": [
        "# 아래의 코드로 데이터셋의 구성을 확인해 볼 수 있습니다.\n",
        "# X: (batch_size, window_size, feature)\n",
        "# Y: (batch_size, feature)\n",
        "for data in train_data.take(1):\n",
        "    print(f'데이터셋(X) 구성(batch_size, window_size, feature갯수): {data[0].shape}')\n",
        "    print(f'데이터셋(Y) 구성(batch_size, window_size, feature갯수): {data[1].shape}')"
      ],
      "execution_count": 65,
      "outputs": [
        {
          "output_type": "stream",
          "name": "stdout",
          "text": [
            "데이터셋(X) 구성(batch_size, window_size, feature갯수): (32, 20, 1)\n",
            "데이터셋(Y) 구성(batch_size, window_size, feature갯수): (32, 1)\n"
          ]
        }
      ]
    },
    {
      "cell_type": "code",
      "metadata": {
        "id": "TbqZV3xG1w2e"
      },
      "source": [
        "from tensorflow.keras.models import Sequential\n",
        "from tensorflow.keras.layers import Dense, LSTM, Conv1D, Lambda\n",
        "from tensorflow.keras.losses import Huber\n",
        "from tensorflow.keras.optimizers import Adam\n",
        "from tensorflow.keras.callbacks import EarlyStopping, ModelCheckpoint\n",
        "\n",
        "\n",
        "model = Sequential([\n",
        "    # 1차원 feature map 생성\n",
        "    Conv1D(filters=32, kernel_size=5,\n",
        "           padding=\"causal\",\n",
        "           activation=\"relu\",\n",
        "           input_shape=[WINDOW_SIZE, 1]),\n",
        "    # LSTM\n",
        "    LSTM(16, activation='tanh'),\n",
        "    Dense(16, activation=\"relu\"),\n",
        "    Dense(1),\n",
        "])"
      ],
      "execution_count": 66,
      "outputs": []
    },
    {
      "cell_type": "code",
      "metadata": {
        "id": "eJdXp1oO10cl"
      },
      "source": [
        "# Sequence 학습에 비교적 좋은 퍼포먼스를 내는 Huber()를 사용합니다.\n",
        "loss = Huber()\n",
        "optimizer = Adam(0.0005)\n",
        "model.compile(loss=Huber(), optimizer=optimizer, metrics=['mse'])"
      ],
      "execution_count": 67,
      "outputs": []
    },
    {
      "cell_type": "code",
      "metadata": {
        "id": "QRypD2I012tw"
      },
      "source": [
        "# earlystopping은 10번 epoch통안 val_loss 개선이 없다면 학습을 멈춥니다.\n",
        "earlystopping = EarlyStopping(monitor='val_loss', patience=10)\n",
        "# val_loss 기준 체크포인터도 생성합니다.\n",
        "filename = os.path.join('tmp', 'ckeckpointer.ckpt')\n",
        "checkpoint = ModelCheckpoint(filename, \n",
        "                             save_weights_only=True, \n",
        "                             save_best_only=True, \n",
        "                             monitor='val_loss', \n",
        "                             verbose=1)"
      ],
      "execution_count": 68,
      "outputs": []
    },
    {
      "cell_type": "code",
      "metadata": {
        "colab": {
          "base_uri": "https://localhost:8080/"
        },
        "id": "JiQdXOba2Eut",
        "outputId": "4e55fbbb-b640-4bc4-c9f9-9349c3cc98b0"
      },
      "source": [
        "history = model.fit(train_data, \n",
        "                    validation_data=(test_data), \n",
        "                    epochs=50, \n",
        "                    callbacks=[checkpoint, earlystopping])"
      ],
      "execution_count": 69,
      "outputs": [
        {
          "output_type": "stream",
          "name": "stdout",
          "text": [
            "Epoch 1/50\n",
            "    150/Unknown - 5s 14ms/step - loss: 6.3971e-05 - mse: 1.2794e-04\n",
            "Epoch 00001: val_loss improved from inf to 0.00453, saving model to tmp/ckeckpointer.ckpt\n",
            "150/150 [==============================] - 7s 25ms/step - loss: 6.3971e-05 - mse: 1.2794e-04 - val_loss: 0.0045 - val_mse: 0.0091\n",
            "Epoch 2/50\n",
            "149/150 [============================>.] - ETA: 0s - loss: 2.3727e-05 - mse: 4.7455e-05\n",
            "Epoch 00002: val_loss improved from 0.00453 to 0.00404, saving model to tmp/ckeckpointer.ckpt\n",
            "150/150 [==============================] - 3s 16ms/step - loss: 2.3715e-05 - mse: 4.7429e-05 - val_loss: 0.0040 - val_mse: 0.0081\n",
            "Epoch 3/50\n",
            "149/150 [============================>.] - ETA: 0s - loss: 2.2239e-05 - mse: 4.4478e-05\n",
            "Epoch 00003: val_loss improved from 0.00404 to 0.00393, saving model to tmp/ckeckpointer.ckpt\n",
            "150/150 [==============================] - 3s 17ms/step - loss: 2.2261e-05 - mse: 4.4522e-05 - val_loss: 0.0039 - val_mse: 0.0079\n",
            "Epoch 4/50\n",
            "150/150 [==============================] - ETA: 0s - loss: 2.1170e-05 - mse: 4.2339e-05\n",
            "Epoch 00004: val_loss improved from 0.00393 to 0.00253, saving model to tmp/ckeckpointer.ckpt\n",
            "150/150 [==============================] - 2s 16ms/step - loss: 2.1170e-05 - mse: 4.2339e-05 - val_loss: 0.0025 - val_mse: 0.0051\n",
            "Epoch 5/50\n",
            "149/150 [============================>.] - ETA: 0s - loss: 1.7951e-05 - mse: 3.5902e-05\n",
            "Epoch 00005: val_loss improved from 0.00253 to 0.00234, saving model to tmp/ckeckpointer.ckpt\n",
            "150/150 [==============================] - 3s 17ms/step - loss: 1.7950e-05 - mse: 3.5899e-05 - val_loss: 0.0023 - val_mse: 0.0047\n",
            "Epoch 6/50\n",
            "149/150 [============================>.] - ETA: 0s - loss: 1.7288e-05 - mse: 3.4577e-05\n",
            "Epoch 00006: val_loss improved from 0.00234 to 0.00177, saving model to tmp/ckeckpointer.ckpt\n",
            "150/150 [==============================] - 3s 17ms/step - loss: 1.7338e-05 - mse: 3.4676e-05 - val_loss: 0.0018 - val_mse: 0.0035\n",
            "Epoch 7/50\n",
            "148/150 [============================>.] - ETA: 0s - loss: 1.7208e-05 - mse: 3.4415e-05\n",
            "Epoch 00007: val_loss improved from 0.00177 to 0.00130, saving model to tmp/ckeckpointer.ckpt\n",
            "150/150 [==============================] - 3s 18ms/step - loss: 1.7416e-05 - mse: 3.4831e-05 - val_loss: 0.0013 - val_mse: 0.0026\n",
            "Epoch 8/50\n",
            "146/150 [============================>.] - ETA: 0s - loss: 1.6635e-05 - mse: 3.3269e-05\n",
            "Epoch 00008: val_loss improved from 0.00130 to 0.00122, saving model to tmp/ckeckpointer.ckpt\n",
            "150/150 [==============================] - 3s 17ms/step - loss: 1.7054e-05 - mse: 3.4108e-05 - val_loss: 0.0012 - val_mse: 0.0024\n",
            "Epoch 9/50\n",
            "148/150 [============================>.] - ETA: 0s - loss: 1.5654e-05 - mse: 3.1307e-05\n",
            "Epoch 00009: val_loss improved from 0.00122 to 0.00112, saving model to tmp/ckeckpointer.ckpt\n",
            "150/150 [==============================] - 3s 17ms/step - loss: 1.5658e-05 - mse: 3.1316e-05 - val_loss: 0.0011 - val_mse: 0.0022\n",
            "Epoch 10/50\n",
            "146/150 [============================>.] - ETA: 0s - loss: 1.5100e-05 - mse: 3.0200e-05\n",
            "Epoch 00010: val_loss did not improve from 0.00112\n",
            "150/150 [==============================] - 3s 17ms/step - loss: 1.5385e-05 - mse: 3.0770e-05 - val_loss: 0.0013 - val_mse: 0.0026\n",
            "Epoch 11/50\n",
            "150/150 [==============================] - ETA: 0s - loss: 1.3998e-05 - mse: 2.7995e-05\n",
            "Epoch 00011: val_loss improved from 0.00112 to 0.00084, saving model to tmp/ckeckpointer.ckpt\n",
            "150/150 [==============================] - 3s 17ms/step - loss: 1.3998e-05 - mse: 2.7995e-05 - val_loss: 8.3756e-04 - val_mse: 0.0017\n",
            "Epoch 12/50\n",
            "150/150 [==============================] - ETA: 0s - loss: 1.4170e-05 - mse: 2.8341e-05\n",
            "Epoch 00012: val_loss did not improve from 0.00084\n",
            "150/150 [==============================] - 3s 17ms/step - loss: 1.4170e-05 - mse: 2.8341e-05 - val_loss: 0.0011 - val_mse: 0.0023\n",
            "Epoch 13/50\n",
            "149/150 [============================>.] - ETA: 0s - loss: 1.3306e-05 - mse: 2.6612e-05\n",
            "Epoch 00013: val_loss did not improve from 0.00084\n",
            "150/150 [==============================] - 3s 17ms/step - loss: 1.3319e-05 - mse: 2.6638e-05 - val_loss: 0.0011 - val_mse: 0.0022\n",
            "Epoch 14/50\n",
            "146/150 [============================>.] - ETA: 0s - loss: 1.5082e-05 - mse: 3.0165e-05\n",
            "Epoch 00014: val_loss did not improve from 0.00084\n",
            "150/150 [==============================] - 3s 16ms/step - loss: 1.5176e-05 - mse: 3.0352e-05 - val_loss: 0.0011 - val_mse: 0.0021\n",
            "Epoch 15/50\n",
            "147/150 [============================>.] - ETA: 0s - loss: 1.5302e-05 - mse: 3.0604e-05\n",
            "Epoch 00015: val_loss did not improve from 0.00084\n",
            "150/150 [==============================] - 3s 18ms/step - loss: 1.5540e-05 - mse: 3.1079e-05 - val_loss: 8.6670e-04 - val_mse: 0.0017\n",
            "Epoch 16/50\n",
            "147/150 [============================>.] - ETA: 0s - loss: 1.3440e-05 - mse: 2.6880e-05\n",
            "Epoch 00016: val_loss improved from 0.00084 to 0.00080, saving model to tmp/ckeckpointer.ckpt\n",
            "150/150 [==============================] - 3s 17ms/step - loss: 1.3454e-05 - mse: 2.6907e-05 - val_loss: 8.0381e-04 - val_mse: 0.0016\n",
            "Epoch 17/50\n",
            "150/150 [==============================] - ETA: 0s - loss: 1.2527e-05 - mse: 2.5053e-05\n",
            "Epoch 00017: val_loss did not improve from 0.00080\n",
            "150/150 [==============================] - 3s 17ms/step - loss: 1.2527e-05 - mse: 2.5053e-05 - val_loss: 8.6095e-04 - val_mse: 0.0017\n",
            "Epoch 18/50\n",
            "148/150 [============================>.] - ETA: 0s - loss: 1.2142e-05 - mse: 2.4284e-05\n",
            "Epoch 00018: val_loss improved from 0.00080 to 0.00057, saving model to tmp/ckeckpointer.ckpt\n",
            "150/150 [==============================] - 3s 17ms/step - loss: 1.2179e-05 - mse: 2.4359e-05 - val_loss: 5.6843e-04 - val_mse: 0.0011\n",
            "Epoch 19/50\n",
            "150/150 [==============================] - ETA: 0s - loss: 1.2208e-05 - mse: 2.4415e-05\n",
            "Epoch 00019: val_loss did not improve from 0.00057\n",
            "150/150 [==============================] - 3s 17ms/step - loss: 1.2208e-05 - mse: 2.4415e-05 - val_loss: 7.1157e-04 - val_mse: 0.0014\n",
            "Epoch 20/50\n",
            "147/150 [============================>.] - ETA: 0s - loss: 1.1626e-05 - mse: 2.3252e-05\n",
            "Epoch 00020: val_loss did not improve from 0.00057\n",
            "150/150 [==============================] - 3s 17ms/step - loss: 1.1700e-05 - mse: 2.3399e-05 - val_loss: 8.2212e-04 - val_mse: 0.0016\n",
            "Epoch 21/50\n",
            "147/150 [============================>.] - ETA: 0s - loss: 1.3171e-05 - mse: 2.6343e-05\n",
            "Epoch 00021: val_loss improved from 0.00057 to 0.00036, saving model to tmp/ckeckpointer.ckpt\n",
            "150/150 [==============================] - 3s 18ms/step - loss: 1.3497e-05 - mse: 2.6993e-05 - val_loss: 3.6180e-04 - val_mse: 7.2359e-04\n",
            "Epoch 22/50\n",
            "150/150 [==============================] - ETA: 0s - loss: 1.3194e-05 - mse: 2.6389e-05\n",
            "Epoch 00022: val_loss did not improve from 0.00036\n",
            "150/150 [==============================] - 3s 17ms/step - loss: 1.3194e-05 - mse: 2.6389e-05 - val_loss: 4.9364e-04 - val_mse: 9.8727e-04\n",
            "Epoch 23/50\n",
            "148/150 [============================>.] - ETA: 0s - loss: 1.2105e-05 - mse: 2.4211e-05\n",
            "Epoch 00023: val_loss did not improve from 0.00036\n",
            "150/150 [==============================] - 3s 17ms/step - loss: 1.2203e-05 - mse: 2.4406e-05 - val_loss: 8.9002e-04 - val_mse: 0.0018\n",
            "Epoch 24/50\n",
            "149/150 [============================>.] - ETA: 0s - loss: 1.1210e-05 - mse: 2.2419e-05\n",
            "Epoch 00024: val_loss did not improve from 0.00036\n",
            "150/150 [==============================] - 3s 17ms/step - loss: 1.1235e-05 - mse: 2.2470e-05 - val_loss: 4.9396e-04 - val_mse: 9.8792e-04\n",
            "Epoch 25/50\n",
            "148/150 [============================>.] - ETA: 0s - loss: 1.0816e-05 - mse: 2.1631e-05\n",
            "Epoch 00025: val_loss did not improve from 0.00036\n",
            "150/150 [==============================] - 3s 17ms/step - loss: 1.0878e-05 - mse: 2.1755e-05 - val_loss: 4.4459e-04 - val_mse: 8.8918e-04\n",
            "Epoch 26/50\n",
            "148/150 [============================>.] - ETA: 0s - loss: 1.1758e-05 - mse: 2.3517e-05\n",
            "Epoch 00026: val_loss improved from 0.00036 to 0.00024, saving model to tmp/ckeckpointer.ckpt\n",
            "150/150 [==============================] - 3s 17ms/step - loss: 1.1904e-05 - mse: 2.3808e-05 - val_loss: 2.3681e-04 - val_mse: 4.7362e-04\n",
            "Epoch 27/50\n",
            "148/150 [============================>.] - ETA: 0s - loss: 1.2356e-05 - mse: 2.4712e-05\n",
            "Epoch 00027: val_loss did not improve from 0.00024\n",
            "150/150 [==============================] - 3s 17ms/step - loss: 1.2407e-05 - mse: 2.4815e-05 - val_loss: 6.3909e-04 - val_mse: 0.0013\n",
            "Epoch 28/50\n",
            "149/150 [============================>.] - ETA: 0s - loss: 1.0928e-05 - mse: 2.1856e-05\n",
            "Epoch 00028: val_loss did not improve from 0.00024\n",
            "150/150 [==============================] - 3s 18ms/step - loss: 1.0918e-05 - mse: 2.1837e-05 - val_loss: 8.4202e-04 - val_mse: 0.0017\n",
            "Epoch 29/50\n",
            "146/150 [============================>.] - ETA: 0s - loss: 1.1403e-05 - mse: 2.2806e-05\n",
            "Epoch 00029: val_loss did not improve from 0.00024\n",
            "150/150 [==============================] - 3s 18ms/step - loss: 1.1457e-05 - mse: 2.2913e-05 - val_loss: 5.5469e-04 - val_mse: 0.0011\n",
            "Epoch 30/50\n",
            "146/150 [============================>.] - ETA: 0s - loss: 1.1227e-05 - mse: 2.2454e-05\n",
            "Epoch 00030: val_loss did not improve from 0.00024\n",
            "150/150 [==============================] - 3s 18ms/step - loss: 1.1488e-05 - mse: 2.2975e-05 - val_loss: 7.0966e-04 - val_mse: 0.0014\n",
            "Epoch 31/50\n",
            "149/150 [============================>.] - ETA: 0s - loss: 1.0826e-05 - mse: 2.1652e-05\n",
            "Epoch 00031: val_loss did not improve from 0.00024\n",
            "150/150 [==============================] - 3s 18ms/step - loss: 1.0819e-05 - mse: 2.1637e-05 - val_loss: 6.2293e-04 - val_mse: 0.0012\n",
            "Epoch 32/50\n",
            "147/150 [============================>.] - ETA: 0s - loss: 9.9229e-06 - mse: 1.9846e-05\n",
            "Epoch 00032: val_loss did not improve from 0.00024\n",
            "150/150 [==============================] - 3s 17ms/step - loss: 1.0020e-05 - mse: 2.0040e-05 - val_loss: 4.3160e-04 - val_mse: 8.6320e-04\n",
            "Epoch 33/50\n",
            "146/150 [============================>.] - ETA: 0s - loss: 1.0364e-05 - mse: 2.0727e-05\n",
            "Epoch 00033: val_loss did not improve from 0.00024\n",
            "150/150 [==============================] - 3s 17ms/step - loss: 1.0571e-05 - mse: 2.1142e-05 - val_loss: 4.8317e-04 - val_mse: 9.6635e-04\n",
            "Epoch 34/50\n",
            "149/150 [============================>.] - ETA: 0s - loss: 1.2083e-05 - mse: 2.4167e-05\n",
            "Epoch 00034: val_loss did not improve from 0.00024\n",
            "150/150 [==============================] - 3s 17ms/step - loss: 1.2126e-05 - mse: 2.4252e-05 - val_loss: 7.8654e-04 - val_mse: 0.0016\n",
            "Epoch 35/50\n",
            "146/150 [============================>.] - ETA: 0s - loss: 1.1800e-05 - mse: 2.3600e-05\n",
            "Epoch 00035: val_loss did not improve from 0.00024\n",
            "150/150 [==============================] - 3s 18ms/step - loss: 1.2320e-05 - mse: 2.4640e-05 - val_loss: 6.6932e-04 - val_mse: 0.0013\n",
            "Epoch 36/50\n",
            "146/150 [============================>.] - ETA: 0s - loss: 1.1271e-05 - mse: 2.2542e-05\n",
            "Epoch 00036: val_loss did not improve from 0.00024\n",
            "150/150 [==============================] - 3s 16ms/step - loss: 1.1773e-05 - mse: 2.3546e-05 - val_loss: 4.3010e-04 - val_mse: 8.6021e-04\n"
          ]
        }
      ]
    },
    {
      "cell_type": "code",
      "metadata": {
        "colab": {
          "base_uri": "https://localhost:8080/"
        },
        "id": "jJBxs6Qt2ILU",
        "outputId": "3c998cc8-096f-4745-c1e2-52a036eed45a"
      },
      "source": [
        "model.load_weights(filename)"
      ],
      "execution_count": 70,
      "outputs": [
        {
          "output_type": "execute_result",
          "data": {
            "text/plain": [
              "<tensorflow.python.training.tracking.util.CheckpointLoadStatus at 0x7f216ccc1110>"
            ]
          },
          "metadata": {},
          "execution_count": 70
        }
      ]
    },
    {
      "cell_type": "code",
      "metadata": {
        "id": "ULexkRU02NWp"
      },
      "source": [
        "pred = model.predict(test_data)"
      ],
      "execution_count": null,
      "outputs": []
    },
    {
      "cell_type": "code",
      "metadata": {
        "id": "rxGB_cy62Ol1"
      },
      "source": [
        "pred.shape"
      ],
      "execution_count": null,
      "outputs": []
    },
    {
      "cell_type": "code",
      "metadata": {
        "id": "UNwN6bcP3RL7"
      },
      "source": [
        "plt.figure(figsize=(12, 9))\n",
        "plt.plot(np.asarray(y_test)[20:], label='actual')\n",
        "plt.plot(pred, label='prediction')\n",
        "plt.legend()\n",
        "plt.show()"
      ],
      "execution_count": null,
      "outputs": []
    },
    {
      "cell_type": "markdown",
      "metadata": {
        "id": "7zhj_0Xas_sY"
      },
      "source": [
        "###MANY2MANY: n개의 input 투입하여 m개의 output생성"
      ]
    }
  ]
}