{
  "nbformat": 4,
  "nbformat_minor": 0,
  "metadata": {
    "colab": {
      "name": "exam07_classification_mnist.ipynb",
      "provenance": [],
      "authorship_tag": "ABX9TyMhgCQcIVUHqxnCQLKH/Gqn",
      "include_colab_link": true
    },
    "kernelspec": {
      "name": "python3",
      "display_name": "Python 3"
    },
    "language_info": {
      "name": "python"
    }
  },
  "cells": [
    {
      "cell_type": "markdown",
      "metadata": {
        "id": "view-in-github",
        "colab_type": "text"
      },
      "source": [
        "<a href=\"https://colab.research.google.com/github/eunpro/academy/blob/main/exam07_classification_mnist.ipynb\" target=\"_parent\"><img src=\"https://colab.research.google.com/assets/colab-badge.svg\" alt=\"Open In Colab\"/></a>"
      ]
    },
    {
      "cell_type": "code",
      "metadata": {
        "id": "5XSQUXPbs9W9"
      },
      "source": [
        "#onehot인코더\n",
        "import numpy as np\n",
        "import matplotlib.pyplot as plt\n",
        "from tensorflow.keras.models import Sequential\n",
        "from tensorflow.keras.layers import Dense\n",
        "from tensorflow.keras.optimizers import Adam\n",
        "from keras.utils import np_utils\n",
        "from tensorflow.keras import datasets"
      ],
      "execution_count": null,
      "outputs": []
    },
    {
      "cell_type": "code",
      "metadata": {
        "colab": {
          "base_uri": "https://localhost:8080/"
        },
        "id": "3pZ4U8MSvZCf",
        "outputId": "5c19505a-a84b-4178-c463-b9bf97d5ce58"
      },
      "source": [
        "#mnist: 28*28픽셀에 0~255값에 따라 색상 부여해서 이미지 뽑음\n",
        "(X_train, Y_train),(X_test, Y_test) = datasets.mnist.load_data() \n",
        "print(X_train.shape, Y_train.shape)\n",
        "print(X_test.shape, Y_test.shape)"
      ],
      "execution_count": null,
      "outputs": [
        {
          "output_type": "stream",
          "text": [
            "(60000, 28, 28) (60000,)\n",
            "(10000, 28, 28) (10000,)\n"
          ],
          "name": "stdout"
        }
      ]
    },
    {
      "cell_type": "code",
      "metadata": {
        "colab": {
          "base_uri": "https://localhost:8080/",
          "height": 1000
        },
        "id": "bBfAcNM8wD5u",
        "outputId": "60642754-db2b-4757-8f7c-fb2b1510a52b"
      },
      "source": [
        "#0~255 사이 숫자가 클수록 밝은색 나타냄\n",
        "my_sample = np.random.randint(60000) #0~5999 중 하나 뽑음\n",
        "plt.imshow(X_train[my_sample],cmap='brg') #cmap색상지정\n",
        "#plt.imshow(X_train[my_sample])#색상 임의로 입혀준 것\n",
        "plt.show()\n",
        "print(Y_train[my_sample])\n",
        "print(X_train[my_sample])"
      ],
      "execution_count": null,
      "outputs": [
        {
          "output_type": "display_data",
          "data": {
            "image/png": "[encoded data removed]",
            "text/plain": [
              "<Figure size 432x288 with 1 Axes>"
            ]
          },
          "metadata": {
            "tags": [],
            "needs_background": "light"
          }
        },
        {
          "output_type": "stream",
          "text": [
            "5\n",
            "[[  0   0   0   0   0   0   0   0   0   0   0   0   0   0   0   0   0   0\n",
            "    0   0   0   0   0   0   0   0   0   0]\n",
            " [  0   0   0   0   0   0   0   0   0   0   0   0   0   0   0   0   0   0\n",
            "    0   0   0   0   0   0   0   0   0   0]\n",
            " [  0   0   0   0   0   0   0   0   0   0   0   0   0   0   0   0   0   0\n",
            "    0   0   0   0   0   0   0   0   0   0]\n",
            " [  0   0   0   0   0   0   0   0   0   0   0   0   0   0   0   0   0   0\n",
            "    0   0   0   0   0   0   0   0   0   0]\n",
            " [  0   0   0   0   0   0   0   0   0   0   0   0   0   0   0   0   0   0\n",
            "    0   0   0   0   0   0   0   0   0   0]\n",
            " [  0   0   0   0   0   0   0   0   0   0   0   0   0   0   0   0   0   0\n",
            "    0   0   0   0   0   0   0   0   0   0]\n",
            " [  0   0   0   0   0   0   0   0   0   0   0   0   0   0   0   0   0   0\n",
            "    0   0   0  30   0   0  30   0   0   0]\n",
            " [  0   0   0   0   0   0   0   0   0   0   0   0   0   0   0   0   0  70\n",
            "  100 206 210 229 210 210 229 162   0   0]\n",
            " [  0   0   0   0   0   0   0   0   0   0   0  18 124 133 166 243 244 250\n",
            "  253 253 253 236 231 231 231 183   0   0]\n",
            " [  0   0   0   0   0   0   0   0   0   0   0 199 253 253 253 253 223 198\n",
            "  198  92  88  19   0   0   0   0   0   0]\n",
            " [  0   0   0   0   0   0   0   0   0   0   0 199 253 219  89 165  24   0\n",
            "    0   0   0   0   0   0   0   0   0   0]\n",
            " [  0   0   0   0   0   0   0   0   0  11 146 249 195  61   0   0   0   0\n",
            "    0   0   0   0   0   0   0   0   0   0]\n",
            " [  0   0   0   0   0   0   0   0   0 110 253 253  84   0   0   0   0   0\n",
            "    0   0   0   0   0   0   0   0   0   0]\n",
            " [  0   0   0   0   0   0   0   0  75 251 253 253 222 188 154  10   0   0\n",
            "    0   0   0   0   0   0   0   0   0   0]\n",
            " [  0   0   0   0   0   0   0   0  13 196 253 253 253 253 253 177   0   0\n",
            "    0   0   0   0   0   0   0   0   0   0]\n",
            " [  0   0   0   0   0   0   0   0   0   0   0   0   0  39 246 255  63   0\n",
            "    0   0   0   0   0   0   0   0   0   0]\n",
            " [  0   0   0   0   0   0   0   0   0   0   0   0   0   0 188 253 111   0\n",
            "    0   0   0   0   0   0   0   0   0   0]\n",
            " [  0   0   0   0   0   0   0   0   0   0   0   0   0   0 188 253 111   0\n",
            "    0   0   0   0   0   0   0   0   0   0]\n",
            " [  0   0   0   0   0   0   0   0   0   0   0   0   0  24 222 253 102   0\n",
            "    0   0   0   0   0   0   0   0   0   0]\n",
            " [  0   0   0   0   0   0  32  17   0   0   0   0  32 181 253 229   0   0\n",
            "    0   0   0   0   0   0   0   0   0   0]\n",
            " [  0   0   0   0   0   0 182  77   0   8  89 128 225 253 253  56   0   0\n",
            "    0   0   0   0   0   0   0   0   0   0]\n",
            " [  0   0   0   0   0   0 148 239 232 234 253 253 248 223  50   3   0   0\n",
            "    0   0   0   0   0   0   0   0   0   0]\n",
            " [  0   0   0   0   0   0  13 187 253 250 209 123  52   0   0   0   0   0\n",
            "    0   0   0   0   0   0   0   0   0   0]\n",
            " [  0   0   0   0   0   0   0  18  66  60   0   0   0   0   0   0   0   0\n",
            "    0   0   0   0   0   0   0   0   0   0]\n",
            " [  0   0   0   0   0   0   0   0   0   0   0   0   0   0   0   0   0   0\n",
            "    0   0   0   0   0   0   0   0   0   0]\n",
            " [  0   0   0   0   0   0   0   0   0   0   0   0   0   0   0   0   0   0\n",
            "    0   0   0   0   0   0   0   0   0   0]\n",
            " [  0   0   0   0   0   0   0   0   0   0   0   0   0   0   0   0   0   0\n",
            "    0   0   0   0   0   0   0   0   0   0]\n",
            " [  0   0   0   0   0   0   0   0   0   0   0   0   0   0   0   0   0   0\n",
            "    0   0   0   0   0   0   0   0   0   0]]\n"
          ],
          "name": "stdout"
        }
      ]
    },
    {
      "cell_type": "code",
      "metadata": {
        "id": "TAAlfxItx5NG"
      },
      "source": [
        "#label을 10개까지 OneHot encoder로 변형\n",
        "#keras에 np_utils포함됨\n",
        "#OneHot encoder: 희소행렬로 변환시켜줌\n",
        "#to_categorical 사용하면 onehot인코더 적용됨 \n",
        "y_train = np_utils.to_categorical(Y_train) #희소행렬에서 1값의 위치 알려줌\n",
        "y_test = np_utils.to_categorical(Y_test) #희소행렬 나열해서 보여줌"
      ],
      "execution_count": null,
      "outputs": []
    },
    {
      "cell_type": "code",
      "metadata": {
        "colab": {
          "base_uri": "https://localhost:8080/"
        },
        "id": "oRJzXnSGyvlY",
        "outputId": "944d6a28-b4bd-4566-c30f-b3dc678d9067"
      },
      "source": [
        "print(Y_train[2000])\n",
        "print(y_train[2000])#값에 따른 희소행렬 위치를 나타내줌"
      ],
      "execution_count": null,
      "outputs": [
        {
          "output_type": "stream",
          "text": [
            "5\n",
            "[0. 0. 0. 0. 0. 1. 0. 0. 0. 0.]\n"
          ],
          "name": "stdout"
        }
      ]
    },
    {
      "cell_type": "code",
      "metadata": {
        "colab": {
          "base_uri": "https://localhost:8080/"
        },
        "id": "HMfN62kZzijq",
        "outputId": "a71e4250-2b3a-4363-acc1-0179ba91144a"
      },
      "source": [
        "#minmax스케일링: 최소값이 0, 최대값이 1되도록 스케일링\n",
        "x_train = X_train.reshape(-1, 28*28)#28*28=784\n",
        "x_test = X_test.reshape(-1, 28*28)\n",
        "x_train = x_train / 255 #=> minmax스케일링 : 0~1사이의 값으로 나타내기 위해 \n",
        "x_test = x_test / 255 #=> minmax스케일링 : 0~1사이의 값으로 나타내기 위해 \n",
        "print(x_train.shape)"
      ],
      "execution_count": null,
      "outputs": [
        {
          "output_type": "stream",
          "text": [
            "(60000, 784)\n"
          ],
          "name": "stdout"
        }
      ]
    },
    {
      "cell_type": "markdown",
      "metadata": {
        "id": "kVW-isYg1zNe"
      },
      "source": [
        "모델링 작업"
      ]
    },
    {
      "cell_type": "code",
      "metadata": {
        "id": "bmG1JwVd1yXD"
      },
      "source": [
        "model = Sequential()\n",
        "model.add(Dense(256, input_dim=784,\n",
        "                activation='relu'))\n",
        "model.add(Dense(128, activation='relu'))\n",
        "model.add(Dense(256, activation='relu'))\n",
        "#다중분류기에서는 맨 마지막 function은 softmax사용\n",
        "#softmax의 총 합 1\n",
        "model.add(Dense(10,activation='softmax'))  #output10개"
      ],
      "execution_count": null,
      "outputs": []
    },
    {
      "cell_type": "code",
      "metadata": {
        "colab": {
          "base_uri": "https://localhost:8080/"
        },
        "id": "xdgOCxlF0PXg",
        "outputId": "d5d3da42-7139-4182-b0f6-11ab6fc89ec1"
      },
      "source": [
        "#learning rate: 어느 정도의 크기로 기울기가 줄어드는 지점으로 이동하겠는가를 나타내는 지표\n",
        "opt = Adam(lr = 0.01) #발산할 수 있으므로 learning rate설정\n",
        "model.compile(opt, loss='categorical_crossentropy',\n",
        "              metrics=['accuracy'])\n",
        "print(model.summary())"
      ],
      "execution_count": null,
      "outputs": [
        {
          "output_type": "stream",
          "text": [
            "Model: \"sequential_10\"\n",
            "_________________________________________________________________\n",
            "Layer (type)                 Output Shape              Param #   \n",
            "=================================================================\n",
            "dense_37 (Dense)             (None, 256)               200960    \n",
            "_________________________________________________________________\n",
            "dense_38 (Dense)             (None, 128)               32896     \n",
            "_________________________________________________________________\n",
            "dense_39 (Dense)             (None, 256)               33024     \n",
            "_________________________________________________________________\n",
            "dense_40 (Dense)             (None, 10)                2570      \n",
            "=================================================================\n",
            "Total params: 269,450\n",
            "Trainable params: 269,450\n",
            "Non-trainable params: 0\n",
            "_________________________________________________________________\n",
            "None\n"
          ],
          "name": "stdout"
        },
        {
          "output_type": "stream",
          "text": [
            "/usr/local/lib/python3.7/dist-packages/tensorflow/python/keras/optimizer_v2/optimizer_v2.py:375: UserWarning: The `lr` argument is deprecated, use `learning_rate` instead.\n",
            "  \"The `lr` argument is deprecated, use `learning_rate` instead.\")\n"
          ],
          "name": "stderr"
        }
      ]
    },
    {
      "cell_type": "markdown",
      "metadata": {
        "id": "k3f08wgICSnn"
      },
      "source": [
        "트레인데이터가6만개면 배치사이즈 천 주면 1000개씩 60그룹으로 랜덤으로 나눔\n",
        "\n",
        "에포크: 총 6만개를 몇번 돌릴지\n",
        "\n",
        "배치사이즈: 6만개를 얼마 크기로 나눠서 학습시킬지"
      ]
    },
    {
      "cell_type": "code",
      "metadata": {
        "colab": {
          "base_uri": "https://localhost:8080/"
        },
        "id": "xZUrvhM95tKL",
        "outputId": "8281dfd5-43ae-425e-85ab-80efb8926b61"
      },
      "source": [
        "fit_hist = model.fit(x_train, y_train,\n",
        "                     batch_size=600, epochs=10, validation_split=0.2, verbose=1)"
      ],
      "execution_count": null,
      "outputs": [
        {
          "output_type": "stream",
          "text": [
            "Epoch 1/10\n",
            "80/80 [==============================] - 2s 24ms/step - loss: 0.0275 - accuracy: 0.9913 - val_loss: 0.0372 - val_accuracy: 0.9882\n",
            "Epoch 2/10\n",
            "80/80 [==============================] - 2s 21ms/step - loss: 0.0306 - accuracy: 0.9903 - val_loss: 0.0595 - val_accuracy: 0.9827\n",
            "Epoch 3/10\n",
            "80/80 [==============================] - 2s 21ms/step - loss: 0.0254 - accuracy: 0.9924 - val_loss: 0.0468 - val_accuracy: 0.9872\n",
            "Epoch 4/10\n",
            "80/80 [==============================] - 2s 21ms/step - loss: 0.0263 - accuracy: 0.9918 - val_loss: 0.0523 - val_accuracy: 0.9849\n",
            "Epoch 5/10\n",
            "80/80 [==============================] - 2s 21ms/step - loss: 0.0198 - accuracy: 0.9937 - val_loss: 0.0451 - val_accuracy: 0.9873\n",
            "Epoch 6/10\n",
            "80/80 [==============================] - 2s 21ms/step - loss: 0.0218 - accuracy: 0.9934 - val_loss: 0.0602 - val_accuracy: 0.9846\n",
            "Epoch 7/10\n",
            "80/80 [==============================] - 2s 21ms/step - loss: 0.0260 - accuracy: 0.9923 - val_loss: 0.0675 - val_accuracy: 0.9827\n",
            "Epoch 8/10\n",
            "80/80 [==============================] - 2s 21ms/step - loss: 0.0202 - accuracy: 0.9935 - val_loss: 0.0701 - val_accuracy: 0.9813\n",
            "Epoch 9/10\n",
            "80/80 [==============================] - 2s 22ms/step - loss: 0.0285 - accuracy: 0.9917 - val_loss: 0.0829 - val_accuracy: 0.9816\n",
            "Epoch 10/10\n",
            "80/80 [==============================] - 2s 22ms/step - loss: 0.0235 - accuracy: 0.9931 - val_loss: 0.0773 - val_accuracy: 0.9821\n"
          ],
          "name": "stdout"
        }
      ]
    },
    {
      "cell_type": "code",
      "metadata": {
        "colab": {
          "base_uri": "https://localhost:8080/"
        },
        "id": "hk5Hn0PJ6E2x",
        "outputId": "d57567a1-bf3f-4f15-c774-97052c903223"
      },
      "source": [
        "score = model.evaluate(x_test,y_test, verbose=0)\n",
        "print('Final test set accuracy : ', score[1])"
      ],
      "execution_count": null,
      "outputs": [
        {
          "output_type": "stream",
          "text": [
            "Final test set accuracy :  0.975600004196167\n"
          ],
          "name": "stdout"
        }
      ]
    },
    {
      "cell_type": "markdown",
      "metadata": {
        "id": "4dDVz-UmJtYD"
      },
      "source": [
        "fit_hist = model.fit(x_train, y_train,\n",
        "                     batch_size=600, epochs=10, validation_split=0.2, verbose=1)\n",
        "\n",
        " validation_split=0.2 지정하면 val_accuracy 생성됨\n"
      ]
    },
    {
      "cell_type": "code",
      "metadata": {
        "colab": {
          "base_uri": "https://localhost:8080/",
          "height": 265
        },
        "id": "Q8AESb07ChJ5",
        "outputId": "84b973a8-ad47-4936-9188-775b8f61102a"
      },
      "source": [
        "plt.plot(fit_hist.history['accuracy'])\n",
        "plt.plot(fit_hist.history['val_accuracy'])\n",
        "plt.show()"
      ],
      "execution_count": null,
      "outputs": [
        {
          "output_type": "display_data",
          "data": {
            "image/png": "[encoded data removed]",
            "text/plain": [
              "<Figure size 432x288 with 1 Axes>"
            ]
          },
          "metadata": {
            "tags": [],
            "needs_background": "light"
          }
        }
      ]
    },
    {
      "cell_type": "code",
      "metadata": {
        "colab": {
          "base_uri": "https://localhost:8080/",
          "height": 334
        },
        "id": "iCfgkKlRDAEM",
        "outputId": "61aa8f13-49ed-4a3d-ab8f-abbb422a455d"
      },
      "source": [
        "my_sample = np.random.randint(10000)\n",
        "plt.imshow(X_test[my_sample])\n",
        "print(Y_test[my_sample])\n",
        "pred = model.predict(x_test[my_sample].reshape(-1,784))\n",
        "print(pred)\n",
        "print(np.argmax(pred))"
      ],
      "execution_count": null,
      "outputs": [
        {
          "output_type": "stream",
          "text": [
            "5\n",
            "[[4.8013821e-17 1.5947821e-20 1.6582004e-16 1.6438843e-09 2.3131120e-20\n",
            "  1.0000000e+00 5.3377904e-16 2.2356457e-17 1.3742693e-12 1.7190324e-11]]\n",
            "5\n"
          ],
          "name": "stdout"
        },
        {
          "output_type": "display_data",
          "data": {
            "image/png": "[encoded data removed]",
            "text/plain": [
              "<Figure size 432x288 with 1 Axes>"
            ]
          },
          "metadata": {
            "tags": [],
            "needs_background": "light"
          }
        }
      ]
    }
  ]
}